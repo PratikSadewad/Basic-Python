{
 "cells": [
  {
   "cell_type": "markdown",
   "id": "e17c7c63-8713-4edb-984b-c0c864f6c4f6",
   "metadata": {},
   "source": [
    "# Data structure \\ List\n",
    "\n",
    "### data type have one value : int str bool complex\n",
    "### data structure have multiple value \n",
    "#### 1.inbuild --list , set , tuple, dict \n",
    "#### 2.user defined-- stack , queue\n",
    "### matrics collections of data structures "
   ]
  },
  {
   "cell_type": "markdown",
   "id": "4aa7bb9e-3810-4bb2-a430-841aefbbbb81",
   "metadata": {},
   "source": [
    "i = 5\n",
    "type (i)"
   ]
  },
  {
   "cell_type": "code",
   "execution_count": 21,
   "id": "732c98a4-cc42-4180-825c-f23d1459e568",
   "metadata": {},
   "outputs": [
    {
     "data": {
      "text/plain": [
       "float"
      ]
     },
     "execution_count": 21,
     "metadata": {},
     "output_type": "execute_result"
    }
   ],
   "source": [
    "i =5.5 \n",
    "type(i)\n"
   ]
  },
  {
   "cell_type": "code",
   "execution_count": 22,
   "id": "0b16a804-690b-466c-8392-9a582c6f9da4",
   "metadata": {},
   "outputs": [],
   "source": [
    "# list\n",
    "## Data structure \n"
   ]
  },
  {
   "cell_type": "code",
   "execution_count": 15,
   "id": "27a2110b-be91-4dde-8aff-3d08ada8e14d",
   "metadata": {},
   "outputs": [
    {
     "data": {
      "text/plain": [
       "list"
      ]
     },
     "execution_count": 15,
     "metadata": {},
     "output_type": "execute_result"
    }
   ],
   "source": [
    "l = [ ]\n",
    "l\n",
    "type(l)"
   ]
  },
  {
   "cell_type": "code",
   "execution_count": 72,
   "id": "2596feac-fa42-4741-8bab-662d36329ca8",
   "metadata": {},
   "outputs": [],
   "source": [
    "l = [10]"
   ]
  },
  {
   "cell_type": "code",
   "execution_count": 74,
   "id": "e1943466-b626-4e94-b84c-491826d92c0d",
   "metadata": {},
   "outputs": [
    {
     "ename": "TypeError",
     "evalue": "'builtin_function_or_method' object is not subscriptable",
     "output_type": "error",
     "traceback": [
      "\u001b[1;31m---------------------------------------------------------------------------\u001b[0m",
      "\u001b[1;31mTypeError\u001b[0m                                 Traceback (most recent call last)",
      "Cell \u001b[1;32mIn[74], line 1\u001b[0m\n\u001b[1;32m----> 1\u001b[0m l\u001b[38;5;241m.\u001b[39mappend[\u001b[38;5;241m10\u001b[39m]\n",
      "\u001b[1;31mTypeError\u001b[0m: 'builtin_function_or_method' object is not subscriptable"
     ]
    }
   ],
   "source": [
    "l.append[10]"
   ]
  },
  {
   "cell_type": "code",
   "execution_count": 66,
   "id": "a67d6edf-0713-4a6c-a87a-a4f81918005f",
   "metadata": {},
   "outputs": [],
   "source": [
    "l.append(20)\n",
    "l.append(30)\n",
    "l.append(40)\n",
    "l.append(50)\n"
   ]
  },
  {
   "cell_type": "code",
   "execution_count": 27,
   "id": "cdcc9489-5959-46de-81c7-d7ebbecdf997",
   "metadata": {},
   "outputs": [
    {
     "ename": "TypeError",
     "evalue": "list.append() takes exactly one argument (3 given)",
     "output_type": "error",
     "traceback": [
      "\u001b[1;31m---------------------------------------------------------------------------\u001b[0m",
      "\u001b[1;31mTypeError\u001b[0m                                 Traceback (most recent call last)",
      "Cell \u001b[1;32mIn[27], line 1\u001b[0m\n\u001b[1;32m----> 1\u001b[0m l\u001b[38;5;241m.\u001b[39mappend(\u001b[38;5;241m10\u001b[39m,\u001b[38;5;241m20\u001b[39m,\u001b[38;5;241m30\u001b[39m)\n\u001b[0;32m      2\u001b[0m l\n",
      "\u001b[1;31mTypeError\u001b[0m: list.append() takes exactly one argument (3 given)"
     ]
    }
   ],
   "source": [
    "l.append(10,20,30)"
   ]
  },
  {
   "cell_type": "code",
   "execution_count": 68,
   "id": "767ee9f8-66fb-4c73-b877-eafaa588513a",
   "metadata": {},
   "outputs": [
    {
     "data": {
      "text/plain": [
       "[20, 30, 40, 50, 20, 30, 40, 50, 10, 20, 30, 40, 50, 10]"
      ]
     },
     "execution_count": 68,
     "metadata": {},
     "output_type": "execute_result"
    }
   ],
   "source": [
    "l.append(10)\n",
    "l"
   ]
  },
  {
   "cell_type": "code",
   "execution_count": null,
   "id": "e565a86e-ffa6-456c-b2ba-fc66eba0bdf1",
   "metadata": {},
   "outputs": [],
   "source": [
    "#duplication is allowed  in list .\n",
    "multiple datatypes can be defined"
   ]
  },
  {
   "cell_type": "code",
   "execution_count": 58,
   "id": "6d375b34-154c-4dea-8a17-05e0a84bcf2c",
   "metadata": {},
   "outputs": [
    {
     "data": {
      "text/plain": [
       "9"
      ]
     },
     "execution_count": 58,
     "metadata": {},
     "output_type": "execute_result"
    }
   ],
   "source": [
    "len(l)\n"
   ]
  },
  {
   "cell_type": "code",
   "execution_count": null,
   "id": "b98a91d2-8e41-4fb8-af56-fe700696756f",
   "metadata": {},
   "outputs": [],
   "source": [
    "l1=l.copy()\n",
    "l1"
   ]
  },
  {
   "cell_type": "code",
   "execution_count": null,
   "id": "bf2fdb96-9efb-4732-8be5-6db84ee18c43",
   "metadata": {},
   "outputs": [],
   "source": [
    "len(l1)"
   ]
  },
  {
   "cell_type": "code",
   "execution_count": 70,
   "id": "fec1c216-381c-483b-a00f-699115c6caad",
   "metadata": {},
   "outputs": [
    {
     "ename": "NameError",
     "evalue": "name 'l1' is not defined",
     "output_type": "error",
     "traceback": [
      "\u001b[1;31m---------------------------------------------------------------------------\u001b[0m",
      "\u001b[1;31mNameError\u001b[0m                                 Traceback (most recent call last)",
      "Cell \u001b[1;32mIn[70], line 1\u001b[0m\n\u001b[1;32m----> 1\u001b[0m l1\u001b[38;5;241m.\u001b[39mappend(\u001b[38;5;241m20.2\u001b[39m)\n\u001b[0;32m      2\u001b[0m l1\u001b[38;5;241m.\u001b[39mappend(\u001b[38;5;124m'\u001b[39m\u001b[38;5;124mnit\u001b[39m\u001b[38;5;124m'\u001b[39m)\n\u001b[0;32m      3\u001b[0m l1\u001b[38;5;241m.\u001b[39mappend(\u001b[38;5;241m1\u001b[39m\u001b[38;5;241m+\u001b[39m\u001b[38;5;241m2\u001b[39mj)\n",
      "\u001b[1;31mNameError\u001b[0m: name 'l1' is not defined"
     ]
    }
   ],
   "source": [
    "l1.append(20.2)\n",
    "l1.append('nit')\n",
    "l1.append(1+2j)\n",
    "l1.append([1,5,6])"
   ]
  },
  {
   "cell_type": "code",
   "execution_count": null,
   "id": "1122dbde-b91a-43ea-bb91-1c44ed61cf57",
   "metadata": {},
   "outputs": [],
   "source": [
    "l1"
   ]
  },
  {
   "cell_type": "code",
   "execution_count": 60,
   "id": "31d724db-210c-458f-b697-17b425c8149d",
   "metadata": {},
   "outputs": [
    {
     "name": "stdout",
     "output_type": "stream",
     "text": [
      "[20, 30, 40, 50, 20, 30, 40, 50, 10]\n"
     ]
    },
    {
     "ename": "NameError",
     "evalue": "name 'l1' is not defined",
     "output_type": "error",
     "traceback": [
      "\u001b[1;31m---------------------------------------------------------------------------\u001b[0m",
      "\u001b[1;31mNameError\u001b[0m                                 Traceback (most recent call last)",
      "Cell \u001b[1;32mIn[60], line 2\u001b[0m\n\u001b[0;32m      1\u001b[0m \u001b[38;5;28mprint\u001b[39m(l)\n\u001b[1;32m----> 2\u001b[0m \u001b[38;5;28mprint\u001b[39m (l1)\n",
      "\u001b[1;31mNameError\u001b[0m: name 'l1' is not defined"
     ]
    }
   ],
   "source": [
    "print(l)\n",
    "print (l1)"
   ]
  },
  {
   "cell_type": "code",
   "execution_count": null,
   "id": "5a3c339d-380a-412b-a9b3-e7f167f90fcb",
   "metadata": {},
   "outputs": [],
   "source": [
    "#list inside list is called nested list\n"
   ]
  },
  {
   "cell_type": "code",
   "execution_count": null,
   "id": "c52b41cf-e964-4f61-bf71-fb34ff3bfed9",
   "metadata": {},
   "outputs": [],
   "source": [
    "print(len(l))\n",
    "print(len(l1))"
   ]
  },
  {
   "cell_type": "code",
   "execution_count": null,
   "id": "0b5b602e-0bac-4356-a30f-cc68643e8657",
   "metadata": {},
   "outputs": [],
   "source": [
    "l ==l1"
   ]
  },
  {
   "cell_type": "code",
   "execution_count": null,
   "id": "0d8a31a0-f13d-4bf0-ae0d-1465e3becf52",
   "metadata": {},
   "outputs": [],
   "source": [
    "l2 = l.copy()"
   ]
  },
  {
   "cell_type": "code",
   "execution_count": null,
   "id": "71326186-7ed9-4d11-9aa8-7a9b30324742",
   "metadata": {},
   "outputs": [],
   "source": [
    "l2"
   ]
  },
  {
   "cell_type": "code",
   "execution_count": null,
   "id": "efddb412-072f-434b-949c-e233fee2bb12",
   "metadata": {},
   "outputs": [],
   "source": [
    "l2==l"
   ]
  },
  {
   "cell_type": "code",
   "execution_count": null,
   "id": "47aa11f4-a460-4e96-85b5-1e43ecaff4ec",
   "metadata": {},
   "outputs": [],
   "source": [
    "print (l)\n",
    "print (l1)\n",
    "print (l2)\n"
   ]
  },
  {
   "cell_type": "code",
   "execution_count": null,
   "id": "178514f7-2a8c-43f1-a9b8-9cf4c8be91c5",
   "metadata": {},
   "outputs": [],
   "source": [
    "l[:]"
   ]
  },
  {
   "cell_type": "code",
   "execution_count": null,
   "id": "bc982f03-7476-47de-bba5-b53bd9e0ddb9",
   "metadata": {},
   "outputs": [],
   "source": [
    "l[0]"
   ]
  },
  {
   "cell_type": "code",
   "execution_count": null,
   "id": "fa74ab2a-05a1-4164-983c-7f79f46dd500",
   "metadata": {},
   "outputs": [],
   "source": [
    "l[0:100]"
   ]
  },
  {
   "cell_type": "code",
   "execution_count": null,
   "id": "e63a070b-0557-4d8c-92ae-74274a7023e1",
   "metadata": {},
   "outputs": [],
   "source": [
    "l[0] = 100"
   ]
  },
  {
   "cell_type": "code",
   "execution_count": null,
   "id": "4eefaed1-0c62-4d9d-abc3-9624ce0511b2",
   "metadata": {},
   "outputs": [],
   "source": [
    "l"
   ]
  },
  {
   "cell_type": "code",
   "execution_count": null,
   "id": "6d974beb-c27e-489b-a048-6f88128fa529",
   "metadata": {},
   "outputs": [],
   "source": [
    "l[-1] = 200"
   ]
  },
  {
   "cell_type": "code",
   "execution_count": null,
   "id": "a005f4ba-8b7b-42f4-8274-11a8dbc55312",
   "metadata": {},
   "outputs": [],
   "source": [
    "l"
   ]
  },
  {
   "cell_type": "code",
   "execution_count": null,
   "id": "ef18a827-5c66-4864-8d2c-7ebc8bcc2ac0",
   "metadata": {},
   "outputs": [],
   "source": [
    "#list is mutable i.e changable\n"
   ]
  },
  {
   "cell_type": "code",
   "execution_count": null,
   "id": "5633b3c3-6a43-4c42-b057-d6a9034baa9a",
   "metadata": {},
   "outputs": [],
   "source": [
    "l[6:]"
   ]
  },
  {
   "cell_type": "code",
   "execution_count": null,
   "id": "c02a0834-fe0e-49a2-885f-0850234e51be",
   "metadata": {},
   "outputs": [],
   "source": [
    "l[55]"
   ]
  },
  {
   "cell_type": "code",
   "execution_count": null,
   "id": "f523d838-216a-43ad-8189-eaf9fb4e641b",
   "metadata": {},
   "outputs": [],
   "source": [
    "l[55:]"
   ]
  },
  {
   "cell_type": "code",
   "execution_count": null,
   "id": "d04b2652-9f7f-4f74-a560-49afcaaba141",
   "metadata": {},
   "outputs": [],
   "source": [
    "l[:55]"
   ]
  },
  {
   "cell_type": "code",
   "execution_count": null,
   "id": "1d719799-2954-402a-83ad-ac57dc20d17a",
   "metadata": {},
   "outputs": [],
   "source": [
    "l[:15]"
   ]
  },
  {
   "cell_type": "code",
   "execution_count": null,
   "id": "d06d3ce2-45df-43a7-a593-89836eecf8d4",
   "metadata": {},
   "outputs": [],
   "source": [
    "l[-1]"
   ]
  },
  {
   "cell_type": "code",
   "execution_count": null,
   "id": "97957d03-86e2-4be0-a7ee-70688069507a",
   "metadata": {},
   "outputs": [],
   "source": [
    "l2.clear()\n"
   ]
  },
  {
   "cell_type": "code",
   "execution_count": null,
   "id": "5e0763ad-3ad0-4fc5-959d-789d74bd7179",
   "metadata": {},
   "outputs": [],
   "source": [
    "l2"
   ]
  },
  {
   "cell_type": "code",
   "execution_count": null,
   "id": "5448baa6-3b05-42aa-8e82-4cb89c16a5cc",
   "metadata": {},
   "outputs": [],
   "source": [
    "del(l2)"
   ]
  },
  {
   "cell_type": "code",
   "execution_count": null,
   "id": "b1b1d31d-5e96-4bf9-ad78-4c8916d5f3b1",
   "metadata": {},
   "outputs": [],
   "source": [
    "#dl to delete evrything including variable and value \n",
    "#clear emptys the value "
   ]
  },
  {
   "cell_type": "code",
   "execution_count": null,
   "id": "abc5d248-84ea-4829-98be-27ad71fff610",
   "metadata": {},
   "outputs": [],
   "source": [
    "l1[0:18:8]"
   ]
  },
  {
   "cell_type": "code",
   "execution_count": null,
   "id": "07135c10-8de0-4f99-a4dc-517cf730ed05",
   "metadata": {},
   "outputs": [],
   "source": [
    "l1.index('nit')"
   ]
  },
  {
   "cell_type": "code",
   "execution_count": null,
   "id": "4dd474e0-2793-439a-81e0-8eb5d414a459",
   "metadata": {},
   "outputs": [],
   "source": [
    "#square bracket[] is used for list "
   ]
  },
  {
   "cell_type": "code",
   "execution_count": 64,
   "id": "0ea96bae-adc1-4f34-afad-e786e5a748b3",
   "metadata": {},
   "outputs": [
    {
     "name": "stdout",
     "output_type": "stream",
     "text": [
      "[20, 30, 40, 50, 20, 30, 40, 50, 10]\n"
     ]
    },
    {
     "ename": "NameError",
     "evalue": "name 'l1' is not defined",
     "output_type": "error",
     "traceback": [
      "\u001b[1;31m---------------------------------------------------------------------------\u001b[0m",
      "\u001b[1;31mNameError\u001b[0m                                 Traceback (most recent call last)",
      "Cell \u001b[1;32mIn[64], line 2\u001b[0m\n\u001b[0;32m      1\u001b[0m \u001b[38;5;28mprint\u001b[39m(l)\n\u001b[1;32m----> 2\u001b[0m \u001b[38;5;28mprint\u001b[39m(l1)\n",
      "\u001b[1;31mNameError\u001b[0m: name 'l1' is not defined"
     ]
    }
   ],
   "source": [
    "print(l)\n",
    "print(l1)"
   ]
  },
  {
   "cell_type": "code",
   "execution_count": null,
   "id": "606b23ea-51ea-4b65-990d-18ba394f9b1b",
   "metadata": {},
   "outputs": [],
   "source": [
    "l.append[10]\n",
    "l.append(20)\n",
    "l.append(30)\n",
    "l.append(40)\n",
    "l.append(50)\n"
   ]
  },
  {
   "cell_type": "code",
   "execution_count": null,
   "id": "5b450f01-7be2-49a0-a063-a74875ec6c8b",
   "metadata": {},
   "outputs": [],
   "source": []
  }
 ],
 "metadata": {
  "kernelspec": {
   "display_name": "Python [conda env:base] *",
   "language": "python",
   "name": "conda-base-py"
  },
  "language_info": {
   "codemirror_mode": {
    "name": "ipython",
    "version": 3
   },
   "file_extension": ".py",
   "mimetype": "text/x-python",
   "name": "python",
   "nbconvert_exporter": "python",
   "pygments_lexer": "ipython3",
   "version": "3.12.3"
  }
 },
 "nbformat": 4,
 "nbformat_minor": 5
}
