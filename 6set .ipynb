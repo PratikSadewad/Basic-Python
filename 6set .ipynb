{
 "cells": [
  {
   "cell_type": "markdown",
   "id": "ba461949-31d4-410b-ae86-47741e778127",
   "metadata": {},
   "source": [
    "# SET"
   ]
  },
  {
   "cell_type": "code",
   "execution_count": 8,
   "id": "d6a34626-c8c9-4cc6-84de-8cda7fc0abe1",
   "metadata": {},
   "outputs": [
    {
     "data": {
      "text/plain": [
       "{}"
      ]
     },
     "execution_count": 8,
     "metadata": {},
     "output_type": "execute_result"
    }
   ],
   "source": [
    "s = {}\n",
    "s"
   ]
  },
  {
   "cell_type": "code",
   "execution_count": 10,
   "id": "b3499064-cf9b-4774-b763-367459073fe6",
   "metadata": {},
   "outputs": [
    {
     "data": {
      "text/plain": [
       "dict"
      ]
     },
     "execution_count": 10,
     "metadata": {},
     "output_type": "execute_result"
    }
   ],
   "source": [
    "type(s)"
   ]
  },
  {
   "cell_type": "code",
   "execution_count": 12,
   "id": "2fc1f65b-3e90-45f3-a39a-5e88bfd69d0c",
   "metadata": {},
   "outputs": [
    {
     "data": {
      "text/plain": [
       "set"
      ]
     },
     "execution_count": 12,
     "metadata": {},
     "output_type": "execute_result"
    }
   ],
   "source": [
    "s1 =set()\n",
    "type(s1)"
   ]
  },
  {
   "cell_type": "code",
   "execution_count": 14,
   "id": "25c75b32-e06b-4361-b3ea-a09165731440",
   "metadata": {},
   "outputs": [],
   "source": [
    "s1.add(10)"
   ]
  },
  {
   "cell_type": "code",
   "execution_count": 16,
   "id": "72897ca3-875c-43a7-8c5a-aed4061eaf59",
   "metadata": {},
   "outputs": [
    {
     "data": {
      "text/plain": [
       "{10}"
      ]
     },
     "execution_count": 16,
     "metadata": {},
     "output_type": "execute_result"
    }
   ],
   "source": [
    "s1"
   ]
  },
  {
   "cell_type": "code",
   "execution_count": 18,
   "id": "39bb5b62-9d5a-4527-99d8-33202a8661b3",
   "metadata": {},
   "outputs": [],
   "source": [
    "s1.add(20)\n",
    "s1.add('nit')\n"
   ]
  },
  {
   "cell_type": "code",
   "execution_count": 20,
   "id": "4b7f387b-0398-4139-9342-d3c8d629a53c",
   "metadata": {},
   "outputs": [],
   "source": [
    "s1.add(True)\n",
    "s1.add(1+2j)\n",
    "s1.add(1.1)"
   ]
  },
  {
   "cell_type": "code",
   "execution_count": 22,
   "id": "3921fb31-9b9c-4666-a154-eb61288158fa",
   "metadata": {},
   "outputs": [
    {
     "data": {
      "text/plain": [
       "{(1+2j), 1.1, 10, 20, True, 'nit'}"
      ]
     },
     "execution_count": 22,
     "metadata": {},
     "output_type": "execute_result"
    }
   ],
   "source": [
    "s1"
   ]
  },
  {
   "cell_type": "code",
   "execution_count": 24,
   "id": "66daa679-b64d-4a1b-a929-a70f0257e454",
   "metadata": {},
   "outputs": [
    {
     "data": {
      "text/plain": [
       "set()"
      ]
     },
     "execution_count": 24,
     "metadata": {},
     "output_type": "execute_result"
    }
   ],
   "source": [
    "s2=set()\n",
    "s2"
   ]
  },
  {
   "cell_type": "code",
   "execution_count": 26,
   "id": "95b1a377-5e77-458e-9d27-c657fc58e84d",
   "metadata": {},
   "outputs": [
    {
     "ename": "TypeError",
     "evalue": "set.add() takes exactly one argument (2 given)",
     "output_type": "error",
     "traceback": [
      "\u001b[1;31m---------------------------------------------------------------------------\u001b[0m",
      "\u001b[1;31mTypeError\u001b[0m                                 Traceback (most recent call last)",
      "Cell \u001b[1;32mIn[26], line 1\u001b[0m\n\u001b[1;32m----> 1\u001b[0m s2\u001b[38;5;241m.\u001b[39madd(\u001b[38;5;241m10\u001b[39m, \u001b[38;5;241m65\u001b[39m)\n",
      "\u001b[1;31mTypeError\u001b[0m: set.add() takes exactly one argument (2 given)"
     ]
    }
   ],
   "source": [
    "s2.add(10, 65)# only one argument can be added \n"
   ]
  },
  {
   "cell_type": "code",
   "execution_count": 28,
   "id": "796401e6-3bfd-4a89-9e01-a6e30a65c772",
   "metadata": {},
   "outputs": [],
   "source": [
    "s2.add(100)\n",
    "s2.add(10)\n",
    "s2.add(200)\n",
    "s2.add(9)"
   ]
  },
  {
   "cell_type": "code",
   "execution_count": 30,
   "id": "c7ab53cc-4333-4aa0-90f9-0ed71c83c8dc",
   "metadata": {},
   "outputs": [
    {
     "data": {
      "text/plain": [
       "{9, 10, 100, 200}"
      ]
     },
     "execution_count": 30,
     "metadata": {},
     "output_type": "execute_result"
    }
   ],
   "source": [
    "s2"
   ]
  },
  {
   "cell_type": "markdown",
   "id": "d315364b-2a40-4466-82f1-25bac3d2f7ae",
   "metadata": {},
   "source": [
    "##similar datatype are  added in  assending order in set automaticaly (float , string , int )\n"
   ]
  },
  {
   "cell_type": "code",
   "execution_count": 33,
   "id": "e72e8be3-c8ed-446f-9707-b03ef40ca1af",
   "metadata": {},
   "outputs": [],
   "source": [
    "s3 =set()"
   ]
  },
  {
   "cell_type": "code",
   "execution_count": 35,
   "id": "31f8c212-fcc2-41d5-b456-fd9db6e6bbe1",
   "metadata": {},
   "outputs": [],
   "source": [
    "s3.add('a')\n",
    "s3.add('q')\n",
    "s3.add('k')\n",
    "s3.add('e')\n"
   ]
  },
  {
   "cell_type": "code",
   "execution_count": 37,
   "id": "f1d8968e-f47c-422e-be5e-af4ee5f4e968",
   "metadata": {},
   "outputs": [
    {
     "name": "stdout",
     "output_type": "stream",
     "text": [
      "{True, 1.1, (1+2j), 10, 20, 'nit'}\n"
     ]
    }
   ],
   "source": [
    "print (s1)\n"
   ]
  },
  {
   "cell_type": "code",
   "execution_count": 39,
   "id": "096885b0-f1b7-4582-a77d-ec29d10b51ee",
   "metadata": {},
   "outputs": [
    {
     "name": "stdout",
     "output_type": "stream",
     "text": [
      "{200, 9, 10, 100}\n",
      "{'e', 'k', 'a', 'q'}\n"
     ]
    }
   ],
   "source": [
    "print(s2)\n",
    "print(s3)"
   ]
  },
  {
   "cell_type": "code",
   "execution_count": 41,
   "id": "d9d029b6-d730-4ee8-b2a3-d7b6a63f7aa5",
   "metadata": {},
   "outputs": [
    {
     "name": "stdout",
     "output_type": "stream",
     "text": [
      "4\n"
     ]
    }
   ],
   "source": [
    "print(len(s3))"
   ]
  },
  {
   "cell_type": "code",
   "execution_count": 43,
   "id": "7c1d9d4d-2af7-4ecc-9557-9781756db53a",
   "metadata": {},
   "outputs": [
    {
     "ename": "TypeError",
     "evalue": "'set' object is not subscriptable",
     "output_type": "error",
     "traceback": [
      "\u001b[1;31m---------------------------------------------------------------------------\u001b[0m",
      "\u001b[1;31mTypeError\u001b[0m                                 Traceback (most recent call last)",
      "Cell \u001b[1;32mIn[43], line 1\u001b[0m\n\u001b[1;32m----> 1\u001b[0m s3[\u001b[38;5;241m0\u001b[39m]\n",
      "\u001b[1;31mTypeError\u001b[0m: 'set' object is not subscriptable"
     ]
    }
   ],
   "source": [
    "s3[0] # indexing "
   ]
  },
  {
   "cell_type": "code",
   "execution_count": 45,
   "id": "57381719-c06c-4636-9904-58e5d255c838",
   "metadata": {},
   "outputs": [
    {
     "ename": "TypeError",
     "evalue": "'set' object is not subscriptable",
     "output_type": "error",
     "traceback": [
      "\u001b[1;31m---------------------------------------------------------------------------\u001b[0m",
      "\u001b[1;31mTypeError\u001b[0m                                 Traceback (most recent call last)",
      "Cell \u001b[1;32mIn[45], line 1\u001b[0m\n\u001b[1;32m----> 1\u001b[0m s2[\u001b[38;5;241m0\u001b[39m:]\n",
      "\u001b[1;31mTypeError\u001b[0m: 'set' object is not subscriptable"
     ]
    }
   ],
   "source": [
    "s2[0:] # slicing "
   ]
  },
  {
   "cell_type": "markdown",
   "id": "1c22d959-c0c9-44cb-8956-358a2daa76dc",
   "metadata": {},
   "source": [
    "#### indexing and slicing does not work in set \n"
   ]
  },
  {
   "cell_type": "code",
   "execution_count": 48,
   "id": "bc960742-f6b0-4a43-9e90-05458e409d1f",
   "metadata": {},
   "outputs": [],
   "source": [
    "s4= s3.copy()"
   ]
  },
  {
   "cell_type": "code",
   "execution_count": 50,
   "id": "531b8ca4-61a1-45d6-9ac8-d80c545c8b27",
   "metadata": {},
   "outputs": [
    {
     "data": {
      "text/plain": [
       "{'a', 'e', 'k', 'q'}"
      ]
     },
     "execution_count": 50,
     "metadata": {},
     "output_type": "execute_result"
    }
   ],
   "source": [
    "s3"
   ]
  },
  {
   "cell_type": "code",
   "execution_count": 52,
   "id": "2f193b9f-43d4-4076-8377-b246583defd4",
   "metadata": {},
   "outputs": [
    {
     "data": {
      "text/plain": [
       "{'a', 'e', 'k', 'q'}"
      ]
     },
     "execution_count": 52,
     "metadata": {},
     "output_type": "execute_result"
    }
   ],
   "source": [
    "s4"
   ]
  },
  {
   "cell_type": "code",
   "execution_count": 54,
   "id": "623dc4ae-82b3-46b0-abb4-96d7b984c6f7",
   "metadata": {},
   "outputs": [
    {
     "data": {
      "text/plain": [
       "True"
      ]
     },
     "execution_count": 54,
     "metadata": {},
     "output_type": "execute_result"
    }
   ],
   "source": [
    "s3 == s4"
   ]
  },
  {
   "cell_type": "code",
   "execution_count": 56,
   "id": "f37d5d05-2075-41ab-b9a7-ede557ebf713",
   "metadata": {},
   "outputs": [],
   "source": [
    "s4.clear()"
   ]
  },
  {
   "cell_type": "code",
   "execution_count": 58,
   "id": "1108b8ae-6414-4a63-824f-82dba74424c4",
   "metadata": {},
   "outputs": [
    {
     "data": {
      "text/plain": [
       "set()"
      ]
     },
     "execution_count": 58,
     "metadata": {},
     "output_type": "execute_result"
    }
   ],
   "source": [
    "s4"
   ]
  },
  {
   "cell_type": "code",
   "execution_count": 60,
   "id": "92d851d1-5577-4f13-b1a6-ad21dafc66fe",
   "metadata": {},
   "outputs": [],
   "source": [
    "del s4"
   ]
  },
  {
   "cell_type": "code",
   "execution_count": 62,
   "id": "81bba6fe-91dc-409e-9f74-5b9614473b79",
   "metadata": {},
   "outputs": [
    {
     "ename": "NameError",
     "evalue": "name 's4' is not defined",
     "output_type": "error",
     "traceback": [
      "\u001b[1;31m---------------------------------------------------------------------------\u001b[0m",
      "\u001b[1;31mNameError\u001b[0m                                 Traceback (most recent call last)",
      "Cell \u001b[1;32mIn[62], line 1\u001b[0m\n\u001b[1;32m----> 1\u001b[0m s4\n",
      "\u001b[1;31mNameError\u001b[0m: name 's4' is not defined"
     ]
    }
   ],
   "source": [
    "s4"
   ]
  },
  {
   "cell_type": "code",
   "execution_count": 64,
   "id": "b3a3c322-c4dd-4f14-9d4e-62fb8cd3800e",
   "metadata": {},
   "outputs": [],
   "source": [
    "s4 = s2.copy()"
   ]
  },
  {
   "cell_type": "code",
   "execution_count": 66,
   "id": "01bb4dfa-8055-447a-a5f6-33ba6e1179b8",
   "metadata": {},
   "outputs": [
    {
     "data": {
      "text/plain": [
       "{9, 10, 100, 200}"
      ]
     },
     "execution_count": 66,
     "metadata": {},
     "output_type": "execute_result"
    }
   ],
   "source": [
    "s4"
   ]
  },
  {
   "cell_type": "code",
   "execution_count": 68,
   "id": "ad936bfc-e52e-466b-bf90-c8f6ef4c03ac",
   "metadata": {},
   "outputs": [
    {
     "data": {
      "text/plain": [
       "200"
      ]
     },
     "execution_count": 68,
     "metadata": {},
     "output_type": "execute_result"
    }
   ],
   "source": [
    "s4.pop()"
   ]
  },
  {
   "cell_type": "code",
   "execution_count": 70,
   "id": "f0b5146d-2c51-439a-a512-71d5f29a1c44",
   "metadata": {},
   "outputs": [
    {
     "data": {
      "text/plain": [
       "9"
      ]
     },
     "execution_count": 70,
     "metadata": {},
     "output_type": "execute_result"
    }
   ],
   "source": [
    "s4.pop()"
   ]
  },
  {
   "cell_type": "markdown",
   "id": "f9312257-461e-4000-bca9-bba3b54b38ce",
   "metadata": {},
   "source": [
    "### in list the last value is removed but in set inorderd or random value is removed )"
   ]
  },
  {
   "cell_type": "code",
   "execution_count": 73,
   "id": "8305d262-0640-442d-bc3c-23660fb15b4e",
   "metadata": {},
   "outputs": [
    {
     "ename": "TypeError",
     "evalue": "set.pop() takes no arguments (1 given)",
     "output_type": "error",
     "traceback": [
      "\u001b[1;31m---------------------------------------------------------------------------\u001b[0m",
      "\u001b[1;31mTypeError\u001b[0m                                 Traceback (most recent call last)",
      "Cell \u001b[1;32mIn[73], line 1\u001b[0m\n\u001b[1;32m----> 1\u001b[0m s1\u001b[38;5;241m.\u001b[39mpop(\u001b[38;5;241m0\u001b[39m)\n",
      "\u001b[1;31mTypeError\u001b[0m: set.pop() takes no arguments (1 given)"
     ]
    }
   ],
   "source": [
    "s1.pop(0)"
   ]
  },
  {
   "cell_type": "code",
   "execution_count": 75,
   "id": "51f11074-5d75-4991-a37f-36568813e45c",
   "metadata": {},
   "outputs": [],
   "source": [
    "# indexing and slicing is not allowed hence "
   ]
  },
  {
   "cell_type": "code",
   "execution_count": 77,
   "id": "157d561c-0237-4592-9e49-f3ab43595587",
   "metadata": {},
   "outputs": [
    {
     "data": {
      "text/plain": [
       "{(1+2j), 1.1, 10, 20, True, 'nit'}"
      ]
     },
     "execution_count": 77,
     "metadata": {},
     "output_type": "execute_result"
    }
   ],
   "source": [
    "s1"
   ]
  },
  {
   "cell_type": "code",
   "execution_count": 79,
   "id": "b9c67f94-6bd1-40b3-90cd-79eb71a20e25",
   "metadata": {},
   "outputs": [],
   "source": [
    "s1.remove((1+2j))"
   ]
  },
  {
   "cell_type": "markdown",
   "id": "620a43e7-475f-4f0f-ad80-9f7d2c0884a0",
   "metadata": {},
   "source": [
    "# "
   ]
  },
  {
   "cell_type": "code",
   "execution_count": 82,
   "id": "41d67f9c-0ca9-4225-8f40-1d81094663e1",
   "metadata": {},
   "outputs": [
    {
     "data": {
      "text/plain": [
       "{1.1, 10, 20, True, 'nit'}"
      ]
     },
     "execution_count": 82,
     "metadata": {},
     "output_type": "execute_result"
    }
   ],
   "source": [
    "s1"
   ]
  },
  {
   "cell_type": "code",
   "execution_count": 84,
   "id": "a925f9b6-5e15-4f47-9449-7f5c4a7757cb",
   "metadata": {},
   "outputs": [
    {
     "name": "stdout",
     "output_type": "stream",
     "text": [
      "(0, True)\n",
      "(1, 1.1)\n",
      "(2, 10)\n",
      "(3, 20)\n",
      "(4, 'nit')\n"
     ]
    }
   ],
   "source": [
    "for i in enumerate(s1):\n",
    "    print(i)"
   ]
  },
  {
   "cell_type": "code",
   "execution_count": 86,
   "id": "f4e1a022-d7f6-42cf-b04e-2c09fd0d9bbb",
   "metadata": {},
   "outputs": [
    {
     "name": "stdout",
     "output_type": "stream",
     "text": [
      "True\n",
      "1.1\n",
      "10\n",
      "20\n",
      "nit\n"
     ]
    }
   ],
   "source": [
    "for i in (s1):\n",
    "    print(i)"
   ]
  },
  {
   "cell_type": "markdown",
   "id": "a795e90f-9e49-47ba-bc3c-e51fc283e297",
   "metadata": {},
   "source": [
    "## set operation"
   ]
  },
  {
   "cell_type": "code",
   "execution_count": 89,
   "id": "50828124-d94b-4b17-ad6a-52e155e0d377",
   "metadata": {},
   "outputs": [],
   "source": [
    "a = {1,2,3,4,5,6}\n",
    "b = {4,5,6,8,7}\n",
    "c ={5,8,9,7,9,}"
   ]
  },
  {
   "cell_type": "code",
   "execution_count": 91,
   "id": "20097fb2-40a8-4eb2-8989-b4c4f01fc665",
   "metadata": {},
   "outputs": [
    {
     "data": {
      "text/plain": [
       "{1, 2, 3, 4, 5, 6, 7, 8}"
      ]
     },
     "execution_count": 91,
     "metadata": {},
     "output_type": "execute_result"
    }
   ],
   "source": [
    "a | b"
   ]
  },
  {
   "cell_type": "code",
   "execution_count": 93,
   "id": "0e71ef37-2ce3-47ee-9592-3eaf6546219f",
   "metadata": {},
   "outputs": [
    {
     "data": {
      "text/plain": [
       "{4, 5, 6, 7, 8, 9}"
      ]
     },
     "execution_count": 93,
     "metadata": {},
     "output_type": "execute_result"
    }
   ],
   "source": [
    "b.union(c)"
   ]
  },
  {
   "cell_type": "code",
   "execution_count": 95,
   "id": "1bd950b4-8b97-4835-86d4-188c92b66601",
   "metadata": {},
   "outputs": [
    {
     "data": {
      "text/plain": [
       "{1, 2, 3, 4, 5, 6, 7, 8, 9}"
      ]
     },
     "execution_count": 95,
     "metadata": {},
     "output_type": "execute_result"
    }
   ],
   "source": [
    "a.union(b,c)"
   ]
  },
  {
   "cell_type": "code",
   "execution_count": 97,
   "id": "89330ab5-0b4a-4263-91d8-c242ccf5b0b9",
   "metadata": {},
   "outputs": [
    {
     "data": {
      "text/plain": [
       "{1, 2, 3, 4, 5, 6, 7, 8, 9}"
      ]
     },
     "execution_count": 97,
     "metadata": {},
     "output_type": "execute_result"
    }
   ],
   "source": [
    " c |b | a "
   ]
  },
  {
   "cell_type": "markdown",
   "id": "1330e533-bcf2-4f40-a218-f3d18e81ee97",
   "metadata": {},
   "source": [
    "## update"
   ]
  },
  {
   "cell_type": "code",
   "execution_count": 100,
   "id": "2d9830e6-7dc2-411b-a0fb-5cad4bbd6fda",
   "metadata": {},
   "outputs": [
    {
     "data": {
      "text/plain": [
       "{1, 2, 3, 4, 5, 6}"
      ]
     },
     "execution_count": 100,
     "metadata": {},
     "output_type": "execute_result"
    }
   ],
   "source": [
    "a"
   ]
  },
  {
   "cell_type": "code",
   "execution_count": 102,
   "id": "96d7a78e-40b6-42c8-b4a4-5f489739176f",
   "metadata": {},
   "outputs": [
    {
     "data": {
      "text/plain": [
       "{4, 5, 6, 7, 8}"
      ]
     },
     "execution_count": 102,
     "metadata": {},
     "output_type": "execute_result"
    }
   ],
   "source": [
    "b"
   ]
  },
  {
   "cell_type": "code",
   "execution_count": 104,
   "id": "06fa0ced-ce1f-4348-9436-d425bf39d866",
   "metadata": {},
   "outputs": [
    {
     "data": {
      "text/plain": [
       "{5, 7, 8, 9}"
      ]
     },
     "execution_count": 104,
     "metadata": {},
     "output_type": "execute_result"
    }
   ],
   "source": [
    "c"
   ]
  },
  {
   "cell_type": "code",
   "execution_count": 106,
   "id": "7e82aa1c-f969-47cd-bdde-6d172b173a17",
   "metadata": {},
   "outputs": [],
   "source": [
    "c.update(b)"
   ]
  },
  {
   "cell_type": "code",
   "execution_count": 108,
   "id": "a0120d59-9a00-42bd-a21d-f611067103b8",
   "metadata": {},
   "outputs": [
    {
     "data": {
      "text/plain": [
       "{4, 5, 6, 7, 8, 9}"
      ]
     },
     "execution_count": 108,
     "metadata": {},
     "output_type": "execute_result"
    }
   ],
   "source": [
    "c"
   ]
  },
  {
   "cell_type": "code",
   "execution_count": 110,
   "id": "c79c1614-11c4-43e5-87dd-fdee70a6440e",
   "metadata": {},
   "outputs": [],
   "source": [
    "# b is merged into c but b is still intact "
   ]
  },
  {
   "cell_type": "code",
   "execution_count": 112,
   "id": "f919bf65-5e01-4279-9a72-f773b4328862",
   "metadata": {},
   "outputs": [
    {
     "data": {
      "text/plain": [
       "{4, 5, 6, 7, 8}"
      ]
     },
     "execution_count": 112,
     "metadata": {},
     "output_type": "execute_result"
    }
   ],
   "source": [
    "b"
   ]
  },
  {
   "cell_type": "code",
   "execution_count": 114,
   "id": "ed71f514-d44f-410c-8fad-a60f16d7f3b6",
   "metadata": {},
   "outputs": [
    {
     "name": "stdout",
     "output_type": "stream",
     "text": [
      "{1, 2, 3, 4, 5, 6}\n",
      "{4, 5, 6, 7, 8}\n",
      "{4, 5, 6, 7, 8, 9}\n"
     ]
    }
   ],
   "source": [
    "print (a)\n",
    "print(b)\n",
    "print(c)"
   ]
  },
  {
   "cell_type": "code",
   "execution_count": 116,
   "id": "92cb4b7c-7a59-41aa-851b-a78e442ca0c2",
   "metadata": {},
   "outputs": [
    {
     "data": {
      "text/plain": [
       "{4, 5, 6}"
      ]
     },
     "execution_count": 116,
     "metadata": {},
     "output_type": "execute_result"
    }
   ],
   "source": [
    "a & b"
   ]
  },
  {
   "cell_type": "code",
   "execution_count": 118,
   "id": "77536c9c-9125-443c-a2cc-f14657ea9a71",
   "metadata": {},
   "outputs": [
    {
     "data": {
      "text/plain": [
       "{4, 5, 6, 7, 8}"
      ]
     },
     "execution_count": 118,
     "metadata": {},
     "output_type": "execute_result"
    }
   ],
   "source": [
    "b.intersection(c)"
   ]
  },
  {
   "cell_type": "code",
   "execution_count": 120,
   "id": "89e0b6af-aa55-4d2b-965b-bd93e575b9e0",
   "metadata": {},
   "outputs": [
    {
     "data": {
      "text/plain": [
       "{4, 5, 6}"
      ]
     },
     "execution_count": 120,
     "metadata": {},
     "output_type": "execute_result"
    }
   ],
   "source": [
    " a & b & c"
   ]
  },
  {
   "cell_type": "markdown",
   "id": "779c2239-bda5-435b-b37f-868833dced88",
   "metadata": {},
   "source": [
    "## difference \n"
   ]
  },
  {
   "cell_type": "code",
   "execution_count": 123,
   "id": "b6f8b542-a2d5-4476-8247-e73dfa4a3c3d",
   "metadata": {},
   "outputs": [
    {
     "name": "stdout",
     "output_type": "stream",
     "text": [
      "{1, 2, 3, 4, 5, 6}\n",
      "{4, 5, 6, 7, 8}\n",
      "{4, 5, 6, 7, 8, 9}\n"
     ]
    }
   ],
   "source": [
    "print(a)\n",
    "print(b)\n",
    "print(c)"
   ]
  },
  {
   "cell_type": "code",
   "execution_count": 125,
   "id": "7ea21f89-6c7a-46c3-abfd-ecf6efff6baf",
   "metadata": {},
   "outputs": [
    {
     "data": {
      "text/plain": [
       "{1, 2, 3}"
      ]
     },
     "execution_count": 125,
     "metadata": {},
     "output_type": "execute_result"
    }
   ],
   "source": [
    " a - b "
   ]
  },
  {
   "cell_type": "code",
   "execution_count": 127,
   "id": "4c99780d-5f39-4313-8c9b-804ee03e43f2",
   "metadata": {},
   "outputs": [
    {
     "data": {
      "text/plain": [
       "set()"
      ]
     },
     "execution_count": 127,
     "metadata": {},
     "output_type": "execute_result"
    }
   ],
   "source": [
    "b - c"
   ]
  },
  {
   "cell_type": "code",
   "execution_count": 129,
   "id": "61994941-6f20-489d-add9-f7992bd4a137",
   "metadata": {},
   "outputs": [
    {
     "data": {
      "text/plain": [
       "{9}"
      ]
     },
     "execution_count": 129,
     "metadata": {},
     "output_type": "execute_result"
    }
   ],
   "source": [
    "c - b"
   ]
  },
  {
   "cell_type": "code",
   "execution_count": 131,
   "id": "b49910c8-efbe-419a-804d-819dbbbac5ee",
   "metadata": {},
   "outputs": [
    {
     "data": {
      "text/plain": [
       "{7, 8, 9}"
      ]
     },
     "execution_count": 131,
     "metadata": {},
     "output_type": "execute_result"
    }
   ],
   "source": [
    "c.difference(a)"
   ]
  },
  {
   "cell_type": "code",
   "execution_count": 140,
   "id": "4f09f583-2302-4039-99b7-252e173c19bb",
   "metadata": {},
   "outputs": [
    {
     "data": {
      "text/plain": [
       "{1, 2, 3}"
      ]
     },
     "execution_count": 140,
     "metadata": {},
     "output_type": "execute_result"
    }
   ],
   "source": [
    "a.difference(b)"
   ]
  },
  {
   "cell_type": "code",
   "execution_count": 142,
   "id": "88a95c01-44d8-47fb-b281-192a5bf23773",
   "metadata": {},
   "outputs": [
    {
     "data": {
      "text/plain": [
       "{1, 2, 3, 7, 8}"
      ]
     },
     "execution_count": 142,
     "metadata": {},
     "output_type": "execute_result"
    }
   ],
   "source": [
    "a.symmetric_difference(b)"
   ]
  },
  {
   "cell_type": "code",
   "execution_count": 144,
   "id": "31a45f19-b068-4b46-966b-446dd2f3cd29",
   "metadata": {},
   "outputs": [
    {
     "data": {
      "text/plain": [
       "{'a', 'e', 'k', 'q'}"
      ]
     },
     "execution_count": 144,
     "metadata": {},
     "output_type": "execute_result"
    }
   ],
   "source": [
    "s3"
   ]
  },
  {
   "cell_type": "code",
   "execution_count": 156,
   "id": "334ce168-4fc2-4c35-ad93-1486b9f384fb",
   "metadata": {},
   "outputs": [
    {
     "ename": "KeyError",
     "evalue": "'x'",
     "output_type": "error",
     "traceback": [
      "\u001b[1;31m---------------------------------------------------------------------------\u001b[0m",
      "\u001b[1;31mKeyError\u001b[0m                                  Traceback (most recent call last)",
      "Cell \u001b[1;32mIn[156], line 1\u001b[0m\n\u001b[1;32m----> 1\u001b[0m s3\u001b[38;5;241m.\u001b[39mremove(\u001b[38;5;124m'\u001b[39m\u001b[38;5;124mx\u001b[39m\u001b[38;5;124m'\u001b[39m)\n",
      "\u001b[1;31mKeyError\u001b[0m: 'x'"
     ]
    }
   ],
   "source": [
    "s3.remove('x')"
   ]
  },
  {
   "cell_type": "code",
   "execution_count": 158,
   "id": "c7fa2f47-b68a-45f4-a4e0-c0b786e09070",
   "metadata": {},
   "outputs": [],
   "source": [
    "s3.discard('x')"
   ]
  },
  {
   "cell_type": "code",
   "execution_count": 160,
   "id": "08a7eae0-78e7-48ef-be4a-71520d1cdbcd",
   "metadata": {},
   "outputs": [
    {
     "data": {
      "text/plain": [
       "{'a', 'e', 'q'}"
      ]
     },
     "execution_count": 160,
     "metadata": {},
     "output_type": "execute_result"
    }
   ],
   "source": [
    "s3"
   ]
  },
  {
   "cell_type": "code",
   "execution_count": null,
   "id": "f3081b0f-b525-49d6-958f-5c24340f3c1e",
   "metadata": {},
   "outputs": [],
   "source": [
    "#pop = remove and display\n",
    "#remove = remove the element if given element not present shows error\n",
    "#dicard = remove the element if present if not presenr still does not give bug"
   ]
  },
  {
   "cell_type": "markdown",
   "id": "a8939707-61fc-4be2-aef6-d8b4394089c3",
   "metadata": {},
   "source": [
    "## subset \n",
    "## disjoint\n",
    "## superset"
   ]
  },
  {
   "cell_type": "code",
   "execution_count": null,
   "id": "9bac88db-0396-464d-b5a1-473c0dab4945",
   "metadata": {},
   "outputs": [],
   "source": [
    "a9 = {1,2,3,4,5,6}\n",
    "b9= {4,5,6,8,7}\n",
    "c9={5,8,9,7,9,}\n"
   ]
  },
  {
   "cell_type": "code",
   "execution_count": null,
   "id": "94849d24-cf93-488f-90a7-245f2a1e3fd8",
   "metadata": {},
   "outputs": [],
   "source": []
  },
  {
   "cell_type": "code",
   "execution_count": null,
   "id": "83e5e88d-00b2-4f20-914a-cbf55229e132",
   "metadata": {},
   "outputs": [],
   "source": []
  },
  {
   "cell_type": "code",
   "execution_count": null,
   "id": "f2c67dc0-f4fd-4e37-847f-ffcbb86decbf",
   "metadata": {},
   "outputs": [],
   "source": []
  },
  {
   "cell_type": "code",
   "execution_count": null,
   "id": "66c9ea14-7b80-4c70-854b-34a0aa2f7d5e",
   "metadata": {},
   "outputs": [],
   "source": []
  },
  {
   "cell_type": "code",
   "execution_count": null,
   "id": "3bda049a-1376-4a10-9082-c0eba6ac62d3",
   "metadata": {},
   "outputs": [],
   "source": []
  },
  {
   "cell_type": "code",
   "execution_count": null,
   "id": "86234aac-085e-4ddb-b34c-a1559f957ef1",
   "metadata": {},
   "outputs": [],
   "source": []
  },
  {
   "cell_type": "code",
   "execution_count": null,
   "id": "538451be-283e-4fc1-aba3-5cb4f2d08538",
   "metadata": {},
   "outputs": [],
   "source": []
  },
  {
   "cell_type": "code",
   "execution_count": null,
   "id": "a6180e43-bcd0-4ea9-a32e-fa5309457e50",
   "metadata": {},
   "outputs": [],
   "source": []
  },
  {
   "cell_type": "code",
   "execution_count": null,
   "id": "479a0550-9ffa-40d1-9c36-0d7033b9fb44",
   "metadata": {},
   "outputs": [],
   "source": []
  },
  {
   "cell_type": "code",
   "execution_count": null,
   "id": "0ccf040e-08aa-429a-aebc-0578da0e87e2",
   "metadata": {},
   "outputs": [],
   "source": []
  },
  {
   "cell_type": "code",
   "execution_count": null,
   "id": "c027882e-b894-42c2-9734-7dde5a62de99",
   "metadata": {},
   "outputs": [],
   "source": []
  },
  {
   "cell_type": "code",
   "execution_count": null,
   "id": "2804e4f5-dca2-4e87-a497-4c0ea5080b1e",
   "metadata": {},
   "outputs": [],
   "source": []
  },
  {
   "cell_type": "code",
   "execution_count": null,
   "id": "76882ea7-9146-4185-9e9e-2cd55dac46e8",
   "metadata": {},
   "outputs": [],
   "source": []
  },
  {
   "cell_type": "code",
   "execution_count": null,
   "id": "5f25652d-0d6e-4e6d-a13e-8f0569c8a3fc",
   "metadata": {},
   "outputs": [],
   "source": []
  }
 ],
 "metadata": {
  "kernelspec": {
   "display_name": "Python [conda env:base] *",
   "language": "python",
   "name": "conda-base-py"
  },
  "language_info": {
   "codemirror_mode": {
    "name": "ipython",
    "version": 3
   },
   "file_extension": ".py",
   "mimetype": "text/x-python",
   "name": "python",
   "nbconvert_exporter": "python",
   "pygments_lexer": "ipython3",
   "version": "3.12.3"
  }
 },
 "nbformat": 4,
 "nbformat_minor": 5
}
