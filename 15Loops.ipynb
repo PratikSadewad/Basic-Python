{
 "cells": [
  {
   "cell_type": "markdown",
   "id": "8c238e76-cc72-4d51-8f23-2798d5ceb614",
   "metadata": {},
   "source": [
    "# Loops"
   ]
  },
  {
   "cell_type": "code",
   "execution_count": 1,
   "id": "5bee996d-0591-4427-a79d-a5cca08b5f21",
   "metadata": {},
   "outputs": [
    {
     "name": "stdout",
     "output_type": "stream",
     "text": [
      "Data science\n"
     ]
    }
   ],
   "source": [
    "print ('Data science')"
   ]
  },
  {
   "cell_type": "code",
   "execution_count": 3,
   "id": "40ccbcd0-47d1-4144-8462-41725607974d",
   "metadata": {},
   "outputs": [
    {
     "name": "stdout",
     "output_type": "stream",
     "text": [
      "Data science\n",
      "Data science\n",
      "Data science\n",
      "Data science\n",
      "Data science\n"
     ]
    }
   ],
   "source": [
    "print ('Data science')\n",
    "print ('Data science')\n",
    "print ('Data science')\n",
    "print ('Data science')\n",
    "print ('Data science')\n"
   ]
  },
  {
   "cell_type": "code",
   "execution_count": 4,
   "id": "ae76fb14-515c-4d5e-afeb-45f7df4bc5a7",
   "metadata": {},
   "outputs": [
    {
     "name": "stdout",
     "output_type": "stream",
     "text": [
      "Data science\n",
      "Data science\n",
      "Data science\n",
      "Data science\n",
      "Data science\n"
     ]
    }
   ],
   "source": [
    "i = 1 \n",
    "while i<=5:\n",
    "    print('Data science')\n",
    "    i=i+1"
   ]
  },
  {
   "cell_type": "code",
   "execution_count": 7,
   "id": "d384edca-00be-46ff-9312-59beefa75b03",
   "metadata": {},
   "outputs": [
    {
     "name": "stdout",
     "output_type": "stream",
     "text": [
      "Data science: 1\n",
      "Data science: 2\n",
      "Data science: 3\n",
      "Data science: 4\n",
      "Data science: 5\n"
     ]
    }
   ],
   "source": [
    "i = 1                           #initialization of variable \n",
    "while i<=5:                     #codition\n",
    "    print('Data science:', i )\n",
    "    i = i+1                     #incremental "
   ]
  },
  {
   "cell_type": "code",
   "execution_count": 9,
   "id": "60cdc9ef-cc24-4684-b10c-7df386598905",
   "metadata": {},
   "outputs": [
    {
     "name": "stdout",
     "output_type": "stream",
     "text": [
      "Data science: 5\n",
      "Data science: 4\n",
      "Data science: 3\n",
      "Data science: 2\n",
      "Data science: 1\n"
     ]
    }
   ],
   "source": [
    "i = 5 \n",
    "while i>=1:\n",
    "    print('Data science:', i)\n",
    "    i = i-1                   # decremental"
   ]
  },
  {
   "cell_type": "code",
   "execution_count": 11,
   "id": "7a0c0411-cb53-4131-93a4-88515bb47b55",
   "metadata": {},
   "outputs": [
    {
     "name": "stdout",
     "output_type": "stream",
     "text": [
      "Data science: 1\n",
      "Technology: 1\n",
      "Technology: 2\n",
      "Technology: 3\n",
      "Technology: 4\n",
      "Technology: 5\n",
      "Data science: 2\n",
      "Technology: 1\n",
      "Technology: 2\n",
      "Technology: 3\n",
      "Technology: 4\n",
      "Technology: 5\n",
      "Data science: 3\n",
      "Technology: 1\n",
      "Technology: 2\n",
      "Technology: 3\n",
      "Technology: 4\n",
      "Technology: 5\n",
      "Data science: 4\n",
      "Technology: 1\n",
      "Technology: 2\n",
      "Technology: 3\n",
      "Technology: 4\n",
      "Technology: 5\n",
      "Data science: 5\n",
      "Technology: 1\n",
      "Technology: 2\n",
      "Technology: 3\n",
      "Technology: 4\n",
      "Technology: 5\n"
     ]
    }
   ],
   "source": [
    "i = 1\n",
    "while i<=5:\n",
    "    print('Data science:',i)\n",
    "    j = 1\n",
    "    while j<=5:\n",
    "        print('Technology:',j)\n",
    "        j=j+1\n",
    "    i= i+1\n"
   ]
  },
  {
   "cell_type": "code",
   "execution_count": 13,
   "id": "54e51e6a-7f07-4719-a32a-2513a33e7e2d",
   "metadata": {},
   "outputs": [
    {
     "name": "stdout",
     "output_type": "stream",
     "text": [
      " Data science: 1\n",
      "Technology: 1Technology: 2Technology: 3Technology: 4Technology: 5 Data science: 2\n",
      "Technology: 1Technology: 2Technology: 3Technology: 4Technology: 5 Data science: 3\n",
      "Technology: 1Technology: 2Technology: 3Technology: 4Technology: 5 Data science: 4\n",
      "Technology: 1Technology: 2Technology: 3Technology: 4Technology: 5 Data science: 5\n",
      "Technology: 1Technology: 2Technology: 3Technology: 4Technology: 5"
     ]
    }
   ],
   "source": [
    "i = 1\n",
    "while i<=5:\n",
    "    print(' Data science:',i)\n",
    "    j = 1\n",
    "    while j<=5:\n",
    "        print('Technology:',j , end = \"\") #end stops forming new line\n",
    "        j=j+1\n",
    "    i= i+1\n"
   ]
  },
  {
   "cell_type": "code",
   "execution_count": 15,
   "id": "d6a5783e-bb3f-45d9-8a86-069324a31759",
   "metadata": {},
   "outputs": [
    {
     "name": "stdout",
     "output_type": "stream",
     "text": [
      " Data science: 1\n",
      "Technology: 5\n",
      "Technology: 4\n",
      "Technology: 3\n",
      "Technology: 2\n",
      "Technology: 1\n",
      " Data science: 2\n",
      "Technology: 5\n",
      "Technology: 4\n",
      "Technology: 3\n",
      "Technology: 2\n",
      "Technology: 1\n",
      " Data science: 3\n",
      "Technology: 5\n",
      "Technology: 4\n",
      "Technology: 3\n",
      "Technology: 2\n",
      "Technology: 1\n",
      " Data science: 4\n",
      "Technology: 5\n",
      "Technology: 4\n",
      "Technology: 3\n",
      "Technology: 2\n",
      "Technology: 1\n",
      " Data science: 5\n",
      "Technology: 5\n",
      "Technology: 4\n",
      "Technology: 3\n",
      "Technology: 2\n",
      "Technology: 1\n"
     ]
    }
   ],
   "source": [
    "i = 1\n",
    "while i<=5:\n",
    "    print(' Data science:',i)\n",
    "    j = 5\n",
    "    while j>=1:\n",
    "        print('Technology:',j )\n",
    "        j=j-1                     # decremental\n",
    "    i= i+1\n"
   ]
  },
  {
   "cell_type": "markdown",
   "id": "943a11c3-af0c-49dc-9b15-ead1618f4363",
   "metadata": {},
   "source": [
    "### Loops with number"
   ]
  },
  {
   "cell_type": "code",
   "execution_count": 18,
   "id": "384e1fe2-6f5f-42f4-b557-2dae06b137b6",
   "metadata": {},
   "outputs": [
    {
     "name": "stdout",
     "output_type": "stream",
     "text": [
      "0123\n",
      "0246\n",
      "0369\n",
      "04812\n"
     ]
    }
   ],
   "source": [
    "i = 1\n",
    "while i <=4:\n",
    "    j =0\n",
    "    while j<=3:\n",
    "        print(i*j,end='')\n",
    "        j+=1\n",
    "    print()\n",
    "    i+=1"
   ]
  },
  {
   "cell_type": "code",
   "execution_count": null,
   "id": "31f342dd-4b2b-4070-818c-2b31c2898c90",
   "metadata": {},
   "outputs": [],
   "source": []
  },
  {
   "cell_type": "code",
   "execution_count": 21,
   "id": "2a808e02-cc2f-4b76-9222-7dba55b3cbb6",
   "metadata": {},
   "outputs": [
    {
     "name": "stdout",
     "output_type": "stream",
     "text": [
      "n\n",
      "i\n",
      "t\n"
     ]
    }
   ],
   "source": [
    "# film of for loops\n",
    "name = 'nit'\n",
    "for i in name:\n",
    "    print(i)"
   ]
  },
  {
   "cell_type": "code",
   "execution_count": 23,
   "id": "c06e4067-475d-434c-93b2-dea5f2e28bac",
   "metadata": {},
   "outputs": [
    {
     "name": "stdout",
     "output_type": "stream",
     "text": [
      "1\n",
      "3.5\n",
      "hallo\n"
     ]
    }
   ],
   "source": [
    "name1=[1,3.5,'hallo']\n",
    "for i in name1:\n",
    "    print(i)"
   ]
  },
  {
   "cell_type": "code",
   "execution_count": 25,
   "id": "dfe2e1c2-b3bc-4ce1-9510-de574736744f",
   "metadata": {},
   "outputs": [
    {
     "name": "stdout",
     "output_type": "stream",
     "text": [
      "2\n",
      "3\n",
      "7.8\n",
      "hi\n"
     ]
    }
   ],
   "source": [
    "for i in [2,3,7.8,'hi']:\n",
    "    print(i)"
   ]
  },
  {
   "cell_type": "code",
   "execution_count": 27,
   "id": "ec75553e-c03f-4d78-8c8b-98cd0ddf216d",
   "metadata": {},
   "outputs": [
    {
     "name": "stdout",
     "output_type": "stream",
     "text": [
      "1\n",
      "4\n",
      "7\n"
     ]
    }
   ],
   "source": [
    "for i in range(1,10,3):\n",
    "    print(i)"
   ]
  },
  {
   "cell_type": "code",
   "execution_count": 29,
   "id": "a890f6a1-4786-47a1-ad2f-305d37428da3",
   "metadata": {},
   "outputs": [
    {
     "name": "stdout",
     "output_type": "stream",
     "text": [
      "5\n",
      "10\n",
      "15\n",
      "20\n",
      "25\n",
      "30\n",
      "35\n",
      "40\n",
      "45\n",
      "50\n"
     ]
    }
   ],
   "source": [
    "for i in range (1,51):\n",
    "    if i%5==0:\n",
    "        print(i)"
   ]
  },
  {
   "cell_type": "code",
   "execution_count": 31,
   "id": "1089b670-70b0-4b5c-b782-346bc4683f8f",
   "metadata": {},
   "outputs": [
    {
     "name": "stdout",
     "output_type": "stream",
     "text": [
      "1\n",
      "2\n",
      "3\n",
      "4\n",
      "6\n",
      "7\n",
      "8\n",
      "9\n",
      "11\n",
      "12\n",
      "13\n",
      "14\n",
      "16\n",
      "17\n",
      "18\n",
      "19\n",
      "21\n",
      "22\n",
      "23\n",
      "24\n",
      "26\n",
      "27\n",
      "28\n",
      "29\n",
      "31\n",
      "32\n",
      "33\n",
      "34\n",
      "36\n",
      "37\n",
      "38\n",
      "39\n",
      "41\n",
      "42\n",
      "43\n",
      "44\n",
      "46\n",
      "47\n",
      "48\n",
      "49\n"
     ]
    }
   ],
   "source": [
    "for i in range (1,51):\n",
    "    if i%5!=0:              # != is not equal to and == is equal to\n",
    "        print(i)"
   ]
  },
  {
   "cell_type": "code",
   "execution_count": 33,
   "id": "9aa433b9-270b-4c98-ad4d-e62e41de84ff",
   "metadata": {},
   "outputs": [
    {
     "name": "stdout",
     "output_type": "stream",
     "text": [
      "1\n",
      "2\n",
      "3\n",
      "4\n",
      "5\n",
      "6\n",
      "7\n",
      "8\n",
      "9\n",
      "10\n"
     ]
    }
   ],
   "source": [
    "for i in range (1,11):\n",
    "    print(i)"
   ]
  },
  {
   "cell_type": "code",
   "execution_count": 35,
   "id": "291c5753-4c0c-49ab-9482-119a5ddedb1d",
   "metadata": {},
   "outputs": [
    {
     "name": "stdout",
     "output_type": "stream",
     "text": [
      "1\n",
      "2\n",
      "3\n",
      "4\n"
     ]
    }
   ],
   "source": [
    "# break key use \n",
    "for i in range (1,11):\n",
    "    if i==5 :          # stops the range from 5 onwards\n",
    "       break\n",
    "    print(i)"
   ]
  },
  {
   "cell_type": "code",
   "execution_count": 37,
   "id": "7ca0d4a6-93d2-480c-ad44-e66a269e5e44",
   "metadata": {},
   "outputs": [
    {
     "name": "stdout",
     "output_type": "stream",
     "text": [
      "1\n",
      "2\n",
      "3\n",
      "4\n",
      "5\n"
     ]
    }
   ],
   "source": [
    "# break key use \n",
    "for i in range (1,11):\n",
    "    if i==5 :          \n",
    "       break\n",
    "    print(i)\n",
    "print(i)    "
   ]
  },
  {
   "cell_type": "code",
   "execution_count": 39,
   "id": "a7879b89-0ef8-40fe-bf74-5ca0088cbdca",
   "metadata": {},
   "outputs": [],
   "source": [
    "for i in range (1,11):\n",
    "    if i == 7:\n",
    "        break\n",
    "        print(i)"
   ]
  },
  {
   "cell_type": "code",
   "execution_count": 41,
   "id": "e71951bc-4139-4c63-a677-88d6fd675103",
   "metadata": {},
   "outputs": [
    {
     "name": "stdout",
     "output_type": "stream",
     "text": [
      "1\n",
      "2\n",
      "3\n",
      "4\n",
      "5\n",
      "7\n",
      "8\n",
      "9\n",
      "10\n"
     ]
    }
   ],
   "source": [
    "for i in range (1,11):\n",
    "    if i ==6:\n",
    "        continue\n",
    "    print(i)       # it skips i "
   ]
  },
  {
   "cell_type": "code",
   "execution_count": 43,
   "id": "d79bae6e-b045-4813-849f-3edcd8613dbf",
   "metadata": {},
   "outputs": [
    {
     "name": "stdout",
     "output_type": "stream",
     "text": [
      "hello 1\n",
      "hello 2\n",
      "hello 3\n",
      "hello 4\n",
      "hello 6\n",
      "hello 7\n",
      "hello 8\n",
      "hello 9\n",
      "hello 10\n"
     ]
    }
   ],
   "source": [
    "for i in range (1,11):\n",
    "    if i ==5:\n",
    "        continue\n",
    "    print('hello',i)"
   ]
  },
  {
   "cell_type": "code",
   "execution_count": 45,
   "id": "2032b864-7bb7-409c-81b7-b747e7bfbb6f",
   "metadata": {},
   "outputs": [
    {
     "ename": "SyntaxError",
     "evalue": "expected ':' (2464665743.py, line 1)",
     "output_type": "error",
     "traceback": [
      "\u001b[1;36m  Cell \u001b[1;32mIn[45], line 1\u001b[1;36m\u001b[0m\n\u001b[1;33m    for i in range (1,11)\u001b[0m\n\u001b[1;37m                         ^\u001b[0m\n\u001b[1;31mSyntaxError\u001b[0m\u001b[1;31m:\u001b[0m expected ':'\n"
     ]
    }
   ],
   "source": [
    "for i in range (1,11)\n",
    "    "
   ]
  },
  {
   "cell_type": "code",
   "execution_count": 47,
   "id": "3e740dbe-ce6d-4d80-8725-64d94e989ff2",
   "metadata": {},
   "outputs": [],
   "source": [
    "# if we need to keep the error but to avoid showing  error PAAS is used \n",
    "for i in range(1,51):\n",
    "    pass"
   ]
  },
  {
   "cell_type": "code",
   "execution_count": 49,
   "id": "109ba1d5-0527-4e88-b754-a0023fe655ff",
   "metadata": {},
   "outputs": [
    {
     "name": "stdout",
     "output_type": "stream",
     "text": [
      "3\n",
      "6\n",
      "9\n",
      "12\n",
      "15\n",
      "18\n",
      "21\n",
      "24\n",
      "27\n",
      "30\n",
      "33\n",
      "36\n",
      "39\n",
      "42\n",
      "45\n",
      "48\n",
      "end\n"
     ]
    }
   ],
   "source": [
    "for i in range (1,51):\n",
    "    if i%3==0:\n",
    "        print(i)\n",
    "print('end')"
   ]
  },
  {
   "cell_type": "code",
   "execution_count": 51,
   "id": "384cddac-5e35-4e2b-9b37-c0e5ef89443c",
   "metadata": {},
   "outputs": [
    {
     "name": "stdout",
     "output_type": "stream",
     "text": [
      "1\n",
      "2\n",
      "4\n",
      "5\n",
      "7\n",
      "8\n",
      "10\n",
      "11\n",
      "13\n",
      "14\n",
      "16\n",
      "17\n",
      "19\n",
      "20\n",
      "22\n",
      "23\n",
      "25\n",
      "26\n",
      "28\n",
      "29\n",
      "31\n",
      "32\n",
      "34\n",
      "35\n",
      "37\n",
      "38\n",
      "40\n",
      "41\n",
      "43\n",
      "44\n",
      "46\n",
      "47\n",
      "49\n",
      "end\n"
     ]
    }
   ],
   "source": [
    "for i in range (1,50):\n",
    "    if i%3==0:\n",
    "        continue\n",
    "    print(i)\n",
    "print('end')"
   ]
  },
  {
   "cell_type": "code",
   "execution_count": 53,
   "id": "56e22a71-beac-48b4-b8af-91c0fd50a540",
   "metadata": {},
   "outputs": [
    {
     "name": "stdout",
     "output_type": "stream",
     "text": [
      "1\n",
      "2\n",
      "4\n",
      "7\n",
      "8\n",
      "11\n",
      "13\n",
      "14\n",
      "16\n",
      "17\n",
      "19\n",
      "22\n",
      "23\n",
      "26\n",
      "28\n",
      "29\n",
      "31\n",
      "32\n",
      "34\n",
      "37\n",
      "38\n",
      "41\n",
      "43\n",
      "44\n",
      "46\n",
      "47\n",
      "49\n",
      "end\n"
     ]
    }
   ],
   "source": [
    "for i in range (1,51):\n",
    "    if i%3==0 or i%5==0:        # continue skips the i condition\n",
    "        continue\n",
    "    print(i)\n",
    "print('end')"
   ]
  },
  {
   "cell_type": "code",
   "execution_count": 55,
   "id": "46d8969a-306d-442d-9aa8-66c982906deb",
   "metadata": {},
   "outputs": [
    {
     "name": "stdout",
     "output_type": "stream",
     "text": [
      "1\n",
      "2\n",
      "3\n",
      "4\n",
      "5\n",
      "6\n",
      "7\n",
      "8\n",
      "9\n",
      "10\n",
      "11\n",
      "12\n",
      "13\n",
      "14\n",
      "16\n",
      "17\n",
      "18\n",
      "19\n",
      "20\n",
      "21\n",
      "22\n",
      "23\n",
      "24\n",
      "25\n",
      "26\n",
      "27\n",
      "28\n",
      "29\n",
      "31\n",
      "32\n",
      "33\n",
      "34\n",
      "35\n",
      "36\n",
      "37\n",
      "38\n",
      "39\n",
      "40\n",
      "41\n",
      "42\n",
      "43\n",
      "44\n",
      "46\n",
      "47\n",
      "48\n",
      "49\n",
      "50\n",
      "end\n"
     ]
    }
   ],
   "source": [
    "for i in range(1,51):\n",
    "    if i%3 ==0 and i % 5 == 0:\n",
    "        continue\n",
    "    print(i)\n",
    "print('end')"
   ]
  },
  {
   "cell_type": "code",
   "execution_count": 57,
   "id": "d6f6ded2-b415-4447-ba5c-b712abac878d",
   "metadata": {},
   "outputs": [
    {
     "name": "stdout",
     "output_type": "stream",
     "text": [
      "1\n",
      "3\n",
      "5\n",
      "7\n",
      "9\n",
      "11\n",
      "13\n",
      "15\n",
      "17\n",
      "19\n",
      "21\n",
      "23\n",
      "25\n",
      "27\n",
      "29\n",
      "31\n",
      "33\n",
      "35\n",
      "37\n",
      "39\n",
      "41\n",
      "43\n",
      "45\n",
      "47\n",
      "49\n",
      "bye\n"
     ]
    }
   ],
   "source": [
    "for i in range (1,50):\n",
    "    if i%2 ==0:\n",
    "        pass\n",
    "    else:\n",
    "        print(i)\n",
    "print('bye')"
   ]
  },
  {
   "cell_type": "code",
   "execution_count": 59,
   "id": "e5fddbe1-352f-455d-a2d4-f5517bda306e",
   "metadata": {},
   "outputs": [
    {
     "name": "stdout",
     "output_type": "stream",
     "text": [
      "# # # #\n",
      "# # # #\n",
      "# # # #\n",
      "# # # #\n"
     ]
    }
   ],
   "source": [
    "print('# # # #')\n",
    "print('# # # #')\n",
    "print('# # # #')\n",
    "print('# # # #')"
   ]
  },
  {
   "cell_type": "code",
   "execution_count": 61,
   "id": "5900dd13-949a-4979-92a5-8643d7e814d9",
   "metadata": {},
   "outputs": [
    {
     "name": "stdout",
     "output_type": "stream",
     "text": [
      "*    *    *    *    "
     ]
    }
   ],
   "source": [
    "for i in range (4):\n",
    "    print('*',end=\"    \")"
   ]
  },
  {
   "cell_type": "code",
   "execution_count": 63,
   "id": "53b4017f-a4e3-46bc-9f80-be46855cd42f",
   "metadata": {},
   "outputs": [
    {
     "name": "stdout",
     "output_type": "stream",
     "text": [
      "*    *    *    *    \n",
      "*    *    *    *    "
     ]
    }
   ],
   "source": [
    "for i in range (4):\n",
    "    print('*',end=\"    \")\n",
    "print()\n",
    "for i in range (4):\n",
    "    print('*',end=\"    \")"
   ]
  },
  {
   "cell_type": "code",
   "execution_count": 65,
   "id": "143cb507-fc7d-4a6a-98a5-2fe4d83b4068",
   "metadata": {},
   "outputs": [
    {
     "name": "stdout",
     "output_type": "stream",
     "text": [
      "#  #  #  #  "
     ]
    }
   ],
   "source": [
    "for j in range (4):\n",
    "    print('#',end=\"  \")"
   ]
  },
  {
   "cell_type": "code",
   "execution_count": 67,
   "id": "a95e8995-6c95-45b4-9127-89a7bb2ba25b",
   "metadata": {},
   "outputs": [
    {
     "name": "stdout",
     "output_type": "stream",
     "text": [
      "#  #  #  #  \n"
     ]
    }
   ],
   "source": [
    "for j in range (4):\n",
    "    print('#',end=\"  \")\n",
    "print()"
   ]
  },
  {
   "cell_type": "code",
   "execution_count": 69,
   "id": "c8129c48-3a79-456a-8179-a86b91c8d57c",
   "metadata": {},
   "outputs": [
    {
     "name": "stdout",
     "output_type": "stream",
     "text": [
      "#  #  #  #  \n",
      "#  #  #  #  \n",
      "#  #  #  #  \n",
      "#  #  #  #  \n"
     ]
    }
   ],
   "source": [
    "for j in range (4):\n",
    "    print('#',end=\"  \")\n",
    "print()\n",
    "for j in range (4):\n",
    "    print('#',end=\"  \")\n",
    "print()\n",
    "for j in range (4):\n",
    "    print('#',end=\"  \")\n",
    "print()\n",
    "for j in range (4):\n",
    "    print('#',end=\"  \")\n",
    "print()"
   ]
  },
  {
   "cell_type": "code",
   "execution_count": 71,
   "id": "ab20fc8f-1494-4a4f-92b3-f158b8738f18",
   "metadata": {},
   "outputs": [
    {
     "name": "stdout",
     "output_type": "stream",
     "text": [
      "* * * * \n",
      "* * * * \n",
      "* * * * \n",
      "* * * * \n"
     ]
    }
   ],
   "source": [
    "for i in range (4):\n",
    "    for j in range (4):\n",
    "        print('*',end=\" \")\n",
    "    print()"
   ]
  },
  {
   "cell_type": "code",
   "execution_count": 73,
   "id": "08ff609c-eac3-45d3-b381-09f1e7d2acea",
   "metadata": {},
   "outputs": [
    {
     "name": "stdout",
     "output_type": "stream",
     "text": [
      "*\n",
      "*\n",
      "*\n",
      "*\n",
      "\n",
      "*\n",
      "*\n",
      "*\n",
      "*\n",
      "\n",
      "*\n",
      "*\n",
      "*\n",
      "*\n",
      "\n",
      "*\n",
      "*\n",
      "*\n",
      "*\n",
      "\n"
     ]
    }
   ],
   "source": [
    "for i in range (4):\n",
    "    for j in range (4):\n",
    "        print('*')\n",
    "    print()"
   ]
  },
  {
   "cell_type": "code",
   "execution_count": 75,
   "id": "8ae8ba6b-9782-49b3-8f7e-86b4545310aa",
   "metadata": {},
   "outputs": [
    {
     "name": "stdout",
     "output_type": "stream",
     "text": [
      "* * * * \n",
      "* * * * \n",
      "* * * * \n",
      "* * * * \n",
      "* * * * \n",
      "* * * * \n",
      "* * * * \n",
      "* * * * \n",
      "* * * * \n",
      "* * * * \n",
      "* * * * \n",
      "* * * * \n",
      "* * * * \n",
      "* * * * \n",
      "* * * * \n",
      "* * * * \n"
     ]
    }
   ],
   "source": [
    "for i in range (4):\n",
    "    for j in range (4):\n",
    "        for k in range (4):\n",
    "            print('*', end=\" \")\n",
    "        print()"
   ]
  },
  {
   "cell_type": "code",
   "execution_count": 77,
   "id": "3f612b74-9262-4a3f-bd7f-c69a1e22bf1d",
   "metadata": {},
   "outputs": [
    {
     "name": "stdout",
     "output_type": "stream",
     "text": [
      "* * * * * * * * * * * * * * * * \n",
      "* * * * * * * * * * * * * * * * \n",
      "* * * * * * * * * * * * * * * * \n",
      "* * * * * * * * * * * * * * * * \n"
     ]
    }
   ],
   "source": [
    "for i in range (4):\n",
    "    for j in range (4):\n",
    "        for k in range (4):\n",
    "            print('*', end=\" \")\n",
    "    print()"
   ]
  },
  {
   "cell_type": "code",
   "execution_count": 79,
   "id": "298ae128-f128-494b-988d-672a0d322797",
   "metadata": {},
   "outputs": [
    {
     "name": "stdout",
     "output_type": "stream",
     "text": [
      "* * * * * * * * * * * * * * * * * * * * * * * * * * * * * * * * * * * * * * * * * * * * * * * * * * * * * * * * * * * * * * * * \n"
     ]
    }
   ],
   "source": [
    "for i in range (4):\n",
    "    for j in range (4):\n",
    "        for k in range (4):\n",
    "            print('*', end=\" \")\n",
    "print()"
   ]
  },
  {
   "cell_type": "code",
   "execution_count": 81,
   "id": "da06d0bc-06b2-41ab-9b98-cadde716ac23",
   "metadata": {},
   "outputs": [
    {
     "name": "stdout",
     "output_type": "stream",
     "text": [
      "* \n",
      "* \n",
      "* \n",
      "* \n",
      "* \n",
      "* \n",
      "* \n",
      "* \n",
      "* \n",
      "* \n",
      "* \n",
      "* \n",
      "* \n",
      "* \n",
      "* \n",
      "* \n",
      "* \n",
      "* \n",
      "* \n",
      "* \n",
      "* \n",
      "* \n",
      "* \n",
      "* \n",
      "* \n",
      "* \n",
      "* \n",
      "* \n",
      "* \n",
      "* \n",
      "* \n",
      "* \n",
      "* \n",
      "* \n",
      "* \n",
      "* \n",
      "* \n",
      "* \n",
      "* \n",
      "* \n",
      "* \n",
      "* \n",
      "* \n",
      "* \n",
      "* \n",
      "* \n",
      "* \n",
      "* \n",
      "* \n",
      "* \n",
      "* \n",
      "* \n",
      "* \n",
      "* \n",
      "* \n",
      "* \n",
      "* \n",
      "* \n",
      "* \n",
      "* \n",
      "* \n",
      "* \n",
      "* \n",
      "* \n"
     ]
    }
   ],
   "source": [
    "for i in range (4):\n",
    "    for j in range (4):\n",
    "        for k in range (4):\n",
    "            print('*', end=\" \")\n",
    "            print()"
   ]
  },
  {
   "cell_type": "code",
   "execution_count": null,
   "id": "17561c1a-f1f0-4747-8a20-e34b4c48fee1",
   "metadata": {},
   "outputs": [],
   "source": [
    "# some slight error in loops leads infinite loop"
   ]
  },
  {
   "cell_type": "code",
   "execution_count": null,
   "id": "f7c80a9c-e861-4c70-8e50-3f55930c7be8",
   "metadata": {},
   "outputs": [],
   "source": [
    "# computer to loops error ::'pura pariwar dara hua hai yaar ,' "
   ]
  },
  {
   "cell_type": "code",
   "execution_count": null,
   "id": "37ed23f6-9d0e-48a3-a84f-132337fee7b4",
   "metadata": {},
   "outputs": [],
   "source": []
  },
  {
   "cell_type": "code",
   "execution_count": null,
   "id": "e0c1c42c-927d-48c5-be9d-1f9a37f6fd86",
   "metadata": {},
   "outputs": [],
   "source": []
  },
  {
   "cell_type": "code",
   "execution_count": null,
   "id": "2d931647-c804-456f-b31b-a9c86215ff17",
   "metadata": {},
   "outputs": [],
   "source": []
  },
  {
   "cell_type": "code",
   "execution_count": null,
   "id": "c961afcd-fabf-4fa4-80a0-17ee1e0e44f3",
   "metadata": {},
   "outputs": [],
   "source": []
  },
  {
   "cell_type": "code",
   "execution_count": null,
   "id": "26c841b9-59ba-4841-874c-fdd7720733c1",
   "metadata": {},
   "outputs": [],
   "source": []
  },
  {
   "cell_type": "code",
   "execution_count": null,
   "id": "1947f04e-586e-405c-a4a1-b9dde267637c",
   "metadata": {},
   "outputs": [],
   "source": []
  }
 ],
 "metadata": {
  "kernelspec": {
   "display_name": "Python [conda env:base] *",
   "language": "python",
   "name": "conda-base-py"
  },
  "language_info": {
   "codemirror_mode": {
    "name": "ipython",
    "version": 3
   },
   "file_extension": ".py",
   "mimetype": "text/x-python",
   "name": "python",
   "nbconvert_exporter": "python",
   "pygments_lexer": "ipython3",
   "version": "3.12.7"
  }
 },
 "nbformat": 4,
 "nbformat_minor": 5
}
