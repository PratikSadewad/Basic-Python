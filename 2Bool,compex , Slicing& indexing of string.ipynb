{
 "cells": [
  {
   "cell_type": "code",
   "execution_count": null,
   "id": "8fa91cf6-cf60-42ce-b29d-d7e539285fec",
   "metadata": {},
   "outputs": [],
   "source": [
    "#BOOL"
   ]
  },
  {
   "cell_type": "code",
   "execution_count": null,
   "id": "8305a451-177f-4af8-bdd5-3d2d7efb189d",
   "metadata": {},
   "outputs": [],
   "source": [
    "True\n"
   ]
  },
  {
   "cell_type": "code",
   "execution_count": 3,
   "id": "f0164564-de8e-4693-8464-68e392867c3c",
   "metadata": {},
   "outputs": [
    {
     "ename": "NameError",
     "evalue": "name 'false' is not defined",
     "output_type": "error",
     "traceback": [
      "\u001b[1;31m---------------------------------------------------------------------------\u001b[0m",
      "\u001b[1;31mNameError\u001b[0m                                 Traceback (most recent call last)",
      "Cell \u001b[1;32mIn[3], line 1\u001b[0m\n\u001b[1;32m----> 1\u001b[0m false\n",
      "\u001b[1;31mNameError\u001b[0m: name 'false' is not defined"
     ]
    }
   ],
   "source": [
    "false"
   ]
  },
  {
   "cell_type": "code",
   "execution_count": null,
   "id": "bf654363-6ea3-4fb1-bc26-57f920f62ab0",
   "metadata": {},
   "outputs": [],
   "source": [
    "# bool is case sensitive "
   ]
  },
  {
   "cell_type": "code",
   "execution_count": 7,
   "id": "1ad8492f-b429-4d9d-97c3-60acc276a895",
   "metadata": {},
   "outputs": [],
   "source": [
    "b=True\n",
    "b1=False\n"
   ]
  },
  {
   "cell_type": "code",
   "execution_count": 9,
   "id": "7c0104dd-b0d2-4d3c-8bb5-21a23e06644d",
   "metadata": {},
   "outputs": [
    {
     "data": {
      "text/plain": [
       "True"
      ]
     },
     "execution_count": 9,
     "metadata": {},
     "output_type": "execute_result"
    }
   ],
   "source": [
    "b"
   ]
  },
  {
   "cell_type": "code",
   "execution_count": 11,
   "id": "8aaf3449-a4aa-4f3a-a9e0-8f825d0c0a0d",
   "metadata": {},
   "outputs": [
    {
     "data": {
      "text/plain": [
       "False"
      ]
     },
     "execution_count": 11,
     "metadata": {},
     "output_type": "execute_result"
    }
   ],
   "source": [
    "b1"
   ]
  },
  {
   "cell_type": "code",
   "execution_count": 13,
   "id": "9beef57d-ed4e-4b78-85c0-b6ac90e0532d",
   "metadata": {},
   "outputs": [
    {
     "data": {
      "text/plain": [
       "1"
      ]
     },
     "execution_count": 13,
     "metadata": {},
     "output_type": "execute_result"
    }
   ],
   "source": [
    " b + b1"
   ]
  },
  {
   "cell_type": "code",
   "execution_count": 17,
   "id": "1cdfcaac-9b97-48bb-92c7-38a254d8e13b",
   "metadata": {},
   "outputs": [
    {
     "name": "stdout",
     "output_type": "stream",
     "text": [
      "1\n",
      "0\n",
      "0.0\n",
      "0\n"
     ]
    }
   ],
   "source": [
    "print (b-b1)\n",
    "print (b*b1)\n",
    "print(b1/b)\n",
    "print(b1//b)"
   ]
  },
  {
   "cell_type": "code",
   "execution_count": null,
   "id": "18c6b9dd-a354-4e10-aafa-21218455eb26",
   "metadata": {},
   "outputs": [],
   "source": [
    "# true is 1 and false is 0\n"
   ]
  },
  {
   "attachments": {},
   "cell_type": "markdown",
   "id": "646d3bb3-1b9c-40ff-a654-8c55d8c94739",
   "metadata": {},
   "source": [
    "#COMPLEX\n",
    "\n",
    "(\"a + bj\")\n",
    "a - real\n",
    "b -imaginary part\n",
    "j- square root of -1"
   ]
  },
  {
   "cell_type": "code",
   "execution_count": 19,
   "id": "edbfdfb1-c309-4c22-94db-eb3944c43d5a",
   "metadata": {},
   "outputs": [
    {
     "data": {
      "text/plain": [
       "(10+20j)"
      ]
     },
     "execution_count": 19,
     "metadata": {},
     "output_type": "execute_result"
    }
   ],
   "source": [
    "c1 = 10 +20j\n",
    "c1"
   ]
  },
  {
   "cell_type": "code",
   "execution_count": null,
   "id": "82655c6a-78b7-4498-827b-aea3c929d2da",
   "metadata": {},
   "outputs": [],
   "source": [
    "#use tab after the  .\n",
    "#j and c  is permenant part of equation \n"
   ]
  },
  {
   "cell_type": "code",
   "execution_count": 23,
   "id": "26749c47-f46d-452f-8eb6-e2e959677e4a",
   "metadata": {},
   "outputs": [
    {
     "data": {
      "text/plain": [
       "10.0"
      ]
     },
     "execution_count": 23,
     "metadata": {},
     "output_type": "execute_result"
    }
   ],
   "source": [
    "c1.real"
   ]
  },
  {
   "cell_type": "code",
   "execution_count": 25,
   "id": "1035078e-44f5-4f57-8fde-57da6c87229b",
   "metadata": {},
   "outputs": [
    {
     "data": {
      "text/plain": [
       "20.0"
      ]
     },
     "execution_count": 25,
     "metadata": {},
     "output_type": "execute_result"
    }
   ],
   "source": [
    "c1.imag"
   ]
  },
  {
   "cell_type": "markdown",
   "id": "3a27468d-b509-43fa-b60c-8c03f610e49c",
   "metadata": {},
   "source": [
    "PYTHON TYPE CASTING or type conversion\n",
    "function\n",
    "arguments \n",
    "  or \n",
    "parameter \n",
    "variable"
   ]
  },
  {
   "cell_type": "code",
   "execution_count": 33,
   "id": "6999d5b5-d18f-45c7-83ea-7e9dc334780a",
   "metadata": {},
   "outputs": [
    {
     "data": {
      "text/plain": [
       "3"
      ]
     },
     "execution_count": 33,
     "metadata": {},
     "output_type": "execute_result"
    }
   ],
   "source": [
    "int(3.4)\n",
    "\n",
    "\n"
   ]
  },
  {
   "cell_type": "code",
   "execution_count": 29,
   "id": "378c15d4-9f57-4ba7-910c-c4d3d537db08",
   "metadata": {},
   "outputs": [
    {
     "ename": "TypeError",
     "evalue": "'float' object cannot be interpreted as an integer",
     "output_type": "error",
     "traceback": [
      "\u001b[1;31m---------------------------------------------------------------------------\u001b[0m",
      "\u001b[1;31mTypeError\u001b[0m                                 Traceback (most recent call last)",
      "Cell \u001b[1;32mIn[29], line 1\u001b[0m\n\u001b[1;32m----> 1\u001b[0m \u001b[38;5;28mint\u001b[39m(\u001b[38;5;241m2.5\u001b[39m , \u001b[38;5;241m5.5\u001b[39m )\n",
      "\u001b[1;31mTypeError\u001b[0m: 'float' object cannot be interpreted as an integer"
     ]
    }
   ],
   "source": [
    "int(2.5 , 5.5 )"
   ]
  },
  {
   "cell_type": "code",
   "execution_count": 27,
   "id": "26c1f6e2-f382-47f8-b482-95d6926e1a87",
   "metadata": {},
   "outputs": [
    {
     "ename": "TypeError",
     "evalue": "int() can't convert non-string with explicit base",
     "output_type": "error",
     "traceback": [
      "\u001b[1;31m---------------------------------------------------------------------------\u001b[0m",
      "\u001b[1;31mTypeError\u001b[0m                                 Traceback (most recent call last)",
      "Cell \u001b[1;32mIn[27], line 2\u001b[0m\n\u001b[0;32m      1\u001b[0m \u001b[38;5;28mint\u001b[39m (\u001b[38;5;28;01mTrue\u001b[39;00m)\n\u001b[1;32m----> 2\u001b[0m \u001b[38;5;28mint\u001b[39m(\u001b[38;5;28;01mTrue\u001b[39;00m , \u001b[38;5;28;01mFalse\u001b[39;00m)\n",
      "\u001b[1;31mTypeError\u001b[0m: int() can't convert non-string with explicit base"
     ]
    }
   ],
   "source": [
    "int (True)\n",
    "int(True , False) "
   ]
  },
  {
   "cell_type": "code",
   "execution_count": 35,
   "id": "e7f82bb3-0981-4a47-a025-73999be5a441",
   "metadata": {},
   "outputs": [
    {
     "data": {
      "text/plain": [
       "5.0"
      ]
     },
     "execution_count": 35,
     "metadata": {},
     "output_type": "execute_result"
    }
   ],
   "source": [
    "float(5)"
   ]
  },
  {
   "cell_type": "code",
   "execution_count": 37,
   "id": "60d7105b-8885-4433-a37a-d66710329c50",
   "metadata": {},
   "outputs": [
    {
     "data": {
      "text/plain": [
       "'545'"
      ]
     },
     "execution_count": 37,
     "metadata": {},
     "output_type": "execute_result"
    }
   ],
   "source": [
    "str(545)"
   ]
  },
  {
   "cell_type": "code",
   "execution_count": 41,
   "id": "82937df1-f5c6-458b-a89f-03ec3263262f",
   "metadata": {},
   "outputs": [
    {
     "data": {
      "text/plain": [
       "True"
      ]
     },
     "execution_count": 41,
     "metadata": {},
     "output_type": "execute_result"
    }
   ],
   "source": [
    "bool(1)"
   ]
  },
  {
   "cell_type": "code",
   "execution_count": 10,
   "id": "edcd8c0f-4e46-4916-8a5d-06ab13b5860a",
   "metadata": {},
   "outputs": [
    {
     "data": {
      "text/plain": [
       "True"
      ]
     },
     "execution_count": 10,
     "metadata": {},
     "output_type": "execute_result"
    }
   ],
   "source": [
    "bool(500-400)\n"
   ]
  },
  {
   "cell_type": "code",
   "execution_count": 47,
   "id": "d56c85e1-d452-4619-875a-c01d0e6a031d",
   "metadata": {},
   "outputs": [
    {
     "name": "stdout",
     "output_type": "stream",
     "text": [
      "3\n",
      "1\n",
      "55\n"
     ]
    }
   ],
   "source": [
    "print (int (3.5))\n",
    "print (int(True))\n",
    "print(int('55'))"
   ]
  },
  {
   "cell_type": "code",
   "execution_count": 49,
   "id": "43a01dff-6527-4161-893d-09604b882698",
   "metadata": {},
   "outputs": [
    {
     "ename": "TypeError",
     "evalue": "'c1' is an invalid keyword argument for int()",
     "output_type": "error",
     "traceback": [
      "\u001b[1;31m---------------------------------------------------------------------------\u001b[0m",
      "\u001b[1;31mTypeError\u001b[0m                                 Traceback (most recent call last)",
      "Cell \u001b[1;32mIn[49], line 1\u001b[0m\n\u001b[1;32m----> 1\u001b[0m \u001b[38;5;28mprint\u001b[39m(\u001b[38;5;28mint\u001b[39m(c1\u001b[38;5;241m=\u001b[39m\u001b[38;5;241m55\u001b[39m\u001b[38;5;241m+\u001b[39m\u001b[38;5;241m8\u001b[39mj))\n",
      "\u001b[1;31mTypeError\u001b[0m: 'c1' is an invalid keyword argument for int()"
     ]
    }
   ],
   "source": [
    "print(int(c1=55+8j))"
   ]
  },
  {
   "cell_type": "code",
   "execution_count": null,
   "id": "a392c6bd-904b-490c-bac7-379d7fd96754",
   "metadata": {},
   "outputs": [],
   "source": [
    "#compex data type  and string with text ('ten')can not  be conveerted\n"
   ]
  },
  {
   "cell_type": "code",
   "execution_count": 51,
   "id": "df97c596-5888-494b-a181-0f57c33bbfd7",
   "metadata": {},
   "outputs": [
    {
     "ename": "SyntaxError",
     "evalue": "incomplete input (374670182.py, line 1)",
     "output_type": "error",
     "traceback": [
      "\u001b[1;36m  Cell \u001b[1;32mIn[51], line 1\u001b[1;36m\u001b[0m\n\u001b[1;33m    print(int('ten')\u001b[0m\n\u001b[1;37m                    ^\u001b[0m\n\u001b[1;31mSyntaxError\u001b[0m\u001b[1;31m:\u001b[0m incomplete input\n"
     ]
    }
   ],
   "source": [
    "print(int('ten')"
   ]
  },
  {
   "cell_type": "code",
   "execution_count": 12,
   "id": "63d3d2c9-b6bf-4832-bf64-876987010ef0",
   "metadata": {},
   "outputs": [
    {
     "data": {
      "text/plain": [
       "1.0"
      ]
     },
     "execution_count": 12,
     "metadata": {},
     "output_type": "execute_result"
    }
   ],
   "source": [
    "float(True)\n"
   ]
  },
  {
   "cell_type": "code",
   "execution_count": 14,
   "id": "2cb35604-36ef-4e3f-a301-0ca0a0fef411",
   "metadata": {},
   "outputs": [
    {
     "data": {
      "text/plain": [
       "0.0"
      ]
     },
     "execution_count": 14,
     "metadata": {},
     "output_type": "execute_result"
    }
   ],
   "source": [
    "float(False)"
   ]
  },
  {
   "cell_type": "code",
   "execution_count": 16,
   "id": "8cbd0601-5137-454a-ac85-bedfb1eb8cdb",
   "metadata": {},
   "outputs": [
    {
     "ename": "TypeError",
     "evalue": "float() argument must be a string or a real number, not 'complex'",
     "output_type": "error",
     "traceback": [
      "\u001b[1;31m---------------------------------------------------------------------------\u001b[0m",
      "\u001b[1;31mTypeError\u001b[0m                                 Traceback (most recent call last)",
      "Cell \u001b[1;32mIn[16], line 1\u001b[0m\n\u001b[1;32m----> 1\u001b[0m \u001b[38;5;28mfloat\u001b[39m(\u001b[38;5;241m1\u001b[39m\u001b[38;5;241m+\u001b[39m\u001b[38;5;241m2\u001b[39mj)\n",
      "\u001b[1;31mTypeError\u001b[0m: float() argument must be a string or a real number, not 'complex'"
     ]
    }
   ],
   "source": [
    "float(1+2j)"
   ]
  },
  {
   "cell_type": "code",
   "execution_count": 19,
   "id": "3b257e93-0213-4260-a7a2-d7ad1dde152b",
   "metadata": {},
   "outputs": [
    {
     "data": {
      "text/plain": [
       "10.0"
      ]
     },
     "execution_count": 19,
     "metadata": {},
     "output_type": "execute_result"
    }
   ],
   "source": [
    "float('10')"
   ]
  },
  {
   "cell_type": "code",
   "execution_count": 21,
   "id": "0129ca55-c4cb-4c4d-a525-368337505e9f",
   "metadata": {},
   "outputs": [
    {
     "ename": "ValueError",
     "evalue": "could not convert string to float: 'ten'",
     "output_type": "error",
     "traceback": [
      "\u001b[1;31m---------------------------------------------------------------------------\u001b[0m",
      "\u001b[1;31mValueError\u001b[0m                                Traceback (most recent call last)",
      "Cell \u001b[1;32mIn[21], line 1\u001b[0m\n\u001b[1;32m----> 1\u001b[0m \u001b[38;5;28mfloat\u001b[39m(\u001b[38;5;124m'\u001b[39m\u001b[38;5;124mten\u001b[39m\u001b[38;5;124m'\u001b[39m)\n",
      "\u001b[1;31mValueError\u001b[0m: could not convert string to float: 'ten'"
     ]
    }
   ],
   "source": [
    "float('ten')"
   ]
  },
  {
   "cell_type": "markdown",
   "id": "09e5aa95-2023-4661-8f29-1f10b8a95b2b",
   "metadata": {},
   "source": [
    "#from other data types to complex and texr string  not possible"
   ]
  },
  {
   "cell_type": "code",
   "execution_count": 23,
   "id": "14252d3c-df8c-4e08-8670-ccb8ef6e40d3",
   "metadata": {},
   "outputs": [
    {
     "data": {
      "text/plain": [
       "(10+0j)"
      ]
     },
     "execution_count": 23,
     "metadata": {},
     "output_type": "execute_result"
    }
   ],
   "source": [
    "complex(10)"
   ]
  },
  {
   "cell_type": "code",
   "execution_count": 25,
   "id": "0c3bd6f6-b01e-459d-bf3a-5fd52693e84a",
   "metadata": {},
   "outputs": [
    {
     "data": {
      "text/plain": [
       "(10+20j)"
      ]
     },
     "execution_count": 25,
     "metadata": {},
     "output_type": "execute_result"
    }
   ],
   "source": [
    "complex(10 , 20)\n"
   ]
  },
  {
   "cell_type": "code",
   "execution_count": 27,
   "id": "06b1dc49-e753-4d5c-ad38-0f74a02d849c",
   "metadata": {},
   "outputs": [
    {
     "ename": "TypeError",
     "evalue": "complex() takes at most 2 arguments (3 given)",
     "output_type": "error",
     "traceback": [
      "\u001b[1;31m---------------------------------------------------------------------------\u001b[0m",
      "\u001b[1;31mTypeError\u001b[0m                                 Traceback (most recent call last)",
      "Cell \u001b[1;32mIn[27], line 1\u001b[0m\n\u001b[1;32m----> 1\u001b[0m \u001b[38;5;28mcomplex\u001b[39m(\u001b[38;5;241m10\u001b[39m,\u001b[38;5;241m20\u001b[39m,\u001b[38;5;241m30\u001b[39m)\n",
      "\u001b[1;31mTypeError\u001b[0m: complex() takes at most 2 arguments (3 given)"
     ]
    }
   ],
   "source": [
    "complex(10,20,30)"
   ]
  },
  {
   "cell_type": "code",
   "execution_count": 29,
   "id": "1bb01a8d-474e-42e3-85ce-89df6a5fd669",
   "metadata": {},
   "outputs": [
    {
     "data": {
      "text/plain": [
       "(1+0j)"
      ]
     },
     "execution_count": 29,
     "metadata": {},
     "output_type": "execute_result"
    }
   ],
   "source": [
    "complex(True)"
   ]
  },
  {
   "cell_type": "code",
   "execution_count": 31,
   "id": "703a09e7-34e5-4c9c-947c-a59630663909",
   "metadata": {},
   "outputs": [
    {
     "data": {
      "text/plain": [
       "0j"
      ]
     },
     "execution_count": 31,
     "metadata": {},
     "output_type": "execute_result"
    }
   ],
   "source": [
    "complex(False)"
   ]
  },
  {
   "cell_type": "code",
   "execution_count": 33,
   "id": "6773a123-c790-4bdd-94ef-6b18f7cfa590",
   "metadata": {},
   "outputs": [
    {
     "data": {
      "text/plain": [
       "(10+0j)"
      ]
     },
     "execution_count": 33,
     "metadata": {},
     "output_type": "execute_result"
    }
   ],
   "source": [
    "complex(\"10\")"
   ]
  },
  {
   "cell_type": "code",
   "execution_count": 35,
   "id": "ae4af192-682e-46e5-bc63-45f7eeb53cdf",
   "metadata": {},
   "outputs": [
    {
     "data": {
      "text/plain": [
       "(2.5+85j)"
      ]
     },
     "execution_count": 35,
     "metadata": {},
     "output_type": "execute_result"
    }
   ],
   "source": [
    "complex(2.5,85)"
   ]
  },
  {
   "cell_type": "markdown",
   "id": "608b91fd-123b-47b9-823e-d8f4c32a74d5",
   "metadata": {},
   "source": [
    "#from other data types to complex and text string not possible"
   ]
  },
  {
   "cell_type": "code",
   "execution_count": 37,
   "id": "219f66e0-aece-47b4-8c7e-c093b8c12054",
   "metadata": {},
   "outputs": [
    {
     "data": {
      "text/plain": [
       "True"
      ]
     },
     "execution_count": 37,
     "metadata": {},
     "output_type": "execute_result"
    }
   ],
   "source": [
    "bool(8)"
   ]
  },
  {
   "cell_type": "code",
   "execution_count": 39,
   "id": "9fcc2263-9418-4a2a-a3d7-8d9097f1a1df",
   "metadata": {},
   "outputs": [
    {
     "data": {
      "text/plain": [
       "True"
      ]
     },
     "execution_count": 39,
     "metadata": {},
     "output_type": "execute_result"
    }
   ],
   "source": [
    "bool(3.2)"
   ]
  },
  {
   "cell_type": "code",
   "execution_count": 41,
   "id": "b9fbf34b-9a89-4a70-8b51-9fa3df1e3270",
   "metadata": {},
   "outputs": [
    {
     "data": {
      "text/plain": [
       "False"
      ]
     },
     "execution_count": 41,
     "metadata": {},
     "output_type": "execute_result"
    }
   ],
   "source": [
    "bool(0.0)"
   ]
  },
  {
   "cell_type": "code",
   "execution_count": 43,
   "id": "25f16efe-bfaa-45ee-ba68-ee481b505d3b",
   "metadata": {},
   "outputs": [
    {
     "data": {
      "text/plain": [
       "True"
      ]
     },
     "execution_count": 43,
     "metadata": {},
     "output_type": "execute_result"
    }
   ],
   "source": [
    "bool(1+2j)"
   ]
  },
  {
   "cell_type": "code",
   "execution_count": 45,
   "id": "9a64a066-07f9-43a8-80cc-3bf8c37917c0",
   "metadata": {},
   "outputs": [
    {
     "data": {
      "text/plain": [
       "True"
      ]
     },
     "execution_count": 45,
     "metadata": {},
     "output_type": "execute_result"
    }
   ],
   "source": [
    "bool('10')"
   ]
  },
  {
   "cell_type": "code",
   "execution_count": 47,
   "id": "820dbd40-1d8c-490e-a869-64929f553932",
   "metadata": {},
   "outputs": [
    {
     "data": {
      "text/plain": [
       "True"
      ]
     },
     "execution_count": 47,
     "metadata": {},
     "output_type": "execute_result"
    }
   ],
   "source": [
    "bool(_)\n"
   ]
  },
  {
   "cell_type": "code",
   "execution_count": 49,
   "id": "49eaaf4b-1898-4bda-9345-3f9995a7bab9",
   "metadata": {},
   "outputs": [
    {
     "data": {
      "text/plain": [
       "False"
      ]
     },
     "execution_count": 49,
     "metadata": {},
     "output_type": "execute_result"
    }
   ],
   "source": [
    "bool( )"
   ]
  },
  {
   "cell_type": "code",
   "execution_count": null,
   "id": "dac82f27-56a9-4b30-9d97-5ffe1bf17bf3",
   "metadata": {},
   "outputs": [],
   "source": [
    "#any non zero is true and 0 is false\n"
   ]
  },
  {
   "cell_type": "markdown",
   "id": "f25ae497-021c-4cba-9bc0-839666f40bc1",
   "metadata": {},
   "source": [
    "#string indexing &slicing , aadvance slicing \n"
   ]
  },
  {
   "cell_type": "code",
   "execution_count": 55,
   "id": "bae70afb-a3b3-4dd7-9ef7-fc468a0f7c52",
   "metadata": {},
   "outputs": [],
   "source": [
    "s9= 'hellopython'"
   ]
  },
  {
   "cell_type": "code",
   "execution_count": 57,
   "id": "914f9009-407f-41f7-95bb-f24143dd2e3e",
   "metadata": {},
   "outputs": [
    {
     "data": {
      "text/plain": [
       "'hellopython'"
      ]
     },
     "execution_count": 57,
     "metadata": {},
     "output_type": "execute_result"
    }
   ],
   "source": [
    "s9"
   ]
  },
  {
   "cell_type": "code",
   "execution_count": 59,
   "id": "b8c8b3f2-943b-495b-a5d9-8a5055a6446b",
   "metadata": {},
   "outputs": [
    {
     "data": {
      "text/plain": [
       "'hellopython'"
      ]
     },
     "execution_count": 59,
     "metadata": {},
     "output_type": "execute_result"
    }
   ],
   "source": [
    "s9[:]"
   ]
  },
  {
   "cell_type": "code",
   "execution_count": 67,
   "id": "630cb8fc-29e1-486a-8147-d6ac38bef4f9",
   "metadata": {},
   "outputs": [
    {
     "name": "stdout",
     "output_type": "stream",
     "text": [
      "h\n",
      "e\n",
      "l\n",
      "l\n",
      "o\n",
      "p\n",
      "y\n",
      "t\n",
      "h\n",
      "o\n",
      "n\n"
     ]
    }
   ],
   "source": [
    "for i in s9:\n",
    "    print(i)\n",
    "    \n"
   ]
  },
  {
   "cell_type": "code",
   "execution_count": 69,
   "id": "ff819527-3a42-48b1-a71a-935d5f9a2c7a",
   "metadata": {},
   "outputs": [
    {
     "data": {
      "text/plain": [
       "'hellopython'"
      ]
     },
     "execution_count": 69,
     "metadata": {},
     "output_type": "execute_result"
    }
   ],
   "source": [
    "s9\n"
   ]
  },
  {
   "cell_type": "code",
   "execution_count": 71,
   "id": "24add6fc-490c-4149-8dd9-ec0f9f863221",
   "metadata": {},
   "outputs": [
    {
     "data": {
      "text/plain": [
       "'hellopython'"
      ]
     },
     "execution_count": 71,
     "metadata": {},
     "output_type": "execute_result"
    }
   ],
   "source": [
    "s9[::]"
   ]
  },
  {
   "cell_type": "code",
   "execution_count": 73,
   "id": "f9019fc1-428a-4f85-bf08-83aaa59a7381",
   "metadata": {},
   "outputs": [
    {
     "data": {
      "text/plain": [
       "'nohtypolleh'"
      ]
     },
     "execution_count": 73,
     "metadata": {},
     "output_type": "execute_result"
    }
   ],
   "source": [
    "s9[::-1]"
   ]
  },
  {
   "cell_type": "code",
   "execution_count": 75,
   "id": "2d65ca1e-d379-49a1-b4e1-dc61689ca119",
   "metadata": {},
   "outputs": [
    {
     "data": {
      "text/plain": [
       "'hello'"
      ]
     },
     "execution_count": 75,
     "metadata": {},
     "output_type": "execute_result"
    }
   ],
   "source": [
    "s9[0:5]"
   ]
  },
  {
   "cell_type": "code",
   "execution_count": 77,
   "id": "3783b3f5-d864-46e9-8d13-ea6621eb243e",
   "metadata": {},
   "outputs": [
    {
     "data": {
      "text/plain": [
       "'hellopytho'"
      ]
     },
     "execution_count": 77,
     "metadata": {},
     "output_type": "execute_result"
    }
   ],
   "source": [
    "s9[0:-1]"
   ]
  },
  {
   "cell_type": "code",
   "execution_count": 79,
   "id": "0f72b0f9-719e-4c5d-9867-0efea48a848a",
   "metadata": {},
   "outputs": [
    {
     "data": {
      "text/plain": [
       "'hellopython'"
      ]
     },
     "execution_count": 79,
     "metadata": {},
     "output_type": "execute_result"
    }
   ],
   "source": [
    "s9[0:20]"
   ]
  },
  {
   "cell_type": "code",
   "execution_count": 81,
   "id": "3397300e-8aaa-4c94-a735-72eab553d846",
   "metadata": {},
   "outputs": [
    {
     "data": {
      "text/plain": [
       "'ellopython'"
      ]
     },
     "execution_count": 81,
     "metadata": {},
     "output_type": "execute_result"
    }
   ],
   "source": [
    "s9[1:66]"
   ]
  },
  {
   "cell_type": "code",
   "execution_count": 91,
   "id": "6cbbabb9-7b11-4cfd-b313-be63e253d781",
   "metadata": {},
   "outputs": [
    {
     "data": {
      "text/plain": [
       "'hellopyth'"
      ]
     },
     "execution_count": 91,
     "metadata": {},
     "output_type": "execute_result"
    }
   ],
   "source": [
    "s9[:9]"
   ]
  },
  {
   "cell_type": "code",
   "execution_count": 93,
   "id": "d7a19582-310a-4e4f-ac78-3aeceb2f2b7e",
   "metadata": {},
   "outputs": [
    {
     "data": {
      "text/plain": [
       "'llopython'"
      ]
     },
     "execution_count": 93,
     "metadata": {},
     "output_type": "execute_result"
    }
   ],
   "source": [
    "s9[2:]"
   ]
  },
  {
   "cell_type": "code",
   "execution_count": 95,
   "id": "0b3fccbc-ff94-481b-985d-2dc223694b96",
   "metadata": {},
   "outputs": [
    {
     "data": {
      "text/plain": [
       "'python'"
      ]
     },
     "execution_count": 95,
     "metadata": {},
     "output_type": "execute_result"
    }
   ],
   "source": [
    "s9[5:]\n"
   ]
  },
  {
   "cell_type": "code",
   "execution_count": 97,
   "id": "3470ab33-7319-4bec-8c93-bb16e12b2522",
   "metadata": {},
   "outputs": [
    {
     "data": {
      "text/plain": [
       "'hloyhn'"
      ]
     },
     "execution_count": 97,
     "metadata": {},
     "output_type": "execute_result"
    }
   ],
   "source": [
    "s9[0:11:2]"
   ]
  },
  {
   "cell_type": "code",
   "execution_count": null,
   "id": "015daef8-5876-45f3-8b3a-f87e73b59790",
   "metadata": {},
   "outputs": [],
   "source": []
  }
 ],
 "metadata": {
  "kernelspec": {
   "display_name": "Python [conda env:base] *",
   "language": "python",
   "name": "conda-base-py"
  },
  "language_info": {
   "codemirror_mode": {
    "name": "ipython",
    "version": 3
   },
   "file_extension": ".py",
   "mimetype": "text/x-python",
   "name": "python",
   "nbconvert_exporter": "python",
   "pygments_lexer": "ipython3",
   "version": "3.12.7"
  }
 },
 "nbformat": 4,
 "nbformat_minor": 5
}
