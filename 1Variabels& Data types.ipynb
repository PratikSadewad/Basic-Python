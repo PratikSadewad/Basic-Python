{
 "cells": [
  {
   "cell_type": "markdown",
   "id": "952191ee-464f-42a1-aa0e-ce1a38fb751c",
   "metadata": {},
   "source": [
    "# Variabels "
   ]
  },
  {
   "cell_type": "code",
   "execution_count": 1,
   "id": "d62a143f-b4ff-4508-ac8c-f8ac8ea0ff38",
   "metadata": {},
   "outputs": [
    {
     "data": {
      "text/plain": [
       "9"
      ]
     },
     "execution_count": 1,
     "metadata": {},
     "output_type": "execute_result"
    }
   ],
   "source": [
    "va =9\n",
    "va "
   ]
  },
  {
   "cell_type": "code",
   "execution_count": 2,
   "id": "69672bb1-52d0-4b18-9ae6-32f731cb44cb",
   "metadata": {},
   "outputs": [
    {
     "data": {
      "text/plain": [
       "140728992619192"
      ]
     },
     "execution_count": 2,
     "metadata": {},
     "output_type": "execute_result"
    }
   ],
   "source": [
    "id(va) # (memory )variable address of the object"
   ]
  },
  {
   "cell_type": "code",
   "execution_count": 3,
   "id": "7a188ac4-fe12-46d7-b379-49a8effe1528",
   "metadata": {},
   "outputs": [
    {
     "ename": "SyntaxError",
     "evalue": "invalid decimal literal (1479807941.py, line 1)",
     "output_type": "error",
     "traceback": [
      "\u001b[1;36m  Cell \u001b[1;32mIn[3], line 1\u001b[1;36m\u001b[0m\n\u001b[1;33m    1nit = 18\u001b[0m\n\u001b[1;37m    ^\u001b[0m\n\u001b[1;31mSyntaxError\u001b[0m\u001b[1;31m:\u001b[0m invalid decimal literal\n"
     ]
    }
   ],
   "source": [
    "1nit = 18\n",
    "1nit"
   ]
  },
  {
   "cell_type": "code",
   "execution_count": null,
   "id": "c486f01b-2c57-4653-91a7-c3795e0d2ca3",
   "metadata": {},
   "outputs": [],
   "source": [
    "#veriable never starts with digit but can end\n"
   ]
  },
  {
   "cell_type": "code",
   "execution_count": null,
   "id": "7843505d-ef6e-4b10-92c7-e8dc2e7cc241",
   "metadata": {
    "scrolled": true
   },
   "outputs": [],
   "source": [
    "nit1 = 18\n",
    "nit1\n"
   ]
  },
  {
   "cell_type": "code",
   "execution_count": null,
   "id": "7c9d3252-6108-4ad5-b9f6-64d66566e930",
   "metadata": {},
   "outputs": [],
   "source": [
    "nit2=19\n",
    "NIT1\n"
   ]
  },
  {
   "cell_type": "code",
   "execution_count": null,
   "id": "bc1fea04-a874-4e2c-8a3e-a49cc98da710",
   "metadata": {},
   "outputs": [],
   "source": [
    "# variable is case sensitive\n",
    "#special charecter is not allowed except _\n"
   ]
  },
  {
   "cell_type": "code",
   "execution_count": null,
   "id": "4cb18f94-0e60-4350-8350-1893e3832012",
   "metadata": {},
   "outputs": [],
   "source": [
    "nit$=1\n",
    "nit$"
   ]
  },
  {
   "cell_type": "code",
   "execution_count": null,
   "id": "de9c2b58-50da-4972-89d8-74ffec8ae19f",
   "metadata": {},
   "outputs": [],
   "source": [
    "v_=90"
   ]
  },
  {
   "cell_type": "code",
   "execution_count": null,
   "id": "a3683a88-048d-4d9e-a484-188d31612a65",
   "metadata": {},
   "outputs": [],
   "source": [
    "v_"
   ]
  },
  {
   "cell_type": "code",
   "execution_count": null,
   "id": "6384ec5e-8e1c-45a0-a3cb-abdaf5f12f2b",
   "metadata": {},
   "outputs": [],
   "source": [
    "import keyword \n",
    "keyword.kwlist\n"
   ]
  },
  {
   "cell_type": "code",
   "execution_count": null,
   "id": "dce7de15-1ff4-4df2-b9ab-b458bbd7fb6c",
   "metadata": {},
   "outputs": [],
   "source": [
    "len(keyword.kwlist)"
   ]
  },
  {
   "cell_type": "code",
   "execution_count": null,
   "id": "e3892f88-7810-4904-96e3-d4e1f2567f1f",
   "metadata": {},
   "outputs": [],
   "source": [
    "#keyword can not be variable as they r predefined\n"
   ]
  },
  {
   "cell_type": "code",
   "execution_count": null,
   "id": "c3c2d314-9ec4-44e2-a83b-de5c6d300d0e",
   "metadata": {},
   "outputs": [],
   "source": [
    "for = 1\n",
    "for"
   ]
  },
  {
   "cell_type": "code",
   "execution_count": null,
   "id": "aaf22404-e991-43e8-a702-24b4f34bd4a7",
   "metadata": {},
   "outputs": [],
   "source": [
    "For = 1\n",
    "For"
   ]
  },
  {
   "cell_type": "code",
   "execution_count": null,
   "id": "65a56dbc-3e75-459d-a248-8000592254e6",
   "metadata": {},
   "outputs": [],
   "source": [
    "a= 5\n",
    "b=9\n",
    "c=4\n",
    "\n",
    "a\n",
    "b\n",
    "c"
   ]
  },
  {
   "cell_type": "code",
   "execution_count": null,
   "id": "871617f5-0c91-431c-924e-8037c6abc79b",
   "metadata": {},
   "outputs": [],
   "source": [
    "print (a)\n",
    "print (b)\n",
    "print(c)"
   ]
  },
  {
   "cell_type": "code",
   "execution_count": null,
   "id": "39e379e6-3bae-4dd3-a132-d3f4be48ed44",
   "metadata": {},
   "outputs": [],
   "source": [
    "#print is used for multiple variables\n"
   ]
  },
  {
   "cell_type": "code",
   "execution_count": null,
   "id": "bbf637d3-17f4-48c2-a8be-d0a988569ecf",
   "metadata": {},
   "outputs": [],
   "source": [
    "import sys\n",
    "sys.version"
   ]
  },
  {
   "cell_type": "code",
   "execution_count": null,
   "id": "bc14d23c-ecb5-4dc3-846e-738ebbae044b",
   "metadata": {},
   "outputs": [],
   "source": [
    "# = comment\n"
   ]
  },
  {
   "cell_type": "code",
   "execution_count": null,
   "id": "c7d9190d-d9ad-43eb-bb7d-69839fb68823",
   "metadata": {},
   "outputs": [],
   "source": [
    "# oops  = object orientrd programming language\n"
   ]
  },
  {
   "cell_type": "code",
   "execution_count": null,
   "id": "8a6c882b-e9ab-4059-9e1f-90db847ed50d",
   "metadata": {},
   "outputs": [],
   "source": [
    "a=10\n",
    "a"
   ]
  },
  {
   "cell_type": "code",
   "execution_count": null,
   "id": "a4711319-1226-40b8-a9d7-664b525d63fa",
   "metadata": {},
   "outputs": [],
   "source": [
    "a = 20\n",
    "a"
   ]
  },
  {
   "cell_type": "code",
   "execution_count": null,
   "id": "be627ff7-34a1-468f-8b6a-c13fde5ee1ed",
   "metadata": {},
   "outputs": [],
   "source": [
    "# next line override previous line \n"
   ]
  },
  {
   "cell_type": "code",
   "execution_count": null,
   "id": "f290e2ee-f17b-4133-b4ff-347da9ee5619",
   "metadata": {},
   "outputs": [],
   "source": [
    "#ide = integrated development environment = write code , run code , debug the code\n",
    "#jupiter ide \n",
    "#vscode ide \n",
    "\n",
    "      "
   ]
  },
  {
   "cell_type": "code",
   "execution_count": null,
   "id": "ce830653-363c-4041-b390-443b692da5d1",
   "metadata": {},
   "outputs": [],
   "source": [
    "# interpreter = run code line by line \n",
    "# compiler =entire code run at once "
   ]
  },
  {
   "cell_type": "markdown",
   "id": "78a99d5f-439f-4503-80ec-053742099f6b",
   "metadata": {},
   "source": [
    "# Data types"
   ]
  },
  {
   "cell_type": "code",
   "execution_count": null,
   "id": "85da77d8-23c0-4f4f-80ac-45832ac98f12",
   "metadata": {},
   "outputs": [],
   "source": [
    "# variable names = value \n",
    "a = 10\n",
    "# type ( a ) ----int\n",
    "#values r called data types \n",
    "f =10.3 __f==float \n",
    "# python data types\n",
    "     # 1.int \n",
    "     # 2.float \n",
    "     # 3.string \n",
    "     # 4.bool\n",
    "     # 5.complex)\n"
   ]
  },
  {
   "cell_type": "code",
   "execution_count": null,
   "id": "83900237-12a1-4070-9952-d8bdf9b31c3c",
   "metadata": {},
   "outputs": [],
   "source": [
    "# INTEGER DATATYPES\n"
   ]
  },
  {
   "cell_type": "code",
   "execution_count": null,
   "id": "6d7a7258-2a2f-456e-8414-64c28569e0b2",
   "metadata": {},
   "outputs": [],
   "source": [
    "i=45\n",
    "i"
   ]
  },
  {
   "cell_type": "code",
   "execution_count": null,
   "id": "61757071-447c-456f-a4c3-99f8cf59a2a6",
   "metadata": {},
   "outputs": [],
   "source": [
    "print(i)\n",
    "print(type(i))"
   ]
  },
  {
   "cell_type": "code",
   "execution_count": null,
   "id": "09474ee5-313c-4469-83d8-2df00113914f",
   "metadata": {},
   "outputs": [],
   "source": [
    "#float data types\n",
    "petrol=110.56\n",
    "petrol\n"
   ]
  },
  {
   "cell_type": "code",
   "execution_count": null,
   "id": "819063c2-e2af-4878-8194-ad8ca6e28c2c",
   "metadata": {},
   "outputs": [],
   "source": [
    "print(petrol)\n",
    "print(type(petrol))\n"
   ]
  },
  {
   "cell_type": "code",
   "execution_count": null,
   "id": "874c5bcb-4597-45d0-8224-c79ef0180a4a",
   "metadata": {},
   "outputs": [],
   "source": [
    "\n",
    "i1,i2 = 12 , "
   ]
  },
  {
   "cell_type": "code",
   "execution_count": null,
   "id": "4f1e33da-ef89-4245-ac50-213710c4a9bd",
   "metadata": {},
   "outputs": [],
   "source": [
    "2 variabels , one value = error \n"
   ]
  },
  {
   "cell_type": "code",
   "execution_count": null,
   "id": "b918ed56-64f5-4c4c-a791-d944cfba4278",
   "metadata": {},
   "outputs": [],
   "source": [
    "i1,i2=12,88\n",
    "print (i1)\n",
    "print (i2)\n"
   ]
  },
  {
   "cell_type": "code",
   "execution_count": null,
   "id": "23ae5536-0077-4bc5-ad15-01a2cfeb9193",
   "metadata": {},
   "outputs": [],
   "source": [
    "print(i1+i2)"
   ]
  },
  {
   "cell_type": "code",
   "execution_count": null,
   "id": "da2fcb46-2aca-4ecd-b371-fd30b572a354",
   "metadata": {},
   "outputs": [],
   "source": [
    "print (i1+2)"
   ]
  },
  {
   "cell_type": "code",
   "execution_count": null,
   "id": "4e9449e9-22e5-4257-8df9-461847e24a93",
   "metadata": {},
   "outputs": [],
   "source": [
    "#string datatypes\n",
    "s=nareshit "
   ]
  },
  {
   "cell_type": "code",
   "execution_count": null,
   "id": "dd8ac82d-679a-484b-992f-f50b4b795812",
   "metadata": {},
   "outputs": [],
   "source": [
    "s = 'nareshit'\n",
    "type(s)"
   ]
  },
  {
   "cell_type": "code",
   "execution_count": null,
   "id": "83502fa3-1c72-49fd-8e17-cc78d3126308",
   "metadata": {},
   "outputs": [],
   "source": [
    "s1=\"nareshit\"\n"
   ]
  },
  {
   "cell_type": "code",
   "execution_count": null,
   "id": "ea61f674-728d-4957-b838-20cf069797f9",
   "metadata": {},
   "outputs": [],
   "source": [
    "s1"
   ]
  },
  {
   "cell_type": "code",
   "execution_count": null,
   "id": "2a0fcd36-26b0-4087-8cd5-162c3fedef29",
   "metadata": {},
   "outputs": [],
   "source": [
    "s2='''naresh it is located\n",
    "in hyderabad , ammerpet ''' "
   ]
  },
  {
   "cell_type": "code",
   "execution_count": null,
   "id": "afab9e65-83fe-46de-a4b5-31e03a6a9556",
   "metadata": {},
   "outputs": [],
   "source": [
    "s2"
   ]
  },
  {
   "cell_type": "code",
   "execution_count": null,
   "id": "f0e920cf-deae-48b0-9336-55edc1474bbe",
   "metadata": {},
   "outputs": [],
   "source": [
    "#str \n",
    "#for single line '  ' and \"  \"\n",
    "#for multiple line '''   '''\n",
    "# string is text assigened to a variable\n",
    "#string indexing \n",
    "#forward indexing = left to right (begins with 0)\n",
    "#backward indexing = right to left (begins with -1)\n",
    "#n=n-1\n"
   ]
  },
  {
   "cell_type": "code",
   "execution_count": null,
   "id": "ce54cae5-4ec7-4eb4-be64-334d32289b52",
   "metadata": {},
   "outputs": [],
   "source": [
    "#slicing\n"
   ]
  },
  {
   "cell_type": "code",
   "execution_count": null,
   "id": "b6151664-b314-4d36-bd55-bb81edc96802",
   "metadata": {},
   "outputs": [],
   "source": [
    "s='narshit' \n",
    "print(s[0])\n",
    "print(s[-1])\n",
    "print(s[2:5])"
   ]
  },
  {
   "cell_type": "raw",
   "id": "2c776c00-908e-4b06-90f5-b26cf091d467",
   "metadata": {},
   "source": [
    "ptint s[0]\n",
    "print s[-1]\n",
    "print s[2:5}"
   ]
  },
  {
   "cell_type": "code",
   "execution_count": null,
   "id": "74966cd0-851c-47c4-82a9-1688c275029d",
   "metadata": {},
   "outputs": [],
   "source": []
  }
 ],
 "metadata": {
  "kernelspec": {
   "display_name": "Python [conda env:base] *",
   "language": "python",
   "name": "conda-base-py"
  },
  "language_info": {
   "codemirror_mode": {
    "name": "ipython",
    "version": 3
   },
   "file_extension": ".py",
   "mimetype": "text/x-python",
   "name": "python",
   "nbconvert_exporter": "python",
   "pygments_lexer": "ipython3",
   "version": "3.12.3"
  }
 },
 "nbformat": 4,
 "nbformat_minor": 5
}
