{
 "cells": [
  {
   "cell_type": "markdown",
   "metadata": {},
   "source": [
    "# Arithmetic Operations & Strings in Python\n",
    "\n",
    "This notebook covers the basics of arithmetic operations and string manipulations with clear code, comments, and examples."
   ]
  },
  {
   "cell_type": "markdown",
   "metadata": {},
   "source": [
    "## Arithmetic Operations\n",
    "\n",
    "Arithmetic operations are used for mathematical calculations. The symbols are called **operators** and the numbers are **operands**."
   ]
  },
  {
   "cell_type": "code",
   "metadata": {},
   "source": [
    "# Example: Combined arithmetic\n",
    "result = 9 + 9 - 10 * 3 - 3\n",
    "print(result)  # Output: -15"
   ]
  },
  {
   "cell_type": "markdown",
   "metadata": {},
   "source": [
    "- `+` : Addition\n",
    "- `-` : Subtraction\n",
    "- `*` : Multiplication\n",
    "- `/` : Division (returns float)\n",
    "- `//` : Floor division (returns integer)\n",
    "- `%` : Modulus (returns remainder)\n",
    "- `**` : Exponentiation (power)"
   ]
  },
  {
   "cell_type": "code",
   "metadata": {},
   "source": [
    "# Multiplication\n",
    "print(7 * 7)  # 49"
   ]
  },
  {
   "cell_type": "code",
   "metadata": {},
   "source": [
    "# Exponentiation\n",
    "print(7 ** 3)  # 343 (7 cubed)"
   ]
  },
  {
   "cell_type": "code",
   "metadata": {},
   "source": [
    "# Division, Floor Division, Modulus\n",
    "print(10 / 4)   # 2.5 (float division)\n",
    "print(10 // 4)  # 2 (integer division)\n",
    "print(10 % 4)   # 2 (remainder)"
   ]
  },
  {
   "cell_type": "code",
   "metadata": {},
   "source": [
    "# Parentheses change order of operations\n",
    "print((9 + 9 - 10) * (3 - 3))  # 0"
   ]
  },
  {
   "cell_type": "code",
   "metadata": {},
   "source": [
    "# Unary operator (negation)\n",
    "n = 7\n",
    "print(-n)  # -7"
   ]
  },
  {
   "cell_type": "markdown",
   "metadata": {},
   "source": [
    "### Assignment Operators\n",
    "\n",
    "Assignment operators let you update a variable with a new value based on its old value."
   ]
  },
  {
   "cell_type": "code",
   "metadata": {},
   "source": [
    "x = 10  # assignment\n",
    "x += 2  # x = x + 2\n",
    "print(x)  # 12\n",
    "x -= 2  # x = x - 2\n",
    "print(x)  # 10\n",
    "x *= 2  # x = x * 2\n",
    "print(x)  # 20\n",
    "x /= 2  # x = x / 2\n",
    "print(x)  # 10.0\n",
    "x //= 3  # x = x // 3\n",
    "print(x)  # 3.0\n",
    "x %= 2  # x = x % 2\n",
    "print(x)  # 1.0\n",
    "x **= 4  # x = x ** 4\n",
    "print(x)  # 1.0"
   ]
  },
  {
   "cell_type": "markdown",
   "metadata": {},
   "source": [
    "## Strings in Python\n",
    "\n",
    "Strings are sequences of characters. In Python, strings are **immutable** (cannot be changed after creation)."
   ]
  },
  {
   "cell_type": "code",
   "metadata": {},
   "source": [
    "s = \"nareshit\"\n",
    "print(s)              # nareshit\n",
    "print(len(s))         # 8"
   ]
  },
  {
   "cell_type": "markdown",
   "metadata": {},
   "source": [
    "### String Indexing and Slicing\n",
    "\n",
    "Python uses 0-based indexing for strings."
   ]
  },
  {
   "cell_type": "code",
   "metadata": {},
   "source": [
    "print(s[0])           # n (first character)\n",
    "print(s[-1])          # t (last character)\n",
    "print(s[0:5])         # nares (from 0 to 4)\n",
    "print(s[::-1])        # tihseran (reversed string)"
   ]
  },
  {
   "cell_type": "markdown",
   "metadata": {},
   "source": [
    "### Looping through a String"
   ]
  },
  {
   "cell_type": "code",
   "metadata": {},
   "source": [
    "for char in s:\n",
    "    print(char)"
   ]
  },
  {
   "cell_type": "markdown",
   "metadata": {},
   "source": [
    "### String Methods: Some Useful Examples"
   ]
  },
  {
   "cell_type": "code",
   "metadata": {},
   "source": [
    "challenge = 'thirty days of python'\n",
    "print(challenge.capitalize())   # 'Thirty days of python'\n",
    "print(challenge.title())        # 'Thirty Days Of Python'\n",
    "print(challenge.upper())        # 'THIRTY DAYS OF PYTHON'\n",
    "print(challenge.count('y'))     # 3 (number of 'y')"
   ]
  },
  {
   "cell_type": "markdown",
   "metadata": {},
   "source": [
    "### String Concatenation and Formatting"
   ]
  },
  {
   "cell_type": "code",
   "metadata": {},
   "source": [
    "first_name = 'Pratik'\n",
    "last_name = 'Sadewad'\n",
    "full_name = first_name + ' ' + last_name\n",
    "print(full_name)\n",
    "# Using f-string (formatted string literal)\n",
    "age = 25\n",
    "print(f'My name is {full_name} and I am {age} years old.')"
   ]
  },
  {
   "cell_type": "markdown",
   "metadata": {},
   "source": [
    "### Escape Characters\n",
    "\n",
    "- `\\n` : New line\n",
    "- `\\t` : Tab\n",
    "- `\\\\` : Backslash\n",
    "- `\\'` or `\\\"` : Single or double quote"
   ]
  },
  {
   "cell_type": "code",
   "metadata": {},
   "source": [
    "print('Days\\tTopics\\tExercises')\n",
    "print('I hope everyone is enjoying the python challenge.\\nDo you?')"
   ]
  },
  {
   "cell_type": "markdown",
   "metadata": {},
   "source": [
    "### Multiline Strings"
   ]
  },
  {
   "cell_type": "code",
   "metadata": {},
   "source": [
    "print('''I am studying in \n",
    "Naresh IT \n",
    "with Prakash Senapathi sir.''')"
   ]
  },
  {
   "cell_type": "markdown",
   "metadata": {},
   "source": [
    "## Extra: String Immutability\n",
    "\n",
    "Strings cannot be changed in place. Any operation that modifies a string creates a new one."
   ]
  },
  {
   "cell_type": "code",
   "metadata": {},
   "source": [
    "# This will raise an error:\n",
    "# s[0] = 'N'\n",
    "# Instead, create a new string:\n",
    "s = 'N' + s[1:]\n",
    "print(s)"
   ]
  }
 ],
 "metadata": {
  "kernelspec": {
   "display_name": "Python 3",
   "language": "python",
   "name": "python3"
  },
  "language_info": {
   "name": "python",
   "version": "3.x"
  }
 },
 "nbformat": 4,
 "nbformat_minor": 5
}
