{
 "cells": [
  {
   "cell_type": "markdown",
   "metadata": {},
   "source": [
    "# Python Basics: Arithmetic and Strings\n",
    "\n",
    "This notebook introduces Python's arithmetic operations and string manipulations with clear examples and comments for beginners."
   ]
  },
  {
   "cell_type": "markdown",
   "metadata": {},
   "source": [
    "## Arithmetic Operations\n",
    "\n",
    "Arithmetic operations perform mathematical calculations. Operators (e.g., +, -) act on operands (numbers or variables)."
   ]
  },
  {
   "cell_type": "code",
   "metadata": {},
   "source": [
    "# Basic arithmetic operations\n",
    "a = 10\n",
    "b = 3\n",
    "print(f'Addition: {a} + {b} = {a + b}')         # 13\n",
    "print(f'Subtraction: {a} - {b} = {a - b}')      # 7\n",
    "print(f'Multiplication: {a} * {b} = {a * b}')   # 30\n",
    "print(f'Division: {a} / {b} = {a / b}')         # 3.333... (float)\n",
    "print(f'Floor Division: {a} // {b} = {a // b}') # 3 (integer)\n",
    "print(f'Modulus: {a} % {b} = {a % b}')         # 1 (remainder)\n",
    "print(f'Exponentiation: {a} ** 2 = {a ** 2}')   # 100 (power)"
   ]
  },
  {
   "cell_type": "code",
   "metadata": {},
   "source": [
    "# Assignment operators\n",
    "x = 5\n",
    "x += 2  # x = x + 2\n",
    "print(f'After x += 2, x = {x}')  # 7"
   ]
  },
  {
   "cell_type": "markdown",
   "metadata": {},
   "source": [
    "## Strings in Python\n",
    "\n",
    "Strings are sequences of characters, enclosed in quotes. They are immutable (cannot be changed after creation)."
   ]
  },
  {
   "cell_type": "code",
   "metadata": {},
   "source": [
    "# Creating and inspecting a string\n",
    "name = 'Python Learner'\n",
    "print(f'String: {name}')         # Python Learner\n",
    "print(f'Length: {len(name)}')    # 14"
   ]
  },
  {
   "cell_type": "code",
   "metadata": {},
   "source": [
    "# String indexing and slicing\n",
    "print(f'First character: {name[0]}')      # P\n",
    "print(f'Last character: {name[-1]}')      # r\n",
    "print(f'Slice (0 to 6): {name[0:6]}')    # Python\n",
    "print(f'Reversed: {name[::-1]}')          # renraeL nohtyP"
   ]
  },
  {
   "cell_type": "code",
   "metadata": {},
   "source": [
    "# String methods\n",
    "sentence = 'learn python programming'\n",
    "print(f'Capitalized: {sentence.capitalize()}')  # Learn python programming\n",
    "print(f'Title case: {sentence.title()}')        # Learn Python Programming\n",
    "print(f'Upper case: {sentence.upper()}')        # LEARN PYTHON PROGRAMMING\n",
    "print(f'Count of \\'p\\': {sentence.count('p')}') # 3"
   ]
  },
  {
   "cell_type": "code",
   "metadata": {},
   "source": [
    "# String concatenation and f-strings\n",
    "first_name = 'Alex'\n",
    "age = 20\n",
    "full_message = f'Hi, I\\'m {first_name} and I\\'m {age} years old.'\n",
    "print(full_message)  # Hi, I'm Alex and I'm 20 years old."
   ]
  },
  {
   "cell_type": "code",
   "metadata": {},
   "source": [
    "# Multiline string and escape characters\n",
    "multiline = '''Welcome to Python!\n",
    "This is a multiline string.\n",
    "Happy coding!'''\n",
    "print(multiline)\n",
    "print('Line 1\\nLine 2\\tTabbed text')  # \\n for new line, \\t for tab"
   ]
  },
  {
   "cell_type": "code",
   "metadata": {},
   "source": [
    "# String immutability\n",
    "s = 'hello'\n",
    "s = 'H' + s[1:]  # Create new string\n",
    "print(f'Modified string: {s}')  # Hello"
   ]
  }
 ],
 "metadata": {
  "kernelspec": {
   "display_name": "Python 3",
   "language": "python",
   "name": "python3"
  },
  "language_info": {
   "name": "python",
   "version": "3.x"
  }
 },
 "nbformat": 4,
 "nbformat_minor": 5
}
