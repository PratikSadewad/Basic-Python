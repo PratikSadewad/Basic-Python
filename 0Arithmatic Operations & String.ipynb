{
 "cells": [
  {
   "cell_type": "markdown",
   "id": "4da03f84-2733-474e-9a5e-4139ddc22df5",
   "metadata": {},
   "source": [
    "# ARITHMATIC OPERATIONS\n"
   ]
  },
  {
   "cell_type": "code",
   "execution_count": 32,
   "id": "346b83bb-4fbb-40a3-af17-c69a1b2f8c1f",
   "metadata": {},
   "outputs": [
    {
     "data": {
      "text/plain": [
       "-15"
      ]
     },
     "execution_count": 32,
     "metadata": {},
     "output_type": "execute_result"
    }
   ],
   "source": [
    "9+9 -10*3 -3\n",
    "\n"
   ]
  },
  {
   "cell_type": "code",
   "execution_count": 34,
   "id": "6e971975-2b8f-43bb-b514-1e2e7bebaf83",
   "metadata": {},
   "outputs": [],
   "source": [
    "# 9 , 9,10 , 3 , 3 == operend \n",
    "# +,-== operator"
   ]
  },
  {
   "cell_type": "markdown",
   "id": "74d80bb2-cb24-4706-999a-d0fee806875b",
   "metadata": {},
   "source": [
    "### the numbers are called as operend \n",
    "### the -+*/ are called as operator"
   ]
  },
  {
   "cell_type": "markdown",
   "id": "13e54f55-a2a8-47d8-acc5-4814d093eb42",
   "metadata": {},
   "source": [
    "## Arithmatic operators"
   ]
  },
  {
   "cell_type": "code",
   "execution_count": 38,
   "id": "fae80a71-23a4-496b-bc81-24c001272831",
   "metadata": {},
   "outputs": [
    {
     "data": {
      "text/plain": [
       "49"
      ]
     },
     "execution_count": 38,
     "metadata": {},
     "output_type": "execute_result"
    }
   ],
   "source": [
    "7*7 \n",
    "# MULTIPLICATION"
   ]
  },
  {
   "cell_type": "code",
   "execution_count": 40,
   "id": "ad547979-b63f-4fdb-adb6-374f3c91e733",
   "metadata": {},
   "outputs": [
    {
     "data": {
      "text/plain": [
       "823543"
      ]
     },
     "execution_count": 40,
     "metadata": {},
     "output_type": "execute_result"
    }
   ],
   "source": [
    "7**7 \n",
    "# POWER\n"
   ]
  },
  {
   "cell_type": "code",
   "execution_count": 42,
   "id": "c5f8c4ff-3638-44fc-a3c4-dc994b4ad6e5",
   "metadata": {},
   "outputs": [
    {
     "ename": "SyntaxError",
     "evalue": "invalid syntax (4143154682.py, line 1)",
     "output_type": "error",
     "traceback": [
      "\u001b[1;36m  Cell \u001b[1;32mIn[42], line 1\u001b[1;36m\u001b[0m\n\u001b[1;33m    7***7\u001b[0m\n\u001b[1;37m       ^\u001b[0m\n\u001b[1;31mSyntaxError\u001b[0m\u001b[1;31m:\u001b[0m invalid syntax\n"
     ]
    }
   ],
   "source": [
    "7***7\n"
   ]
  },
  {
   "cell_type": "code",
   "execution_count": 44,
   "id": "fa4754ba-755d-4b3f-8425-8e78859ff3ac",
   "metadata": {},
   "outputs": [
    {
     "data": {
      "text/plain": [
       "2.5"
      ]
     },
     "execution_count": 44,
     "metadata": {},
     "output_type": "execute_result"
    }
   ],
   "source": [
    "10/4 \n",
    "#float division"
   ]
  },
  {
   "cell_type": "code",
   "execution_count": 46,
   "id": "30919ff0-ac8f-4703-a129-0de6a997512f",
   "metadata": {},
   "outputs": [
    {
     "data": {
      "text/plain": [
       "2"
      ]
     },
     "execution_count": 46,
     "metadata": {},
     "output_type": "execute_result"
    }
   ],
   "source": [
    "10 // 4\n",
    "# intiger division "
   ]
  },
  {
   "cell_type": "code",
   "execution_count": 48,
   "id": "ec68563f-f05b-4d83-afee-e9b4de8c32fb",
   "metadata": {},
   "outputs": [
    {
     "data": {
      "text/plain": [
       "0"
      ]
     },
     "execution_count": 48,
     "metadata": {},
     "output_type": "execute_result"
    }
   ],
   "source": [
    "10%5\n",
    "#modulas "
   ]
  },
  {
   "cell_type": "code",
   "execution_count": 50,
   "id": "e736a5eb-9d03-4a11-b8f5-3c963f17db56",
   "metadata": {},
   "outputs": [
    {
     "ename": "SyntaxError",
     "evalue": "invalid syntax (2306149895.py, line 1)",
     "output_type": "error",
     "traceback": [
      "\u001b[1;36m  Cell \u001b[1;32mIn[50], line 1\u001b[1;36m\u001b[0m\n\u001b[1;33m    10%%5\u001b[0m\n\u001b[1;37m       ^\u001b[0m\n\u001b[1;31mSyntaxError\u001b[0m\u001b[1;31m:\u001b[0m invalid syntax\n"
     ]
    }
   ],
   "source": [
    "10%%5 \n"
   ]
  },
  {
   "cell_type": "code",
   "execution_count": 52,
   "id": "c89490b2-fe67-4d0c-9c28-af77b88132d8",
   "metadata": {},
   "outputs": [],
   "source": [
    "#ASSIGNMENT OPERATOR\n"
   ]
  },
  {
   "cell_type": "code",
   "execution_count": 54,
   "id": "e979ba0d-6885-4b54-9c94-448aba8aaa8f",
   "metadata": {},
   "outputs": [
    {
     "ename": "SyntaxError",
     "evalue": "invalid syntax (664250512.py, line 2)",
     "output_type": "error",
     "traceback": [
      "\u001b[1;36m  Cell \u001b[1;32mIn[54], line 2\u001b[1;36m\u001b[0m\n\u001b[1;33m    x is called object or variable or identifiers\u001b[0m\n\u001b[1;37m                ^\u001b[0m\n\u001b[1;31mSyntaxError\u001b[0m\u001b[1;31m:\u001b[0m invalid syntax\n"
     ]
    }
   ],
   "source": [
    "x= 10\n",
    "x is called object or variable or identifiers\n",
    "x =variable \n",
    "10= value"
   ]
  },
  {
   "cell_type": "code",
   "execution_count": 56,
   "id": "b81556ca-ae1c-46a3-a27c-f52ac8b904a2",
   "metadata": {},
   "outputs": [],
   "source": [
    "x = 10\n"
   ]
  },
  {
   "cell_type": "code",
   "execution_count": 58,
   "id": "15cc6b4a-93d7-4769-8a1e-500f8924e7e8",
   "metadata": {},
   "outputs": [
    {
     "data": {
      "text/plain": [
       "12"
      ]
     },
     "execution_count": 58,
     "metadata": {},
     "output_type": "execute_result"
    }
   ],
   "source": [
    "x+2\n"
   ]
  },
  {
   "cell_type": "code",
   "execution_count": 60,
   "id": "ac357b70-418f-40fb-a252-4dbfda5206a3",
   "metadata": {},
   "outputs": [
    {
     "data": {
      "text/plain": [
       "12"
      ]
     },
     "execution_count": 60,
     "metadata": {},
     "output_type": "execute_result"
    }
   ],
   "source": [
    "x+2"
   ]
  },
  {
   "cell_type": "markdown",
   "id": "28a3a74f-efc4-4b70-9c7b-524ba0fd1af2",
   "metadata": {},
   "source": [
    "### incremental assignment "
   ]
  },
  {
   "cell_type": "code",
   "execution_count": 63,
   "id": "d7f1fc06-b222-4a66-8fb1-80d7ceac975b",
   "metadata": {},
   "outputs": [
    {
     "data": {
      "text/plain": [
       "12"
      ]
     },
     "execution_count": 63,
     "metadata": {},
     "output_type": "execute_result"
    }
   ],
   "source": [
    "x += 2\n",
    "x"
   ]
  },
  {
   "cell_type": "code",
   "execution_count": 65,
   "id": "0306094c-6823-4a5d-a228-38748747f370",
   "metadata": {},
   "outputs": [
    {
     "data": {
      "text/plain": [
       "14"
      ]
     },
     "execution_count": 65,
     "metadata": {},
     "output_type": "execute_result"
    }
   ],
   "source": [
    "x += 2\n",
    "x"
   ]
  },
  {
   "cell_type": "markdown",
   "id": "0fa47840-38d4-4274-b381-867d8a503fb2",
   "metadata": {},
   "source": [
    " ### decremental assignment"
   ]
  },
  {
   "cell_type": "code",
   "execution_count": 68,
   "id": "2067cb28-0428-42d6-a022-92fcc87378bd",
   "metadata": {},
   "outputs": [
    {
     "data": {
      "text/plain": [
       "12"
      ]
     },
     "execution_count": 68,
     "metadata": {},
     "output_type": "execute_result"
    }
   ],
   "source": [
    "x-=2\n",
    "x\n"
   ]
  },
  {
   "cell_type": "code",
   "execution_count": 70,
   "id": "7be9a606-8300-4805-a28b-96f2ed67c079",
   "metadata": {},
   "outputs": [
    {
     "data": {
      "text/plain": [
       "24"
      ]
     },
     "execution_count": 70,
     "metadata": {},
     "output_type": "execute_result"
    }
   ],
   "source": [
    "x*=2\n",
    "x\n",
    "# modify the x"
   ]
  },
  {
   "cell_type": "code",
   "execution_count": 72,
   "id": "7dfbbd2b-a887-42dd-835b-a921377037b6",
   "metadata": {},
   "outputs": [
    {
     "data": {
      "text/plain": [
       "48"
      ]
     },
     "execution_count": 72,
     "metadata": {},
     "output_type": "execute_result"
    }
   ],
   "source": [
    "x * 2 \n",
    "# just gives operation value"
   ]
  },
  {
   "cell_type": "code",
   "execution_count": 74,
   "id": "29aeadd7-d34e-4332-b543-5bd434568d47",
   "metadata": {},
   "outputs": [
    {
     "data": {
      "text/plain": [
       "48"
      ]
     },
     "execution_count": 74,
     "metadata": {},
     "output_type": "execute_result"
    }
   ],
   "source": [
    "x*=2\n",
    "x"
   ]
  },
  {
   "cell_type": "code",
   "execution_count": 76,
   "id": "612b9cc6-d512-412a-8875-0e2d0a9c9323",
   "metadata": {},
   "outputs": [
    {
     "data": {
      "text/plain": [
       "24.0"
      ]
     },
     "execution_count": 76,
     "metadata": {},
     "output_type": "execute_result"
    }
   ],
   "source": [
    "x/=2\n",
    "x"
   ]
  },
  {
   "cell_type": "code",
   "execution_count": 78,
   "id": "4d8da669-33a4-4a73-854f-9659c164f96e",
   "metadata": {},
   "outputs": [
    {
     "data": {
      "text/plain": [
       "12.0"
      ]
     },
     "execution_count": 78,
     "metadata": {},
     "output_type": "execute_result"
    }
   ],
   "source": [
    "x/=2\n",
    "x"
   ]
  },
  {
   "cell_type": "code",
   "execution_count": 80,
   "id": "ee0c866d-f2c3-47c9-a05c-c7732ab7ee18",
   "metadata": {},
   "outputs": [],
   "source": [
    "\n",
    "# UNARY OPERATOR \n"
   ]
  },
  {
   "cell_type": "code",
   "execution_count": 82,
   "id": "253cec47-5e00-4f85-8673-34e692c1b034",
   "metadata": {},
   "outputs": [
    {
     "data": {
      "text/plain": [
       "-7"
      ]
     },
     "execution_count": 82,
     "metadata": {},
     "output_type": "execute_result"
    }
   ],
   "source": [
    "n=7 \n",
    "m=-(n)\n",
    "m"
   ]
  },
  {
   "cell_type": "markdown",
   "id": "9a0e565a-1540-4a89-87d0-f69a26b66701",
   "metadata": {},
   "source": [
    "## string "
   ]
  },
  {
   "cell_type": "code",
   "execution_count": 85,
   "id": "fc81a3fe-aec9-4997-9e95-851bb81ec5e8",
   "metadata": {},
   "outputs": [
    {
     "data": {
      "text/plain": [
       "'nareshit'"
      ]
     },
     "execution_count": 85,
     "metadata": {},
     "output_type": "execute_result"
    }
   ],
   "source": [
    "\"nareshit\"\n",
    "s= \"nareshit\"\n",
    "s\n"
   ]
  },
  {
   "cell_type": "code",
   "execution_count": 87,
   "id": "4190911f-8a25-4127-a8ae-5f5cc2a22e63",
   "metadata": {},
   "outputs": [
    {
     "data": {
      "text/plain": [
       "8"
      ]
     },
     "execution_count": 87,
     "metadata": {},
     "output_type": "execute_result"
    }
   ],
   "source": [
    "len(s)\n"
   ]
  },
  {
   "cell_type": "markdown",
   "id": "b0ef3b03-ce55-4f76-ab97-7d96edf81dfb",
   "metadata": {},
   "source": [
    "## idexing & slicing "
   ]
  },
  {
   "cell_type": "code",
   "execution_count": 90,
   "id": "27c3fb77-9059-44e9-b300-6242c31af735",
   "metadata": {},
   "outputs": [
    {
     "data": {
      "text/plain": [
       "'h'"
      ]
     },
     "execution_count": 90,
     "metadata": {},
     "output_type": "execute_result"
    }
   ],
   "source": [
    "s[5]"
   ]
  },
  {
   "cell_type": "code",
   "execution_count": 92,
   "id": "a2521253-7e06-4b4f-b37e-b5547ab65c9a",
   "metadata": {},
   "outputs": [
    {
     "data": {
      "text/plain": [
       "'t'"
      ]
     },
     "execution_count": 92,
     "metadata": {},
     "output_type": "execute_result"
    }
   ],
   "source": [
    "s[7]\n",
    "    "
   ]
  },
  {
   "cell_type": "code",
   "execution_count": 94,
   "id": "13c56dbb-6065-479b-b1b6-680bfae002eb",
   "metadata": {},
   "outputs": [
    {
     "name": "stdout",
     "output_type": "stream",
     "text": [
      "n\n",
      "a\n",
      "r\n",
      "e\n",
      "s\n",
      "h\n",
      "i\n",
      "t\n"
     ]
    }
   ],
   "source": [
    "for i in s :\n",
    "    print (i)\n",
    "    \n",
    "\n"
   ]
  },
  {
   "cell_type": "code",
   "execution_count": 96,
   "id": "7edbaaaa-469b-4a11-869a-5979820172e1",
   "metadata": {},
   "outputs": [
    {
     "data": {
      "text/plain": [
       "'nares'"
      ]
     },
     "execution_count": 96,
     "metadata": {},
     "output_type": "execute_result"
    }
   ],
   "source": [
    "s[0:5]\n"
   ]
  },
  {
   "cell_type": "code",
   "execution_count": 98,
   "id": "8e4dc7e1-b216-4cb9-87aa-d083776167e6",
   "metadata": {},
   "outputs": [
    {
     "data": {
      "text/plain": [
       "'nareshit'"
      ]
     },
     "execution_count": 98,
     "metadata": {},
     "output_type": "execute_result"
    }
   ],
   "source": [
    "s[::1]\n"
   ]
  },
  {
   "cell_type": "code",
   "execution_count": 100,
   "id": "6d476a2e-3723-48be-aeea-6184307d8041",
   "metadata": {},
   "outputs": [
    {
     "data": {
      "text/plain": [
       "'tihseran'"
      ]
     },
     "execution_count": 100,
     "metadata": {},
     "output_type": "execute_result"
    }
   ],
   "source": [
    "s[::-1]"
   ]
  },
  {
   "cell_type": "code",
   "execution_count": 102,
   "id": "1dd388ef-9e65-4ea6-858d-24bfa68c2a26",
   "metadata": {},
   "outputs": [
    {
     "data": {
      "text/plain": [
       "'t'"
      ]
     },
     "execution_count": 102,
     "metadata": {},
     "output_type": "execute_result"
    }
   ],
   "source": [
    "s[-1]"
   ]
  },
  {
   "cell_type": "code",
   "execution_count": 104,
   "id": "745edc06-4290-46f9-aed0-069735a72aaa",
   "metadata": {},
   "outputs": [],
   "source": [
    "#Count starts from 0_1_2"
   ]
  },
  {
   "cell_type": "code",
   "execution_count": 106,
   "id": "cb7bdcc4-4dd3-4910-a366-9e7462789285",
   "metadata": {},
   "outputs": [],
   "source": [
    "#reverse count starts form -1_-2 \n",
    "# formula  used is (n-1)"
   ]
  },
  {
   "cell_type": "code",
   "execution_count": 108,
   "id": "9854cd92-73a2-46e1-b347-bf984d3c6aba",
   "metadata": {},
   "outputs": [],
   "source": [
    "language = \"python\""
   ]
  },
  {
   "cell_type": "code",
   "execution_count": 110,
   "id": "df8d6395-0a12-4bd6-868c-778b8063a056",
   "metadata": {},
   "outputs": [],
   "source": [
    "a,b,c,d,e,f=language"
   ]
  },
  {
   "cell_type": "code",
   "execution_count": 112,
   "id": "619c70de-4a5b-4f09-9105-9331cb70fc2a",
   "metadata": {},
   "outputs": [
    {
     "name": "stdout",
     "output_type": "stream",
     "text": [
      "p y t h o n\n"
     ]
    }
   ],
   "source": [
    "print(a,b,c,d,e,f)"
   ]
  },
  {
   "cell_type": "code",
   "execution_count": 114,
   "id": "7ce242d2-5725-4b1e-92eb-6359479c7260",
   "metadata": {},
   "outputs": [
    {
     "name": "stdout",
     "output_type": "stream",
     "text": [
      "p\n",
      "y\n",
      "t\n",
      "h\n",
      "o\n",
      "n\n"
     ]
    }
   ],
   "source": [
    "for i in language:\n",
    "    print(i)\n",
    "\n"
   ]
  },
  {
   "cell_type": "code",
   "execution_count": 116,
   "id": "e280bb85-115d-45f0-b9b2-4f4773aac701",
   "metadata": {},
   "outputs": [
    {
     "name": "stdout",
     "output_type": "stream",
     "text": [
      "I am studying in \n",
      "naresh it \n",
      "with Prakash senapathi sir\n"
     ]
    }
   ],
   "source": [
    "print('''I am studying in \n",
    "naresh it \n",
    "with Prakash senapathi sir''')# ''' ''' are used for mutiple line string"
   ]
  },
  {
   "cell_type": "code",
   "execution_count": 118,
   "id": "8065cf94-30fa-418c-81fb-078333fbfcf6",
   "metadata": {},
   "outputs": [
    {
     "name": "stdout",
     "output_type": "stream",
     "text": [
      "I hope every one enjoying the python challenge.\n",
      "Do you ?\n"
     ]
    }
   ],
   "source": [
    "print('I hope every one enjoying the python challenge.\\nDo you ?')"
   ]
  },
  {
   "cell_type": "code",
   "execution_count": 120,
   "id": "392377a9-7154-4e15-81f4-1ec12b47b434",
   "metadata": {},
   "outputs": [
    {
     "name": "stdout",
     "output_type": "stream",
     "text": [
      "Days\tTopics\tExercises\n"
     ]
    }
   ],
   "source": [
    "print('Days\\tTopics\\tExercises')\n"
   ]
  },
  {
   "cell_type": "code",
   "execution_count": 122,
   "id": "c5b96381-934e-4600-8092-32a874cc3c2b",
   "metadata": {},
   "outputs": [
    {
     "name": "stdout",
     "output_type": "stream",
     "text": [
      "Day 1\t3\t5\n"
     ]
    }
   ],
   "source": [
    "print('Day 1\\t3\\t5')\n",
    "\n"
   ]
  },
  {
   "cell_type": "code",
   "execution_count": 124,
   "id": "c90e79b7-cfd4-48fb-aae6-73cbceec8680",
   "metadata": {},
   "outputs": [
    {
     "name": "stdout",
     "output_type": "stream",
     "text": [
      "Pratik Sadewad\n"
     ]
    }
   ],
   "source": [
    "#String Concatenation\n",
    "first_name = 'Pratik'\n",
    "last_name = 'Sadewad'\n",
    "space=' '\n",
    "full_name = first_name  +  space + last_name\n",
    "print(full_name) "
   ]
  },
  {
   "cell_type": "code",
   "execution_count": 126,
   "id": "86a6ac04-d4b1-4df7-bf10-0e50e3474ea4",
   "metadata": {},
   "outputs": [
    {
     "name": "stdout",
     "output_type": "stream",
     "text": [
      "Thirty days of python\n"
     ]
    }
   ],
   "source": [
    "challenge = 'thirty days of python'\n",
    "print(challenge.capitalize()) "
   ]
  },
  {
   "cell_type": "code",
   "execution_count": 128,
   "id": "2e14b74b-4f5f-4d52-8afb-c26bb0a1501b",
   "metadata": {},
   "outputs": [
    {
     "data": {
      "text/plain": [
       "'Thirty Days Of Python'"
      ]
     },
     "execution_count": 128,
     "metadata": {},
     "output_type": "execute_result"
    }
   ],
   "source": [
    "challenge.title()"
   ]
  },
  {
   "cell_type": "code",
   "execution_count": 142,
   "id": "50595046-bbf3-4234-96d7-7d9b28a1a2ad",
   "metadata": {},
   "outputs": [
    {
     "data": {
      "text/plain": [
       "(3, 1)"
      ]
     },
     "execution_count": 142,
     "metadata": {},
     "output_type": "execute_result"
    }
   ],
   "source": [
    "challenge.count('y'),challenge.count('d') # no. of times letters present in string"
   ]
  },
  {
   "cell_type": "code",
   "execution_count": 146,
   "id": "aa80ea52-96c4-4502-9f95-ce3fa151cbed",
   "metadata": {},
   "outputs": [
    {
     "data": {
      "text/plain": [
       "'thirty days of python'"
      ]
     },
     "execution_count": 146,
     "metadata": {},
     "output_type": "execute_result"
    }
   ],
   "source": [
    "challenge"
   ]
  },
  {
   "cell_type": "code",
   "execution_count": 148,
   "id": "1c3acc63-eb03-4035-b59d-a40074116d2d",
   "metadata": {},
   "outputs": [
    {
     "data": {
      "text/plain": [
       "False"
      ]
     },
     "execution_count": 148,
     "metadata": {},
     "output_type": "execute_result"
    }
   ],
   "source": [
    "challenge.isalnum()  # al = alfa-numeric i.e aA10 = True, space !@#$%% = False"
   ]
  },
  {
   "cell_type": "code",
   "execution_count": 150,
   "id": "83ff2848-11f6-4970-afd6-150f5d80fd88",
   "metadata": {},
   "outputs": [],
   "source": [
    "challenge='thirtydaysofpython'"
   ]
  },
  {
   "cell_type": "code",
   "execution_count": 152,
   "id": "ba110690-397d-47ea-9ba7-3df38775aa0f",
   "metadata": {},
   "outputs": [
    {
     "data": {
      "text/plain": [
       "True"
      ]
     },
     "execution_count": 152,
     "metadata": {},
     "output_type": "execute_result"
    }
   ],
   "source": [
    "challenge.isalnum()"
   ]
  },
  {
   "cell_type": "code",
   "execution_count": 156,
   "id": "437284e2-b2cf-414b-aa9d-77d7c6ded2ce",
   "metadata": {},
   "outputs": [],
   "source": [
    "challenge = 'thirty days of python'\n"
   ]
  },
  {
   "cell_type": "code",
   "execution_count": 160,
   "id": "7f21f8bd-0c1a-42d3-b160-24795a6f8190",
   "metadata": {},
   "outputs": [
    {
     "name": "stdout",
     "output_type": "stream",
     "text": [
      "False\n"
     ]
    }
   ],
   "source": [
    "challenge= 'thirty'\n",
    "print(challenge.isdigit())\n"
   ]
  },
  {
   "cell_type": "code",
   "execution_count": 174,
   "id": "b1bded4f-c3f9-4b1d-889e-38ffa1f4bff2",
   "metadata": {},
   "outputs": [],
   "source": [
    "name=['pratik','praksah','sadewad']#skips last string\n",
    "result='@ '.join(name)"
   ]
  },
  {
   "cell_type": "code",
   "execution_count": 176,
   "id": "97e2238f-5edb-4109-b3bf-cc2b0dad0f73",
   "metadata": {},
   "outputs": [
    {
     "data": {
      "text/plain": [
       "'pratik@ praksah@ sadewad'"
      ]
     },
     "execution_count": 176,
     "metadata": {},
     "output_type": "execute_result"
    }
   ],
   "source": [
    "result"
   ]
  },
  {
   "cell_type": "code",
   "execution_count": 182,
   "id": "44352194-c250-483a-b8c2-ea606dee6ce6",
   "metadata": {},
   "outputs": [
    {
     "data": {
      "text/plain": [
       "' thirty days of python '"
      ]
     },
     "execution_count": 182,
     "metadata": {},
     "output_type": "execute_result"
    }
   ],
   "source": [
    "challenge"
   ]
  },
  {
   "cell_type": "code",
   "execution_count": 192,
   "id": "9af937cb-9a60-4f85-add1-784d78d1959c",
   "metadata": {},
   "outputs": [
    {
     "data": {
      "text/plain": [
       "' thirty days of coding '"
      ]
     },
     "execution_count": 192,
     "metadata": {},
     "output_type": "execute_result"
    }
   ],
   "source": [
    "challenge.replace('python','coding')"
   ]
  },
  {
   "cell_type": "code",
   "execution_count": 196,
   "id": "ca5e6ffb-84b2-471d-bca1-0e64b15f92e6",
   "metadata": {},
   "outputs": [
    {
     "data": {
      "text/plain": [
       "['thirty', 'days', 'of', 'python']"
      ]
     },
     "execution_count": 196,
     "metadata": {},
     "output_type": "execute_result"
    }
   ],
   "source": [
    "challenge.split()"
   ]
  },
  {
   "cell_type": "code",
   "execution_count": 198,
   "id": "c7601a3d-b35a-428d-a810-b0bc66600d34",
   "metadata": {},
   "outputs": [
    {
     "data": {
      "text/plain": [
       "['pratik', 'prakash', 'sadewad']"
      ]
     },
     "execution_count": 198,
     "metadata": {},
     "output_type": "execute_result"
    }
   ],
   "source": [
    "name = \"pratik prakash sadewad\"# usefull\n",
    "name.split()"
   ]
  },
  {
   "cell_type": "code",
   "execution_count": null,
   "id": "ac8b6047-df4c-4e5d-9472-51a98933af6a",
   "metadata": {},
   "outputs": [],
   "source": []
  }
 ],
 "metadata": {
  "kernelspec": {
   "display_name": "Python [conda env:base] *",
   "language": "python",
   "name": "conda-base-py"
  },
  "language_info": {
   "codemirror_mode": {
    "name": "ipython",
    "version": 3
   },
   "file_extension": ".py",
   "mimetype": "text/x-python",
   "name": "python",
   "nbconvert_exporter": "python",
   "pygments_lexer": "ipython3",
   "version": "3.12.3"
  }
 },
 "nbformat": 4,
 "nbformat_minor": 5
}
