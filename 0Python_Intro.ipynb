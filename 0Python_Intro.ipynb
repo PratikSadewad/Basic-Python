{
 "cells": [
  {
   "cell_type": "markdown",
   "metadata": {},
   "source": [
    "# Introduction to Python Programming\n",
    "\n",
    "This Jupyter Notebook provides a beginner-friendly overview of Python basics, including arithmetic operations, assignment operators, unary operators, and string manipulations. Each section includes explanations and executable code examples to illustrate key concepts. This tutorial is designed to help you understand fundamental Python programming concepts through clear examples."
   ]
  },
  {
   "cell_type": "markdown",
   "metadata": {},
   "source": [
    "## 1. Arithmetic Operators\n",
    "\n",
    "Arithmetic operators perform mathematical operations on operands (numbers). Python supports the following operators:\n",
    "- `+` (addition)\n",
    "- `-` (subtraction)\n",
    "- `*` (multiplication)\n",
    "- `/` (float division)\n",
    "- `//` (integer division)\n",
    "- `%` (modulus)\n",
    "- `**` (exponentiation)\n",
    "\n",
    "The following examples demonstrate these operators. Note that Python follows the PEMDAS order of operations (Parentheses, Exponents, Multiplication/Division, Addition/Subtraction)."
   ]
  },
  {
   "cell_type": "code",
   "execution_count": null,
   "metadata": {},
   "outputs": [],
   "source": [
    "print(\"Arithmetic Operations:\")\n",
    "result = 9 + 9 - 10 * 3 - 3 - 15  # Evaluates using PEMDAS\n",
    "print(\"9 + 9 - 10 * 3 - 3 - 15 =\", result)  # Output: -21\n",
    "\n",
    "print(\"Multiplication: 7 * 7 =\", 7 * 7)  # Output: 49\n",
    "print(\"Exponentiation: 7 ** 7 =\", 7 ** 7)  # Output: 823543\n",
    "print(\"Float Division: 10 / 4 =\", 10 / 4)  # Output: 2.5\n",
    "print(\"Integer Division: 10 // 4 =\", 10 // 4)  # Output: 2\n",
    "print(\"Modulus: 10 % 5 =\", 10 % 5)  # Output: 0\n",
    "\n",
    "# Note: Invalid syntax like 7***7 or 10%%5 is not supported. Use ** for exponentiation and % for modulus."
   ]
  },
  {
   "cell_type": "markdown",
   "metadata": {},
   "source": [
    "## 2. Assignment Operators\n",
    "\n",
    "Assignment operators assign values to variables and can modify them in place using operators like `+=`, `-=`, `*=`, and `/=`. Variables store data, such as numbers or strings, for later use."
   ]
  },
  {
   "cell_type": "code",
   "execution_count": null,
   "metadata": {},
   "outputs": [],
   "source": [
    "x = 10  # Assigns the value 10 to the variable x\n",
    "print(\"Assignment Operators:\")\n",
    "print(\"Initial x =\", x)  # Output: 10\n",
    "print(\"x + 2 =\", x + 2)  # Output: 12 (does not modify x)\n",
    "\n",
    "# In-place modifications\n",
    "x += 2  # Equivalent to x = x + 2\n",
    "print(\"After x += 2, x =\", x)  # Output: 12\n",
    "\n",
    "x -= 2  # Equivalent to x = x - 2\n",
    "print(\"After x -= 2, x =\", x)  # Output: 10\n",
    "\n",
    "x *= 2  # Equivalent to x = x * 2\n",
    "print(\"After x *= 2, x =\", x)  # Output: 20\n",
    "\n",
    "x /= 2  # Equivalent to x = x / 2\n",
    "print(\"After x /= 2, x =\", x)  # Output: 10.0"
   ]
  },
  {
   "cell_type": "markdown",
   "metadata": {},
   "source": [
    "## 3. Unary Operators\n",
    "\n",
    "Unary operators operate on a single operand. The most common unary operator is the negation operator (`-`), which reverses the sign of a number."
   ]
  },
  {
   "cell_type": "code",
   "execution_count": null,
   "metadata": {},
   "outputs": [],
   "source": [
    "n = 7\n",
    "m = -n  # Applies negation to n\n",
    "print(\"Unary Operators:\")\n",
    "print(\"n =\", n)  # Output: 7\n",
    "print(\"m = -n =\", m)  # Output: -7\n",
    "print(\"m - 7 =\", m - 7)  # Output: -14"
   ]
  },
  {
   "cell_type": "markdown",
   "metadata": {},
   "source": [
    "## 4. String Operations\n",
    "\n",
    "Strings are sequences of characters enclosed in single (`'`) or double (`\"`) quotes. Python provides various ways to manipulate strings, including indexing, slicing, and iteration."
   ]
  },
  {
   "cell_type": "code",
   "execution_count": null,
   "metadata": {},
   "outputs": [],
   "source": [
    "s = \"nareshit\"\n",
    "print(\"String Operations:\")\n",
    "print(\"String:\", s)  # Output: nareshit\n",
    "print(\"Length:\", len(s))  # Output: 8\n",
    "\n",
    "# Indexing: Access individual characters (0-based indexing)\n",
    "print(\"Character at index 5:\", s[5])  # Output: h\n",
    "print(\"Character at index 7:\", s[7])  # Output: t\n",
    "print(\"Last character (s[-1]):\", s[-1])  # Output: t (reverse indexing)\n",
    "\n",
    "# Slicing: Extract substrings using [start:end:step]\n",
    "print(\"Slice s[0:5]:\", s[0:5])  # Output: nares\n",
    "print(\"Full string s[::1]:\", s[::1])  # Output: nareshit\n",
    "print(\"Reversed string s[::-1]:\", s[::-1])  # Output: tihseran\n",
    "\n",
    "# Iterating through a string\n",
    "print(\"Characters in string:\")\n",
    "for char in s:\n",
    "    print(char)  # Outputs: n, a, r, e, s, h, i, t\n",
    "\n",
    "# Unpacking a string into variables\n",
    "language = \"python\"\n",
    "a, b, c, d, e, f = language\n",
    "print(\"Unpacked 'python':\", a, b, c, d, e, f)  # Output: p y t h o n\n",
    "\n",
    "# Iterating through 'python'\n",
    "print(\"Characters in 'python':\")\n",
    "for char in language:\n",
    "    print(char)  # Outputs: p, y, t, h, o, n"
   ]
  },
  {
   "cell_type": "markdown",
   "metadata": {},
   "source": [
    "## 5. Multiline Strings and Formatting\n",
    "\n",
    "Triple quotes (`'''` or `\"\"\"`) allow multiline strings. Special characters like `\\n` (newline) and `\\t` (tab) can be used for formatting."
   ]
  },
  {
   "cell_type": "code",
   "execution_count": null,
   "metadata": {},
   "outputs": [],
   "source": [
    "print(\"Multiline String:\")\n",
    "print('''I am studying at\n",
    "Naresh IT\n",
    "with Prakash Senapathi sir''')\n",
    "\n",
    "print(\"\\nFormatted Output:\")\n",
    "print(\"I hope everyone is enjoying the Python challenge.\\nDo you?\")  # \\n for newline\n",
    "print(\"Days\\tTopics\\tExercises\")  # \\t for tab spacing\n",
    "print(\"Day 1\\t3\\t5\")  # Tabular output"
   ]
  },
  {
   "cell_type": "markdown",
   "metadata": {},
   "source": [
    "## 6. String Concatenation and Methods\n",
    "\n",
    "Strings can be combined using the `+` operator (concatenation) and manipulated using built-in methods like `capitalize()`, `title()`, `count()`, and more."
   ]
  },
  {
   "cell_type": "code",
   "execution_count": null,
   "metadata": {},
   "outputs": [],
   "source": [
    "first_name = \"Pratik\"\n",
    "last_name = \"Sadewad\"\n",
    "space = \" \"\n",
    "full_name = first_name + space + last_name\n",
    "print(\"String Concatenation:\")\n",
    "print(\"Full name:\", full_name)  # Output: Pratik Sadewad\n",
    "\n",
    "# String methods\n",
    "challenge = \"thirty days of python\"\n",
    "print(\"\\nString Methods:\")\n",
    "print(\"Capitalize:\", challenge.capitalize())  # Output: Thirty days of python\n",
    "print(\"Title case:\", challenge.title())  # Output: Thirty Days Of Python\n",
    "print(\"Count 'y':\", challenge.count('y'))  # Output: 3\n",
    "print(\"Count 'd':\", challenge.count('d'))  # Output: 1\n",
    "print(\"Is 'thirtydaysofpython' alphanumeric?\", \"thirtydaysofpython\".isalnum())  # Output: True\n",
    "print(\"Is 'thirty days of python' alphanumeric?\", challenge.isalnum())  # Output: False (due to spaces)\n",
    "print(\"Is 'thirty' digits?\", \"thirty\".isdigit())  # Output: False\n",
    "\n",
    "# Joining a list of strings\n",
    "name_list = [\"pratik\", \"prakash\", \"sadewad\"]\n",
    "result = \"@ \".join(name_list)\n",
    "print(\"Joined list:\", result)  # Output: pratik@ prakash@ sadewad\n",
    "\n",
    "# Replacing and splitting strings\n",
    "print(\"Replace 'python' with 'coding':\", challenge.replace(\"python\", \"coding\"))  # Output: thirty days of coding\n",
    "print(\"Split string:\", challenge.split())  # Output: ['thirty', 'days', 'of', 'python']\n",
    "name = \"pratik prakash sadewad\"\n",
    "print(\"Split name:\", name.split())  # Output: ['pratik', 'prakash', 'sadewad']"
   ]
  },
  {
   "cell_type": "markdown",
   "metadata": {},
   "source": [
    "## Conclusion\n",
    "\n",
    "This notebook covers fundamental Python concepts, including arithmetic, assignment, and unary operators, as well as string operations and methods. Run each code cell to see the output and experiment further to deepen your understanding."
   ]
  }
 ],
 "metadata": {
  "kernelspec": {
   "display_name": "Python 3",
   "language": "python",
   "name": "python3"
  },
  "language_info": {
   "codemirror_mode": {
    "name": "ipython",
    "version": 3
   },
   "file_extension": ".py",
   "mimetype": "text/x-python",
   "name": "python",
   "nbconvert_exporter": "python",
   "pygments_lexer": "ipython3",
   "version": "3.8.0"
  }
 },
 "nbformat": 4,
 "nbformat_minor": 4
}