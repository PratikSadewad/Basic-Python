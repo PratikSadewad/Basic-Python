{
 "cells": [
  {
   "cell_type": "code",
   "execution_count": 41,
   "id": "9eab61e8-5c46-4b7c-85b8-686916e16cc2",
   "metadata": {},
   "outputs": [],
   "source": [
    "#tuple\n"
   ]
  },
  {
   "cell_type": "code",
   "execution_count": 43,
   "id": "65335785-8e36-4ae7-b77f-0d2495802eda",
   "metadata": {},
   "outputs": [
    {
     "data": {
      "text/plain": [
       "()"
      ]
     },
     "execution_count": 43,
     "metadata": {},
     "output_type": "execute_result"
    }
   ],
   "source": [
    "t= ()\n",
    "t"
   ]
  },
  {
   "cell_type": "code",
   "execution_count": 45,
   "id": "a1732e4c-ec22-42e0-a220-ad186cabf586",
   "metadata": {},
   "outputs": [
    {
     "data": {
      "text/plain": [
       "0"
      ]
     },
     "execution_count": 45,
     "metadata": {},
     "output_type": "execute_result"
    }
   ],
   "source": [
    "len(t)"
   ]
  },
  {
   "cell_type": "code",
   "execution_count": 47,
   "id": "07df9f64-3fd5-4d94-8396-f0d95a9e7337",
   "metadata": {},
   "outputs": [
    {
     "data": {
      "text/plain": [
       "(10, 20, 30, 40, 50)"
      ]
     },
     "execution_count": 47,
     "metadata": {},
     "output_type": "execute_result"
    }
   ],
   "source": [
    "t1 = (10,20,30,40,50)\n",
    "t1"
   ]
  },
  {
   "cell_type": "code",
   "execution_count": 49,
   "id": "89e49ab1-d8cb-4e2f-a031-287a2030c318",
   "metadata": {},
   "outputs": [
    {
     "data": {
      "text/plain": [
       "('a', 'b', 'f', 'g', 'q')"
      ]
     },
     "execution_count": 49,
     "metadata": {},
     "output_type": "execute_result"
    }
   ],
   "source": [
    "t2=('a','b','f','g','q')\n",
    "t2"
   ]
  },
  {
   "cell_type": "code",
   "execution_count": 51,
   "id": "144d3b49-a41c-4e36-9b6f-3d2c7c52ebbf",
   "metadata": {},
   "outputs": [
    {
     "data": {
      "text/plain": [
       "0"
      ]
     },
     "execution_count": 51,
     "metadata": {},
     "output_type": "execute_result"
    }
   ],
   "source": [
    "t2.count('z')"
   ]
  },
  {
   "cell_type": "code",
   "execution_count": 53,
   "id": "c960cfa4-4891-4eb6-9055-6a70559a64d7",
   "metadata": {},
   "outputs": [
    {
     "data": {
      "text/plain": [
       "1"
      ]
     },
     "execution_count": 53,
     "metadata": {},
     "output_type": "execute_result"
    }
   ],
   "source": [
    "t2.count('f')"
   ]
  },
  {
   "cell_type": "code",
   "execution_count": 55,
   "id": "1f65ba0c-3684-4b9c-b40b-f6bc93eefc06",
   "metadata": {},
   "outputs": [
    {
     "data": {
      "text/plain": [
       "2"
      ]
     },
     "execution_count": 55,
     "metadata": {},
     "output_type": "execute_result"
    }
   ],
   "source": [
    "t2.index('f')"
   ]
  },
  {
   "cell_type": "code",
   "execution_count": 57,
   "id": "31eacfe9-61ba-44b8-a940-22e7e1d3f371",
   "metadata": {},
   "outputs": [
    {
     "data": {
      "text/plain": [
       "(10, 20, 30, 40, 50)"
      ]
     },
     "execution_count": 57,
     "metadata": {},
     "output_type": "execute_result"
    }
   ],
   "source": [
    "t1"
   ]
  },
  {
   "cell_type": "code",
   "execution_count": 59,
   "id": "a0c44ed0-aaca-4d37-9206-c2d18d2d6fc2",
   "metadata": {},
   "outputs": [
    {
     "data": {
      "text/plain": [
       "1"
      ]
     },
     "execution_count": 59,
     "metadata": {},
     "output_type": "execute_result"
    }
   ],
   "source": [
    "t1.index(20)"
   ]
  },
  {
   "cell_type": "code",
   "execution_count": 61,
   "id": "6c3a7049-8e49-4a22-acf5-5d1f0bf9973e",
   "metadata": {},
   "outputs": [],
   "source": [
    "#tupel is non mutable\n",
    "#cant be removed , edited , sorted "
   ]
  },
  {
   "cell_type": "code",
   "execution_count": 63,
   "id": "bc994dc7-3589-49dd-95b4-7c665c9254f1",
   "metadata": {},
   "outputs": [
    {
     "data": {
      "text/plain": [
       "(10, 20, 30, 40, 50)"
      ]
     },
     "execution_count": 63,
     "metadata": {},
     "output_type": "execute_result"
    }
   ],
   "source": [
    "t1 = (10,20,30,40,50)\n",
    "t1"
   ]
  },
  {
   "cell_type": "code",
   "execution_count": 65,
   "id": "c6f0bc6f-01f2-4bb2-bb0c-e0cef6230ea5",
   "metadata": {},
   "outputs": [],
   "source": [
    "t3 = t1*3"
   ]
  },
  {
   "cell_type": "code",
   "execution_count": 67,
   "id": "75164189-4023-4af9-887d-0b1e68767414",
   "metadata": {},
   "outputs": [
    {
     "data": {
      "text/plain": [
       "(10, 20, 30, 40, 50, 10, 20, 30, 40, 50, 10, 20, 30, 40, 50)"
      ]
     },
     "execution_count": 67,
     "metadata": {},
     "output_type": "execute_result"
    }
   ],
   "source": [
    "t3"
   ]
  },
  {
   "cell_type": "markdown",
   "id": "91a4d133-9e55-4fdb-bafe-bf72599e5da9",
   "metadata": {},
   "source": [
    "#tuple creation "
   ]
  },
  {
   "cell_type": "code",
   "execution_count": 70,
   "id": "b1dd52af-810b-404d-892a-4c3152d21933",
   "metadata": {},
   "outputs": [],
   "source": [
    "tup1=() # empty tuple"
   ]
  },
  {
   "cell_type": "code",
   "execution_count": 72,
   "id": "63795e15-eaa2-48d6-b67f-477928f7b243",
   "metadata": {},
   "outputs": [],
   "source": [
    "tup2=(10,20,30) #integers tuple \n"
   ]
  },
  {
   "cell_type": "code",
   "execution_count": 74,
   "id": "9a977985-4ea8-425b-81b3-b2d99404a1f2",
   "metadata": {},
   "outputs": [],
   "source": [
    "tup3=( 10.1 , 10.2 , 10.3 ) #float  tuple \n"
   ]
  },
  {
   "cell_type": "code",
   "execution_count": 76,
   "id": "345a5d5e-5d1d-4f72-b451-fd4a9ccee91d",
   "metadata": {},
   "outputs": [],
   "source": [
    "tup4=('raj', 'thakre', 'bal') #string tuple"
   ]
  },
  {
   "cell_type": "code",
   "execution_count": 78,
   "id": "321e6321-3dbd-4c40-8827-584e53666573",
   "metadata": {},
   "outputs": [],
   "source": [
    "tup5=( 'raj' , 20 , (52, 98 ,45 ), 54) # nested tuple "
   ]
  },
  {
   "cell_type": "code",
   "execution_count": 80,
   "id": "fc3e59c8-f6c5-4783-9a5b-e3e3b52610be",
   "metadata": {},
   "outputs": [],
   "source": [
    "tup6= ('raj' , 30 , 52.2 ) #mixed data types tuple"
   ]
  },
  {
   "cell_type": "code",
   "execution_count": 82,
   "id": "5ee52f49-f45e-4654-b51b-32d7d7473339",
   "metadata": {},
   "outputs": [],
   "source": [
    "tup7=('raj ' ,[84 , 84 ] , [ 52 , 544 ] , { 'john' ' raj ' } )"
   ]
  },
  {
   "cell_type": "code",
   "execution_count": 84,
   "id": "bda1a63e-39f6-4ae1-b0bd-713d2a854c91",
   "metadata": {},
   "outputs": [
    {
     "data": {
      "text/plain": [
       "4"
      ]
     },
     "execution_count": 84,
     "metadata": {},
     "output_type": "execute_result"
    }
   ],
   "source": [
    "len(tup7)"
   ]
  },
  {
   "cell_type": "markdown",
   "id": "5b5b5345-58a0-4c85-8a57-b4acf0dfa347",
   "metadata": {},
   "source": [
    "#tuple indexing "
   ]
  },
  {
   "cell_type": "code",
   "execution_count": 87,
   "id": "98015191-07c0-4025-a708-0519ad5531c8",
   "metadata": {},
   "outputs": [
    {
     "data": {
      "text/plain": [
       "10"
      ]
     },
     "execution_count": 87,
     "metadata": {},
     "output_type": "execute_result"
    }
   ],
   "source": [
    "tup2[0]"
   ]
  },
  {
   "cell_type": "code",
   "execution_count": 89,
   "id": "5a6959d4-90e7-4e62-85a5-4be29451020e",
   "metadata": {},
   "outputs": [
    {
     "data": {
      "text/plain": [
       "'raj'"
      ]
     },
     "execution_count": 89,
     "metadata": {},
     "output_type": "execute_result"
    }
   ],
   "source": [
    "tup4[0]"
   ]
  },
  {
   "cell_type": "code",
   "execution_count": 91,
   "id": "9265517f-6eb3-41ea-a0fd-ac63324046b0",
   "metadata": {},
   "outputs": [
    {
     "data": {
      "text/plain": [
       "'a'"
      ]
     },
     "execution_count": 91,
     "metadata": {},
     "output_type": "execute_result"
    }
   ],
   "source": [
    "tup4[0] [1] # nested indexing "
   ]
  },
  {
   "cell_type": "code",
   "execution_count": 93,
   "id": "2f946be3-297e-4be7-827e-21337ab4df54",
   "metadata": {},
   "outputs": [
    {
     "data": {
      "text/plain": [
       "'bal'"
      ]
     },
     "execution_count": 93,
     "metadata": {},
     "output_type": "execute_result"
    }
   ],
   "source": [
    "tup4[-1]"
   ]
  },
  {
   "cell_type": "markdown",
   "id": "3a03b105-e486-4c8f-8327-9cc8c72b7fbd",
   "metadata": {},
   "source": [
    "#tuple slicing"
   ]
  },
  {
   "cell_type": "code",
   "execution_count": 197,
   "id": "11d98ceb-4246-48c6-b738-1a9c469ae783",
   "metadata": {},
   "outputs": [],
   "source": [
    "mytuple = ('one' ,'two', 'three', 'four' , 'five',' six',' seven',' eight')"
   ]
  },
  {
   "cell_type": "code",
   "execution_count": 165,
   "id": "fefc848a-5401-45ce-868a-bfe1eb80ef4b",
   "metadata": {},
   "outputs": [
    {
     "data": {
      "text/plain": [
       "('one', 'two', 'three')"
      ]
     },
     "execution_count": 165,
     "metadata": {},
     "output_type": "execute_result"
    }
   ],
   "source": [
    "mytuple[0:3]"
   ]
  },
  {
   "cell_type": "code",
   "execution_count": 167,
   "id": "3326e061-2ff4-4d7c-ab1f-d42d2ee560fa",
   "metadata": {},
   "outputs": [
    {
     "data": {
      "text/plain": [
       "('three', 'four', 'five', ' six')"
      ]
     },
     "execution_count": 167,
     "metadata": {},
     "output_type": "execute_result"
    }
   ],
   "source": [
    "mytuple[2:6]"
   ]
  },
  {
   "cell_type": "code",
   "execution_count": 169,
   "id": "db7959e6-7388-45d7-8dda-d4574a4d85d3",
   "metadata": {},
   "outputs": [
    {
     "data": {
      "text/plain": [
       "('one', 'two', 'three', 'four', 'five', ' six', ' seven', ' eight')"
      ]
     },
     "execution_count": 169,
     "metadata": {},
     "output_type": "execute_result"
    }
   ],
   "source": [
    "mytuple[:8]"
   ]
  },
  {
   "cell_type": "code",
   "execution_count": 171,
   "id": "85a01c60-05cf-4052-93c1-c5b23d680d3f",
   "metadata": {},
   "outputs": [
    {
     "data": {
      "text/plain": [
       "('one', 'two', 'three', 'four', 'five', ' six', ' seven', ' eight')"
      ]
     },
     "execution_count": 171,
     "metadata": {},
     "output_type": "execute_result"
    }
   ],
   "source": [
    "mytuple[0:]"
   ]
  },
  {
   "cell_type": "code",
   "execution_count": 173,
   "id": "c15b4fd9-286e-4797-aded-901f535ad339",
   "metadata": {},
   "outputs": [
    {
     "data": {
      "text/plain": [
       "('one', 'two', 'three', 'four', 'five', ' six', ' seven', ' eight')"
      ]
     },
     "execution_count": 173,
     "metadata": {},
     "output_type": "execute_result"
    }
   ],
   "source": [
    "mytuple[:]"
   ]
  },
  {
   "cell_type": "code",
   "execution_count": 175,
   "id": "72112099-d18c-40b5-814f-c79015bc7cf4",
   "metadata": {},
   "outputs": [
    {
     "data": {
      "text/plain": [
       "' seven'"
      ]
     },
     "execution_count": 175,
     "metadata": {},
     "output_type": "execute_result"
    }
   ],
   "source": [
    "mytuple[-2]"
   ]
  },
  {
   "cell_type": "markdown",
   "id": "fbc5a50a-95cb-4fe6-9eda-3ebc73909bd1",
   "metadata": {},
   "source": [
    "#remove or change item "
   ]
  },
  {
   "cell_type": "code",
   "execution_count": 178,
   "id": "14e7ee71-e876-45ae-906e-cea4fafb39f2",
   "metadata": {},
   "outputs": [
    {
     "data": {
      "text/plain": [
       "('one', 'two', 'three', 'four', 'five', ' six', ' seven', ' eight')"
      ]
     },
     "execution_count": 178,
     "metadata": {},
     "output_type": "execute_result"
    }
   ],
   "source": [
    "mytuple"
   ]
  },
  {
   "cell_type": "code",
   "execution_count": 180,
   "id": "0c5d7e0f-9a76-43f0-a23a-1c20854a6afa",
   "metadata": {},
   "outputs": [],
   "source": [
    "# tuples are immutable i.e irreversible "
   ]
  },
  {
   "cell_type": "code",
   "execution_count": 182,
   "id": "2e448c8c-5f09-4c31-95b9-d5b3f7eca333",
   "metadata": {},
   "outputs": [
    {
     "ename": "TypeError",
     "evalue": "'tuple' object doesn't support item deletion",
     "output_type": "error",
     "traceback": [
      "\u001b[1;31m---------------------------------------------------------------------------\u001b[0m",
      "\u001b[1;31mTypeError\u001b[0m                                 Traceback (most recent call last)",
      "Cell \u001b[1;32mIn[182], line 1\u001b[0m\n\u001b[1;32m----> 1\u001b[0m \u001b[38;5;28;01mdel\u001b[39;00m mytuple [\u001b[38;5;241m0\u001b[39m]\n",
      "\u001b[1;31mTypeError\u001b[0m: 'tuple' object doesn't support item deletion"
     ]
    }
   ],
   "source": [
    "del mytuple [0]# whole variable can be deleted but not a perticular index"
   ]
  },
  {
   "cell_type": "code",
   "execution_count": 184,
   "id": "63f9411d-6adf-49a9-a9cc-2eecbb4ff485",
   "metadata": {},
   "outputs": [],
   "source": [
    "del mytuple"
   ]
  },
  {
   "cell_type": "code",
   "execution_count": 186,
   "id": "1ad0410c-eb9a-4ea2-b208-cead3d1d998a",
   "metadata": {},
   "outputs": [],
   "source": [
    "mytuple = ('one ' ,'two', 'three', 'four' , 'five','six','seven','eight')"
   ]
  },
  {
   "cell_type": "code",
   "execution_count": 188,
   "id": "78d399ee-b6ae-4140-9174-f4e08b649502",
   "metadata": {},
   "outputs": [
    {
     "name": "stdout",
     "output_type": "stream",
     "text": [
      "one \n",
      "two\n",
      "three\n",
      "four\n",
      "five\n",
      "six\n",
      "seven\n",
      "eight\n"
     ]
    }
   ],
   "source": [
    "for i in  mytuple:\n",
    "    print(i)"
   ]
  },
  {
   "cell_type": "code",
   "execution_count": 190,
   "id": "0e40816f-d696-4ed5-b1d1-979c504c1e4d",
   "metadata": {},
   "outputs": [
    {
     "name": "stdout",
     "output_type": "stream",
     "text": [
      "(0, 'one ')\n",
      "(1, 'two')\n",
      "(2, 'three')\n",
      "(3, 'four')\n",
      "(4, 'five')\n",
      "(5, 'six')\n",
      "(6, 'seven')\n",
      "(7, 'eight')\n"
     ]
    }
   ],
   "source": [
    "for i in enumerate(mytuple):\n",
    "    print(i)"
   ]
  },
  {
   "cell_type": "markdown",
   "id": "96b5768c-02ab-4b7e-8d83-2bcd712f5f42",
   "metadata": {},
   "source": [
    "# tuple membership "
   ]
  },
  {
   "cell_type": "code",
   "execution_count": 199,
   "id": "ef26ea40-4dfd-439d-82f4-c1eb76350198",
   "metadata": {},
   "outputs": [
    {
     "data": {
      "text/plain": [
       "('one', 'two', 'three', 'four', 'five', ' six', ' seven', ' eight')"
      ]
     },
     "execution_count": 199,
     "metadata": {},
     "output_type": "execute_result"
    }
   ],
   "source": [
    "mytuple"
   ]
  },
  {
   "cell_type": "code",
   "execution_count": 201,
   "id": "df11fff9-632a-47ce-a78f-06418a566559",
   "metadata": {},
   "outputs": [
    {
     "data": {
      "text/plain": [
       "True"
      ]
     },
     "execution_count": 201,
     "metadata": {},
     "output_type": "execute_result"
    }
   ],
   "source": [
    "'one' in mytuple "
   ]
  },
  {
   "cell_type": "code",
   "execution_count": 203,
   "id": "f265abfe-9857-4659-bf1f-e486d714549b",
   "metadata": {},
   "outputs": [
    {
     "data": {
      "text/plain": [
       "False"
      ]
     },
     "execution_count": 203,
     "metadata": {},
     "output_type": "execute_result"
    }
   ],
   "source": [
    "'ten' in mytuple "
   ]
  },
  {
   "cell_type": "code",
   "execution_count": 205,
   "id": "1526fef6-3481-452d-b1e0-60f3e1426ce5",
   "metadata": {},
   "outputs": [
    {
     "name": "stdout",
     "output_type": "stream",
     "text": [
      "Two is present in mytuple\n"
     ]
    }
   ],
   "source": [
    "if 'two' in mytuple:\n",
    "    print('Two is present in mytuple')\n",
    "else:\n",
    "    print('Two is absent in mytuple')"
   ]
  },
  {
   "cell_type": "code",
   "execution_count": 207,
   "id": "c2eb9703-28f6-4a61-8931-d373d120ac1e",
   "metadata": {},
   "outputs": [],
   "source": [
    "#index position\n"
   ]
  },
  {
   "cell_type": "code",
   "execution_count": 209,
   "id": "65981f58-7155-4eb4-8bdc-ff20e278b29d",
   "metadata": {},
   "outputs": [
    {
     "data": {
      "text/plain": [
       "('one', 'two', 'three', 'four', 'five', ' six', ' seven', ' eight')"
      ]
     },
     "execution_count": 209,
     "metadata": {},
     "output_type": "execute_result"
    }
   ],
   "source": [
    "mytuple\n"
   ]
  },
  {
   "cell_type": "code",
   "execution_count": 211,
   "id": "254022f7-bf8d-49f3-acc9-72eb4435844b",
   "metadata": {},
   "outputs": [
    {
     "data": {
      "text/plain": [
       "0"
      ]
     },
     "execution_count": 211,
     "metadata": {},
     "output_type": "execute_result"
    }
   ],
   "source": [
    "mytuple.index('one')"
   ]
  },
  {
   "cell_type": "code",
   "execution_count": 213,
   "id": "b13a3f4c-087a-44c7-9f1b-b0b19901d350",
   "metadata": {},
   "outputs": [
    {
     "data": {
      "text/plain": [
       "4"
      ]
     },
     "execution_count": 213,
     "metadata": {},
     "output_type": "execute_result"
    }
   ],
   "source": [
    "mytuple.index('five')"
   ]
  },
  {
   "cell_type": "code",
   "execution_count": 215,
   "id": "fce65b0f-ff81-40ca-a228-f01dad3405a2",
   "metadata": {},
   "outputs": [],
   "source": [
    "mytuple1 = ('one' ,'two', 'three', 'four' , 'five','one','one',' eight')"
   ]
  },
  {
   "cell_type": "code",
   "execution_count": 217,
   "id": "092f3276-ac0c-407e-ac61-fbe315c08d54",
   "metadata": {},
   "outputs": [
    {
     "data": {
      "text/plain": [
       "0"
      ]
     },
     "execution_count": 217,
     "metadata": {},
     "output_type": "execute_result"
    }
   ],
   "source": [
    "mytuple1.index('one') "
   ]
  },
  {
   "cell_type": "markdown",
   "id": "30129a88-f327-4728-8179-61bce57bac1f",
   "metadata": {},
   "source": [
    "# sorting "
   ]
  },
  {
   "cell_type": "code",
   "execution_count": 220,
   "id": "210e8b1e-ebf8-4111-8df7-b6feb6639831",
   "metadata": {},
   "outputs": [],
   "source": [
    "mytuple2 = (54,87,86,74,83,12)"
   ]
  },
  {
   "cell_type": "code",
   "execution_count": 222,
   "id": "7ab0ce73-c92c-4675-871c-60d1066fcfd1",
   "metadata": {},
   "outputs": [
    {
     "data": {
      "text/plain": [
       "[12, 54, 74, 83, 86, 87]"
      ]
     },
     "execution_count": 222,
     "metadata": {},
     "output_type": "execute_result"
    }
   ],
   "source": [
    "sorted(mytuple2)"
   ]
  },
  {
   "cell_type": "code",
   "execution_count": 224,
   "id": "19a5d065-7a8f-4346-bb68-17df42b16730",
   "metadata": {},
   "outputs": [
    {
     "data": {
      "text/plain": [
       "(54, 87, 86, 74, 83, 12)"
      ]
     },
     "execution_count": 224,
     "metadata": {},
     "output_type": "execute_result"
    }
   ],
   "source": [
    "mytuple2"
   ]
  },
  {
   "cell_type": "code",
   "execution_count": 226,
   "id": "7a47bd43-2222-46f3-9e6b-698edfba13d1",
   "metadata": {},
   "outputs": [
    {
     "data": {
      "text/plain": [
       "[87, 86, 83, 74, 54, 12]"
      ]
     },
     "execution_count": 226,
     "metadata": {},
     "output_type": "execute_result"
    }
   ],
   "source": [
    "sorted(mytuple2, reverse = True)"
   ]
  },
  {
   "cell_type": "code",
   "execution_count": null,
   "id": "a10cc2f8-bda5-4105-9b4f-ba0394fd7fde",
   "metadata": {},
   "outputs": [],
   "source": []
  }
 ],
 "metadata": {
  "kernelspec": {
   "display_name": "Python [conda env:base] *",
   "language": "python",
   "name": "conda-base-py"
  },
  "language_info": {
   "codemirror_mode": {
    "name": "ipython",
    "version": 3
   },
   "file_extension": ".py",
   "mimetype": "text/x-python",
   "name": "python",
   "nbconvert_exporter": "python",
   "pygments_lexer": "ipython3",
   "version": "3.12.7"
  }
 },
 "nbformat": 4,
 "nbformat_minor": 5
}
