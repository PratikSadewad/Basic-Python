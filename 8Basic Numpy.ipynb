{
 "cells": [
  {
   "cell_type": "code",
   "execution_count": 162,
   "id": "d50c14e2-669d-4f68-8abb-98b63bd7ffbe",
   "metadata": {},
   "outputs": [],
   "source": [
    "import numpy as np"
   ]
  },
  {
   "cell_type": "code",
   "execution_count": 164,
   "id": "c5518274-eb45-4e24-be96-88e8363373a0",
   "metadata": {},
   "outputs": [
    {
     "data": {
      "text/plain": [
       "'1.26.4'"
      ]
     },
     "execution_count": 164,
     "metadata": {},
     "output_type": "execute_result"
    }
   ],
   "source": [
    "np.__version__"
   ]
  },
  {
   "cell_type": "code",
   "execution_count": 166,
   "id": "0e30539d-42b9-4d53-be66-29a3cb90fd36",
   "metadata": {},
   "outputs": [
    {
     "data": {
      "text/plain": [
       "'3.12.7 | packaged by Anaconda, Inc. | (main, Oct  4 2024, 13:17:27) [MSC v.1929 64 bit (AMD64)]'"
      ]
     },
     "execution_count": 166,
     "metadata": {},
     "output_type": "execute_result"
    }
   ],
   "source": [
    "import sys\n",
    "sys.version"
   ]
  },
  {
   "cell_type": "markdown",
   "id": "d013cb9e-2b38-4b21-85fc-8e83804a965f",
   "metadata": {},
   "source": [
    "# Creating list"
   ]
  },
  {
   "cell_type": "code",
   "execution_count": 169,
   "id": "ba1aba24-0c1a-4ef6-a476-f91b6250c2c3",
   "metadata": {},
   "outputs": [
    {
     "data": {
      "text/plain": [
       "[0, 1, 2, 3, 4, 5]"
      ]
     },
     "execution_count": 169,
     "metadata": {},
     "output_type": "execute_result"
    }
   ],
   "source": [
    "my_list = [0,1,2,3,4,5]\n",
    "my_list "
   ]
  },
  {
   "cell_type": "code",
   "execution_count": 171,
   "id": "88cdf8a2-1375-4970-bf12-6db8dd8ebc40",
   "metadata": {},
   "outputs": [
    {
     "data": {
      "text/plain": [
       "list"
      ]
     },
     "execution_count": 171,
     "metadata": {},
     "output_type": "execute_result"
    }
   ],
   "source": [
    "type(my_list)"
   ]
  },
  {
   "cell_type": "code",
   "execution_count": 172,
   "id": "038274d1-014e-4993-889a-92f8a215d14b",
   "metadata": {},
   "outputs": [],
   "source": [
    "arr = np.array(my_list)"
   ]
  },
  {
   "cell_type": "code",
   "execution_count": 175,
   "id": "7137a9bb-642e-486c-8302-fd4c07f70d39",
   "metadata": {},
   "outputs": [
    {
     "data": {
      "text/plain": [
       "array([0, 1, 2, 3, 4, 5])"
      ]
     },
     "execution_count": 175,
     "metadata": {},
     "output_type": "execute_result"
    }
   ],
   "source": [
    "arr"
   ]
  },
  {
   "cell_type": "code",
   "execution_count": 176,
   "id": "d9f42d71-b835-49e0-9fe9-5bdbff9b0f08",
   "metadata": {},
   "outputs": [
    {
     "data": {
      "text/plain": [
       "numpy.ndarray"
      ]
     },
     "execution_count": 176,
     "metadata": {},
     "output_type": "execute_result"
    }
   ],
   "source": [
    "type(arr)"
   ]
  },
  {
   "cell_type": "code",
   "execution_count": 177,
   "id": "dd8bd9ca-40c1-499b-8cd8-4d4d747b206f",
   "metadata": {},
   "outputs": [
    {
     "data": {
      "text/plain": [
       "list"
      ]
     },
     "execution_count": 177,
     "metadata": {},
     "output_type": "execute_result"
    }
   ],
   "source": [
    "type(my_list)"
   ]
  },
  {
   "cell_type": "code",
   "execution_count": 180,
   "id": "80ab4a31-ebe6-4e87-87aa-9ec4a6c9214a",
   "metadata": {},
   "outputs": [
    {
     "data": {
      "text/plain": [
       "array([0, 1, 2, 3, 4, 5, 6, 7, 8, 9])"
      ]
     },
     "execution_count": 180,
     "metadata": {},
     "output_type": "execute_result"
    }
   ],
   "source": [
    "np.arange(10)"
   ]
  },
  {
   "cell_type": "code",
   "execution_count": 182,
   "id": "816db1cd-6240-4ca0-a84c-cc1e6a1230da",
   "metadata": {},
   "outputs": [
    {
     "data": {
      "text/plain": [
       "array([0., 1., 2.])"
      ]
     },
     "execution_count": 182,
     "metadata": {},
     "output_type": "execute_result"
    }
   ],
   "source": [
    "np.arange(3.0)"
   ]
  },
  {
   "cell_type": "code",
   "execution_count": 183,
   "id": "7bdfd77f-942a-4be8-acba-c99826c29bcb",
   "metadata": {},
   "outputs": [
    {
     "data": {
      "text/plain": [
       "array([0., 1., 2., 3., 4., 5.])"
      ]
     },
     "execution_count": 183,
     "metadata": {},
     "output_type": "execute_result"
    }
   ],
   "source": [
    "np.arange(5.9)"
   ]
  },
  {
   "cell_type": "code",
   "execution_count": 185,
   "id": "3028a981-670b-468b-9856-953c89096c53",
   "metadata": {},
   "outputs": [
    {
     "data": {
      "text/plain": [
       "array([0, 1, 2, 3, 4])"
      ]
     },
     "execution_count": 185,
     "metadata": {},
     "output_type": "execute_result"
    }
   ],
   "source": [
    "np.arange(0  , 5)"
   ]
  },
  {
   "cell_type": "code",
   "execution_count": 187,
   "id": "f257e509-5ece-4bc2-b2b9-2ebd980cac52",
   "metadata": {},
   "outputs": [
    {
     "data": {
      "text/plain": [
       "array([10, 11, 12, 13, 14, 15, 16, 17, 18, 19])"
      ]
     },
     "execution_count": 187,
     "metadata": {},
     "output_type": "execute_result"
    }
   ],
   "source": [
    "np.arange(10  , 20 )"
   ]
  },
  {
   "cell_type": "code",
   "execution_count": 189,
   "id": "33082f03-5e65-454f-a991-0278b64526b7",
   "metadata": {},
   "outputs": [
    {
     "data": {
      "text/plain": [
       "array([], dtype=int32)"
      ]
     },
     "execution_count": 189,
     "metadata": {},
     "output_type": "execute_result"
    }
   ],
   "source": [
    "np.arange(20  , 10 )#1d array "
   ]
  },
  {
   "cell_type": "code",
   "execution_count": 191,
   "id": "100a1c9a-dd0e-44e2-9a4a-2bbd7ac22cc9",
   "metadata": {},
   "outputs": [
    {
     "data": {
      "text/plain": [
       "array([-20, -19, -18, -17, -16, -15, -14, -13, -12, -11, -10,  -9,  -8,\n",
       "        -7,  -6,  -5,  -4,  -3,  -2,  -1,   0,   1,   2,   3,   4,   5,\n",
       "         6,   7,   8,   9])"
      ]
     },
     "execution_count": 191,
     "metadata": {},
     "output_type": "execute_result"
    }
   ],
   "source": [
    "np.arange(-20, 10)"
   ]
  },
  {
   "cell_type": "code",
   "execution_count": 193,
   "id": "f19c5b4a-edfc-41b8-a5d5-63e9ba3e8bd9",
   "metadata": {},
   "outputs": [],
   "source": [
    "#  1sr arg < 2nd arg"
   ]
  },
  {
   "cell_type": "code",
   "execution_count": 194,
   "id": "cb29c589-5fb3-4fab-b278-999bc9ab4e68",
   "metadata": {},
   "outputs": [
    {
     "data": {
      "text/plain": [
       "array([-20, -19, -18, -17, -16, -15, -14, -13, -12, -11])"
      ]
     },
     "execution_count": 194,
     "metadata": {},
     "output_type": "execute_result"
    }
   ],
   "source": [
    "np.arange(-20, -10)"
   ]
  },
  {
   "cell_type": "code",
   "execution_count": 196,
   "id": "5d9e98f4-984b-418b-9bba-49131e5e493d",
   "metadata": {},
   "outputs": [],
   "source": [
    "ar = np.arange(-20  , -10 )"
   ]
  },
  {
   "cell_type": "code",
   "execution_count": 198,
   "id": "986b1080-e739-469a-a6c6-f78c8f1c5428",
   "metadata": {},
   "outputs": [
    {
     "ename": "AttributeError",
     "evalue": "module 'numpy' has no attribute 'arange0'",
     "output_type": "error",
     "traceback": [
      "\u001b[1;31m---------------------------------------------------------------------------\u001b[0m",
      "\u001b[1;31mAttributeError\u001b[0m                            Traceback (most recent call last)",
      "Cell \u001b[1;32mIn[198], line 1\u001b[0m\n\u001b[1;32m----> 1\u001b[0m np\u001b[38;5;241m.\u001b[39marange0(\u001b[38;5;241m0\u001b[39m ,\u001b[38;5;241m10\u001b[39m,\u001b[38;5;241m3\u001b[39m)\n",
      "File \u001b[1;32m~\\anaconda3\\Lib\\site-packages\\numpy\\__init__.py:333\u001b[0m, in \u001b[0;36m__getattr__\u001b[1;34m(attr)\u001b[0m\n\u001b[0;32m    330\u001b[0m     \u001b[38;5;124m\"\u001b[39m\u001b[38;5;124mRemoved in NumPy 1.25.0\u001b[39m\u001b[38;5;124m\"\u001b[39m\n\u001b[0;32m    331\u001b[0m     \u001b[38;5;28;01mraise\u001b[39;00m \u001b[38;5;167;01mRuntimeError\u001b[39;00m(\u001b[38;5;124m\"\u001b[39m\u001b[38;5;124mTester was removed in NumPy 1.25.\u001b[39m\u001b[38;5;124m\"\u001b[39m)\n\u001b[1;32m--> 333\u001b[0m \u001b[38;5;28;01mraise\u001b[39;00m \u001b[38;5;167;01mAttributeError\u001b[39;00m(\u001b[38;5;124m\"\u001b[39m\u001b[38;5;124mmodule \u001b[39m\u001b[38;5;132;01m{!r}\u001b[39;00m\u001b[38;5;124m has no attribute \u001b[39m\u001b[38;5;124m\"\u001b[39m\n\u001b[0;32m    334\u001b[0m                      \u001b[38;5;124m\"\u001b[39m\u001b[38;5;132;01m{!r}\u001b[39;00m\u001b[38;5;124m\"\u001b[39m\u001b[38;5;241m.\u001b[39mformat(\u001b[38;5;18m__name__\u001b[39m, attr))\n",
      "\u001b[1;31mAttributeError\u001b[0m: module 'numpy' has no attribute 'arange0'"
     ]
    }
   ],
   "source": [
    "np.arange0(0 ,10,3)"
   ]
  },
  {
   "cell_type": "code",
   "execution_count": null,
   "id": "7e037007-98f3-45a3-8e88-fce2e7b86743",
   "metadata": {},
   "outputs": [],
   "source": [
    "np.zeros(10)# parameter tunning\n"
   ]
  },
  {
   "cell_type": "code",
   "execution_count": null,
   "id": "dbd531fd-48e4-4d96-a5d4-6630a01d677b",
   "metadata": {},
   "outputs": [],
   "source": [
    "np.zeros((10,30))"
   ]
  },
  {
   "cell_type": "code",
   "execution_count": null,
   "id": "9dc4dc4f-bc80-41b4-af46-207d3403fed9",
   "metadata": {},
   "outputs": [],
   "source": [
    "np.random.rand(3,2)"
   ]
  },
  {
   "cell_type": "code",
   "execution_count": null,
   "id": "b81d38e3-15db-4659-aa6f-67f5de39c071",
   "metadata": {},
   "outputs": [],
   "source": [
    "np.arange(1 , 13)"
   ]
  },
  {
   "cell_type": "code",
   "execution_count": null,
   "id": "06d11fda-32d8-4279-8569-89fa50c5bab9",
   "metadata": {},
   "outputs": [],
   "source": [
    "np.arange(1, 13).reshape(3,4)"
   ]
  },
  {
   "cell_type": "code",
   "execution_count": 199,
   "id": "cd045e27-f188-4466-9be4-66345e0d69cf",
   "metadata": {},
   "outputs": [
    {
     "data": {
      "text/plain": [
       "array([[13, 11, 15],\n",
       "       [17, 14, 17],\n",
       "       [17, 16, 15],\n",
       "       [11, 19, 12],\n",
       "       [11, 10, 15]])"
      ]
     },
     "execution_count": 199,
     "metadata": {},
     "output_type": "execute_result"
    }
   ],
   "source": [
    "b = np.random.randint(10, 20 , (5 , 3 ))\n",
    "b"
   ]
  },
  {
   "cell_type": "code",
   "execution_count": 201,
   "id": "17db1b10-848b-491b-a3cd-6bc290d97fda",
   "metadata": {},
   "outputs": [
    {
     "data": {
      "text/plain": [
       "numpy.ndarray"
      ]
     },
     "execution_count": 201,
     "metadata": {},
     "output_type": "execute_result"
    }
   ],
   "source": [
    "type(b)"
   ]
  },
  {
   "cell_type": "code",
   "execution_count": 205,
   "id": "076d58ff-b348-4c64-910d-184b1ef71fb5",
   "metadata": {},
   "outputs": [
    {
     "data": {
      "text/plain": [
       "array([[13, 11, 15],\n",
       "       [17, 14, 17],\n",
       "       [17, 16, 15],\n",
       "       [11, 19, 12],\n",
       "       [11, 10, 15]])"
      ]
     },
     "execution_count": 205,
     "metadata": {},
     "output_type": "execute_result"
    }
   ],
   "source": [
    "b"
   ]
  },
  {
   "cell_type": "code",
   "execution_count": 207,
   "id": "5608a9e7-cf78-4c7c-948f-c2232c3443f9",
   "metadata": {},
   "outputs": [
    {
     "data": {
      "text/plain": [
       "array([[13, 11, 15],\n",
       "       [17, 14, 17],\n",
       "       [17, 16, 15],\n",
       "       [11, 19, 12],\n",
       "       [11, 10, 15]])"
      ]
     },
     "execution_count": 207,
     "metadata": {},
     "output_type": "execute_result"
    }
   ],
   "source": [
    "b[:]"
   ]
  },
  {
   "cell_type": "code",
   "execution_count": 209,
   "id": "2689eba0-144b-45b0-a6cc-dd5aeb883d76",
   "metadata": {},
   "outputs": [
    {
     "data": {
      "text/plain": [
       "array([[19, 12, 15, 19],\n",
       "       [17, 13, 11, 10],\n",
       "       [10, 15, 11, 11],\n",
       "       [13, 13, 11, 18],\n",
       "       [14, 15, 17, 10]])"
      ]
     },
     "execution_count": 209,
     "metadata": {},
     "output_type": "execute_result"
    }
   ],
   "source": [
    "b = np.random.randint(10,20,(5,4))\n",
    "b"
   ]
  },
  {
   "cell_type": "code",
   "execution_count": 210,
   "id": "3c8248a7-dac8-44d2-96b0-ab0fae56eef4",
   "metadata": {},
   "outputs": [
    {
     "data": {
      "text/plain": [
       "array([[19, 12, 15, 19],\n",
       "       [17, 13, 11, 10],\n",
       "       [10, 15, 11, 11],\n",
       "       [13, 13, 11, 18],\n",
       "       [14, 15, 17, 10]])"
      ]
     },
     "execution_count": 210,
     "metadata": {},
     "output_type": "execute_result"
    }
   ],
   "source": [
    "b[:]"
   ]
  },
  {
   "cell_type": "code",
   "execution_count": 212,
   "id": "b7c68b62-d0f3-4571-a692-89de29779de5",
   "metadata": {},
   "outputs": [
    {
     "data": {
      "text/plain": [
       "array([[17, 13, 11, 10],\n",
       "       [10, 15, 11, 11]])"
      ]
     },
     "execution_count": 212,
     "metadata": {},
     "output_type": "execute_result"
    }
   ],
   "source": [
    "b[1:3]"
   ]
  },
  {
   "cell_type": "code",
   "execution_count": 214,
   "id": "ed7a780d-6820-41b5-8a49-0f7997304a06",
   "metadata": {},
   "outputs": [
    {
     "data": {
      "text/plain": [
       "11"
      ]
     },
     "execution_count": 214,
     "metadata": {},
     "output_type": "execute_result"
    }
   ],
   "source": [
    "b[1,2]"
   ]
  },
  {
   "cell_type": "code",
   "execution_count": 215,
   "id": "b78fc0ce-2193-4ad9-a598-625bea371620",
   "metadata": {},
   "outputs": [
    {
     "data": {
      "text/plain": [
       "array([[19, 12, 15, 19],\n",
       "       [17, 13, 11, 10],\n",
       "       [10, 15, 11, 11],\n",
       "       [13, 13, 11, 18],\n",
       "       [14, 15, 17, 10]])"
      ]
     },
     "execution_count": 215,
     "metadata": {},
     "output_type": "execute_result"
    }
   ],
   "source": [
    "b"
   ]
  },
  {
   "cell_type": "code",
   "execution_count": 218,
   "id": "f314b4b4-d0be-4af1-9212-88c9e3902673",
   "metadata": {},
   "outputs": [
    {
     "data": {
      "text/plain": [
       "10"
      ]
     },
     "execution_count": 218,
     "metadata": {},
     "output_type": "execute_result"
    }
   ],
   "source": [
    "b[1,3]"
   ]
  },
  {
   "cell_type": "code",
   "execution_count": 220,
   "id": "5ff3f980-eb77-4372-8f1e-2e143da77fe7",
   "metadata": {},
   "outputs": [
    {
     "data": {
      "text/plain": [
       "10"
      ]
     },
     "execution_count": 220,
     "metadata": {},
     "output_type": "execute_result"
    }
   ],
   "source": [
    "b[1,-1]"
   ]
  },
  {
   "cell_type": "code",
   "execution_count": 221,
   "id": "328f2799-9f24-432f-a221-e6fbb4eb1c4f",
   "metadata": {},
   "outputs": [
    {
     "data": {
      "text/plain": [
       "array([[10, 15, 11, 11]])"
      ]
     },
     "execution_count": 221,
     "metadata": {},
     "output_type": "execute_result"
    }
   ],
   "source": [
    "b[2:3]"
   ]
  },
  {
   "cell_type": "code",
   "execution_count": 224,
   "id": "b52d36b9-22ec-4268-b5f6-22a398baec34",
   "metadata": {},
   "outputs": [
    {
     "data": {
      "text/plain": [
       "array([[19, 12, 15, 19],\n",
       "       [17, 13, 11, 10],\n",
       "       [10, 15, 11, 11]])"
      ]
     },
     "execution_count": 224,
     "metadata": {},
     "output_type": "execute_result"
    }
   ],
   "source": [
    "b[0:-2]"
   ]
  },
  {
   "cell_type": "code",
   "execution_count": 225,
   "id": "dd2babec-caf6-4e89-8af0-b8f21bf7dc75",
   "metadata": {},
   "outputs": [
    {
     "data": {
      "text/plain": [
       "array([[19, 12, 15, 19],\n",
       "       [17, 13, 11, 10],\n",
       "       [10, 15, 11, 11],\n",
       "       [13, 13, 11, 18],\n",
       "       [14, 15, 17, 10]])"
      ]
     },
     "execution_count": 225,
     "metadata": {},
     "output_type": "execute_result"
    }
   ],
   "source": [
    "b"
   ]
  },
  {
   "cell_type": "code",
   "execution_count": 226,
   "id": "2860143d-7866-4b58-be9a-4f240682ea16",
   "metadata": {},
   "outputs": [
    {
     "data": {
      "text/plain": [
       "15"
      ]
     },
     "execution_count": 226,
     "metadata": {},
     "output_type": "execute_result"
    }
   ],
   "source": [
    "b[0,2]"
   ]
  },
  {
   "cell_type": "code",
   "execution_count": 228,
   "id": "883cdcfb-fc0d-45ef-8624-6d3cb2f5974b",
   "metadata": {},
   "outputs": [
    {
     "data": {
      "text/plain": [
       "12"
      ]
     },
     "execution_count": 228,
     "metadata": {},
     "output_type": "execute_result"
    }
   ],
   "source": [
    "b[-5,-3]"
   ]
  },
  {
   "cell_type": "code",
   "execution_count": 231,
   "id": "b82213dd-8e38-44da-9f20-cd95f8dbeb80",
   "metadata": {},
   "outputs": [
    {
     "data": {
      "text/plain": [
       "19"
      ]
     },
     "execution_count": 231,
     "metadata": {},
     "output_type": "execute_result"
    }
   ],
   "source": [
    "b[-5,3]"
   ]
  },
  {
   "cell_type": "code",
   "execution_count": 232,
   "id": "8d2b2eb5-4863-4a86-a053-837e08e3227a",
   "metadata": {},
   "outputs": [
    {
     "data": {
      "text/plain": [
       "11"
      ]
     },
     "execution_count": 232,
     "metadata": {},
     "output_type": "execute_result"
    }
   ],
   "source": [
    "b[-4, 2]"
   ]
  },
  {
   "cell_type": "markdown",
   "id": "1f079dad-1295-464c-baf7-fb102eb160a6",
   "metadata": {},
   "source": [
    "## operations \n"
   ]
  },
  {
   "cell_type": "code",
   "execution_count": 237,
   "id": "dbac1a68-3732-4c5f-a7ca-a3d451107d18",
   "metadata": {},
   "outputs": [
    {
     "data": {
      "text/plain": [
       "array([14, 16, 15, 18, 11, 11, 11, 12, 14, 10, 16, 17, 15, 15, 12, 19, 14,\n",
       "       10, 15, 12, 14, 13, 18, 12, 17, 11, 13, 15, 11, 11])"
      ]
     },
     "execution_count": 237,
     "metadata": {},
     "output_type": "execute_result"
    }
   ],
   "source": [
    "a = np.random.randint(10,20,30)\n",
    "a"
   ]
  },
  {
   "cell_type": "code",
   "execution_count": 238,
   "id": "2b6a5bc3-95c4-4251-8f68-33aa3d45f523",
   "metadata": {},
   "outputs": [],
   "source": [
    "from numpy import *"
   ]
  },
  {
   "cell_type": "code",
   "execution_count": null,
   "id": "7392d5cb-3ed5-41fc-8990-4dfc78ec93de",
   "metadata": {},
   "outputs": [],
   "source": []
  },
  {
   "cell_type": "code",
   "execution_count": null,
   "id": "b4fc04d5-1c96-4470-bea8-efcaf793b965",
   "metadata": {},
   "outputs": [],
   "source": []
  },
  {
   "cell_type": "code",
   "execution_count": null,
   "id": "e26b079b-5366-4bf3-a300-eae401855a3f",
   "metadata": {},
   "outputs": [],
   "source": []
  }
 ],
 "metadata": {
  "kernelspec": {
   "display_name": "Python [conda env:base] *",
   "language": "python",
   "name": "conda-base-py"
  },
  "language_info": {
   "codemirror_mode": {
    "name": "ipython",
    "version": 3
   },
   "file_extension": ".py",
   "mimetype": "text/x-python",
   "name": "python",
   "nbconvert_exporter": "python",
   "pygments_lexer": "ipython3",
   "version": "3.12.7"
  }
 },
 "nbformat": 4,
 "nbformat_minor": 5
}
