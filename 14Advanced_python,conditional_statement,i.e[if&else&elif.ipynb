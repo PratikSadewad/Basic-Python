{
 "cells": [
  {
   "cell_type": "markdown",
   "id": "cc721fbe-f4c5-4efa-8d35-61af60dc18f0",
   "metadata": {},
   "source": [
    "# Advance python \n",
    " ## Conditional statement\n",
    " ### if\n",
    " ### else \n",
    " ### if else\n",
    " ### if elif else\n",
    " ### nested if (slows frontend hence not used)"
   ]
  },
  {
   "cell_type": "code",
   "execution_count": 2,
   "id": "d357f385-67d9-4467-ae67-7fc8f5da1ac9",
   "metadata": {},
   "outputs": [
    {
     "name": "stdout",
     "output_type": "stream",
     "text": [
      "Data science\n"
     ]
    }
   ],
   "source": [
    "if True:                   # indentation is always 4 spaces \n",
    "    print('Data science')"
   ]
  },
  {
   "cell_type": "code",
   "execution_count": 3,
   "id": "ff427f71-8f38-4d43-8711-1f54b2881756",
   "metadata": {},
   "outputs": [
    {
     "name": "stdout",
     "output_type": "stream",
     "text": [
      "bye for now\n"
     ]
    }
   ],
   "source": [
    "if False:\n",
    "    print('Data science')\n",
    "print(\"bye for now\")"
   ]
  },
  {
   "cell_type": "code",
   "execution_count": 6,
   "id": "7ab19c0f-3706-4561-980a-25558fa4d4ac",
   "metadata": {},
   "outputs": [
    {
     "name": "stdout",
     "output_type": "stream",
     "text": [
      "Data science\n",
      "bye for now\n"
     ]
    }
   ],
   "source": [
    "if True:\n",
    "    print('Data science')\n",
    "print(\"bye for now\")"
   ]
  },
  {
   "cell_type": "code",
   "execution_count": 8,
   "id": "a6b66486-e10e-477d-b772-21ee26e847a2",
   "metadata": {},
   "outputs": [
    {
     "name": "stdout",
     "output_type": "stream",
     "text": [
      "Data science\n"
     ]
    }
   ],
   "source": [
    "if True:\n",
    "    print('Data science')\n",
    "else:\n",
    "    print('bye for now')"
   ]
  },
  {
   "cell_type": "code",
   "execution_count": 10,
   "id": "990387fa-f51a-4469-a467-41df056fb979",
   "metadata": {},
   "outputs": [
    {
     "name": "stdout",
     "output_type": "stream",
     "text": [
      "bye for now\n"
     ]
    }
   ],
   "source": [
    "if False:\n",
    "    print('Data science')\n",
    "else:\n",
    "    print('bye for now')"
   ]
  },
  {
   "cell_type": "code",
   "execution_count": 12,
   "id": "8cd179d1-5bfd-43c7-bab7-1353ebfe3677",
   "metadata": {},
   "outputs": [
    {
     "name": "stdout",
     "output_type": "stream",
     "text": [
      "even number\n"
     ]
    }
   ],
   "source": [
    "x = 4 \n",
    "r = x%2\n",
    "\n",
    "if r ==0:print(\"even number\")"
   ]
  },
  {
   "cell_type": "code",
   "execution_count": 14,
   "id": "47a71b50-45c3-4773-ab4f-a7848c4f583c",
   "metadata": {},
   "outputs": [
    {
     "name": "stdout",
     "output_type": "stream",
     "text": [
      "odd number\n"
     ]
    }
   ],
   "source": [
    "x = 5\n",
    "r = x%2\n",
    "\n",
    "if r ==0:\n",
    "    print(\"even number\")\n",
    "if r ==1:\n",
    "    print(\"odd number\")"
   ]
  },
  {
   "cell_type": "code",
   "execution_count": 16,
   "id": "13aef7cc-c91f-43e7-ad11-87d213255a6c",
   "metadata": {},
   "outputs": [
    {
     "name": "stdout",
     "output_type": "stream",
     "text": [
      "odd number\n"
     ]
    }
   ],
   "source": [
    "x = 5\n",
    "r = x%2\n",
    "\n",
    "if r ==0:\n",
    "    print(\"even number\")\n",
    "if r ==1:\n",
    "    print(\"odd number\")"
   ]
  },
  {
   "cell_type": "code",
   "execution_count": 18,
   "id": "f5d22303-e4cb-4808-b3f7-b09c6a4fd44e",
   "metadata": {},
   "outputs": [
    {
     "name": "stdout",
     "output_type": "stream",
     "text": [
      "even number\n"
     ]
    }
   ],
   "source": [
    "x = 8\n",
    "r = x%2\n",
    "\n",
    "if r ==0:\n",
    "    print(\"even number\")\n",
    "if r ==1:\n",
    "    print(\"odd number\")"
   ]
  },
  {
   "cell_type": "code",
   "execution_count": 20,
   "id": "0a6ffd15-b646-4995-bb87-6506fcd5f35d",
   "metadata": {},
   "outputs": [
    {
     "name": "stdout",
     "output_type": "stream",
     "text": [
      "odd number\n"
     ]
    }
   ],
   "source": [
    "x = 5\n",
    "r = x%2\n",
    "\n",
    "if r ==0:\n",
    "    print(\"even number\")\n",
    "else:\n",
    "    print(\"odd number\")"
   ]
  },
  {
   "cell_type": "code",
   "execution_count": 22,
   "id": "75804bfc-d8d0-498f-8922-cfc7159816f4",
   "metadata": {},
   "outputs": [
    {
     "name": "stdout",
     "output_type": "stream",
     "text": [
      "odd number\n"
     ]
    }
   ],
   "source": [
    "# nested if\n",
    "x =5 \n",
    "r = x%2\n",
    "\n",
    "if r==0:\n",
    "    print(\"even number\")\n",
    "    if x >5:print('greater number')\n",
    "else:\n",
    "    print('odd number')"
   ]
  },
  {
   "cell_type": "code",
   "execution_count": 24,
   "id": "3367f10b-ea4f-4d62-99fc-7abfd2c4d5d0",
   "metadata": {},
   "outputs": [
    {
     "name": "stdout",
     "output_type": "stream",
     "text": [
      "even numbers\n",
      "lesser number\n"
     ]
    }
   ],
   "source": [
    "x = 4\n",
    "r= x % 2\n",
    "\n",
    "if r ==0:\n",
    "    print('even numbers')\n",
    "    if x >5:\n",
    "        print(\"greater number\")\n",
    "    else:\n",
    "        print('lesser number')\n",
    "else:\n",
    "    print('odd number')\n",
    "    "
   ]
  },
  {
   "cell_type": "code",
   "execution_count": 26,
   "id": "0f4407a2-c6be-4d10-a6ea-e14070cf2068",
   "metadata": {},
   "outputs": [
    {
     "name": "stdout",
     "output_type": "stream",
     "text": [
      "even numbers\n",
      "greater number\n"
     ]
    }
   ],
   "source": [
    "x = 6\n",
    "r= x % 2\n",
    "\n",
    "if r ==0:\n",
    "    print('even numbers')\n",
    "    if x >5:\n",
    "        print(\"greater number\")\n",
    "    else:\n",
    "        print('not greater')\n",
    "else:\n",
    "    print('odd number')\n",
    "    "
   ]
  },
  {
   "cell_type": "code",
   "execution_count": 27,
   "id": "33841f7c-d9a9-4331-afe2-37c3e8dd66d6",
   "metadata": {},
   "outputs": [],
   "source": [
    "x = 5\n",
    "if x==1 :\n",
    "    print('one')\n",
    "if x ==2:\n",
    "    print('two')\n",
    "if x ==3:\n",
    "    print('three')\n",
    "if x==4:\n",
    "    print('four')"
   ]
  },
  {
   "cell_type": "code",
   "execution_count": 30,
   "id": "29028004-1cfd-4596-a143-b31c3bc3f306",
   "metadata": {},
   "outputs": [
    {
     "name": "stdout",
     "output_type": "stream",
     "text": [
      "Number not found\n"
     ]
    }
   ],
   "source": [
    "x = 7\n",
    "if x==1 :\n",
    "    print('one')\n",
    "if x ==2:\n",
    "    print('two')\n",
    "if x ==3:\n",
    "    print('three')\n",
    "if x==4:\n",
    "    print('four')\n",
    "else:\n",
    "    print('Number not found')"
   ]
  },
  {
   "cell_type": "code",
   "execution_count": 32,
   "id": "0e722b75-26ce-4dcb-aaa2-568012a0d258",
   "metadata": {},
   "outputs": [
    {
     "name": "stdout",
     "output_type": "stream",
     "text": [
      "Number not found\n"
     ]
    }
   ],
   "source": [
    "x = 6\n",
    "if x==1 :\n",
    "    print('one')\n",
    "elif x ==2:\n",
    "    print('two')\n",
    "elif x ==3:\n",
    "    print('three')\n",
    "elif x==4:\n",
    "    print('four')\n",
    "else:\n",
    "    print('Number not found')"
   ]
  },
  {
   "cell_type": "code",
   "execution_count": 34,
   "id": "2847f844-711f-4b39-9092-41d4dca3c979",
   "metadata": {},
   "outputs": [
    {
     "name": "stdin",
     "output_type": "stream",
     "text": [
      "Enter the number 8\n"
     ]
    },
    {
     "name": "stdout",
     "output_type": "stream",
     "text": [
      "even number\n",
      "Greater number than x value\n"
     ]
    }
   ],
   "source": [
    "x = int(input('Enter the number'))\n",
    "r = x%2\n",
    "\n",
    "if r == 0:\n",
    "    print(\"even number\")\n",
    "    if x>3:\n",
    "        print('Greater number than x value')\n",
    "else:\n",
    "    print('odd number')"
   ]
  },
  {
   "cell_type": "code",
   "execution_count": 36,
   "id": "82992784-a2b3-4153-916d-c1bf95c5ca62",
   "metadata": {},
   "outputs": [
    {
     "name": "stdin",
     "output_type": "stream",
     "text": [
      "enter the number 82\n"
     ]
    },
    {
     "name": "stdout",
     "output_type": "stream",
     "text": [
      "non divisible by 3\n"
     ]
    }
   ],
   "source": [
    "x = int(input('enter the number'))\n",
    "r = x%3\n",
    "\n",
    "if  r ==0:\n",
    "    print('divisible by three')\n",
    "    if x >3:\n",
    "        print ('number is larger than 3')\n",
    "    else:\n",
    "        print('number is smaller than 3')\n",
    "else:\n",
    "    print('non divisible by 3')"
   ]
  },
  {
   "cell_type": "code",
   "execution_count": null,
   "id": "2bcb5ced-75ab-42ab-baf2-96bfeec09c66",
   "metadata": {},
   "outputs": [],
   "source": []
  }
 ],
 "metadata": {
  "kernelspec": {
   "display_name": "Python [conda env:base] *",
   "language": "python",
   "name": "conda-base-py"
  },
  "language_info": {
   "codemirror_mode": {
    "name": "ipython",
    "version": 3
   },
   "file_extension": ".py",
   "mimetype": "text/x-python",
   "name": "python",
   "nbconvert_exporter": "python",
   "pygments_lexer": "ipython3",
   "version": "3.12.7"
  }
 },
 "nbformat": 4,
 "nbformat_minor": 5
}
