{
 "cells": [
  {
   "cell_type": "code",
   "execution_count": 1,
   "id": "5654f26a-916d-44fa-9185-876806067f05",
   "metadata": {},
   "outputs": [
    {
     "data": {
      "text/plain": [
       "list"
      ]
     },
     "execution_count": 1,
     "metadata": {},
     "output_type": "execute_result"
    }
   ],
   "source": [
    "l=[]\n",
    "type(l)"
   ]
  },
  {
   "cell_type": "code",
   "execution_count": 2,
   "id": "679b115b-0e4e-4b07-bc34-0da7b5d8e878",
   "metadata": {},
   "outputs": [
    {
     "name": "stdout",
     "output_type": "stream",
     "text": [
      "[]\n"
     ]
    }
   ],
   "source": [
    "print(l)"
   ]
  },
  {
   "cell_type": "code",
   "execution_count": 3,
   "id": "1b7bd213-cd01-45cf-b2d9-a0e50452ea93",
   "metadata": {},
   "outputs": [],
   "source": [
    "l.clear()"
   ]
  },
  {
   "cell_type": "code",
   "execution_count": 4,
   "id": "80190b88-ca92-49a1-bd53-6aad1bd47619",
   "metadata": {},
   "outputs": [
    {
     "name": "stdout",
     "output_type": "stream",
     "text": [
      "[]\n"
     ]
    }
   ],
   "source": [
    "print(l)\n"
   ]
  },
  {
   "cell_type": "code",
   "execution_count": 5,
   "id": "893fc098-aef2-488b-9a11-e9e5f2500706",
   "metadata": {},
   "outputs": [],
   "source": [
    "l.append(10)\n"
   ]
  },
  {
   "cell_type": "code",
   "execution_count": 6,
   "id": "299837a8-02ee-4a21-b4f8-1a566c9b69fc",
   "metadata": {},
   "outputs": [],
   "source": [
    "l.append(20)\n",
    "l.append(30)\n",
    "l.append(40)\n",
    "l.append(50)"
   ]
  },
  {
   "cell_type": "code",
   "execution_count": 7,
   "id": "c4a0712b-e604-4c35-a069-0a502fd3d3a6",
   "metadata": {},
   "outputs": [
    {
     "data": {
      "text/plain": [
       "5"
      ]
     },
     "execution_count": 7,
     "metadata": {},
     "output_type": "execute_result"
    }
   ],
   "source": [
    "len(l)"
   ]
  },
  {
   "cell_type": "code",
   "execution_count": 8,
   "id": "9e7d7218-ba51-466d-b2bf-ef689e2bbb98",
   "metadata": {},
   "outputs": [],
   "source": [
    "l1 = l.copy()"
   ]
  },
  {
   "cell_type": "code",
   "execution_count": 9,
   "id": "574bf424-a967-4b48-a36a-986c9e280a9c",
   "metadata": {},
   "outputs": [
    {
     "name": "stdout",
     "output_type": "stream",
     "text": [
      "[10, 20, 30, 40, 50]\n"
     ]
    }
   ],
   "source": [
    "print(l1)"
   ]
  },
  {
   "cell_type": "code",
   "execution_count": 10,
   "id": "eb312d8e-4f1f-4294-9ec1-877a98a07a26",
   "metadata": {},
   "outputs": [],
   "source": [
    "l.append(20.2)\n",
    "l.append('nit')\n",
    "l.append(1+2j)\n",
    "l.append(True)"
   ]
  },
  {
   "cell_type": "code",
   "execution_count": 11,
   "id": "961e1baa-682f-43c9-a999-7adcfa11c2d6",
   "metadata": {},
   "outputs": [
    {
     "name": "stdout",
     "output_type": "stream",
     "text": [
      "[10, 20, 30, 40, 50, 20.2, 'nit', (1+2j), True]\n",
      "[10, 20, 30, 40, 50]\n"
     ]
    }
   ],
   "source": [
    "print(l)\n",
    "print(l1)"
   ]
  },
  {
   "cell_type": "code",
   "execution_count": 12,
   "id": "27bf1255-148f-4c98-a873-2a25a1fb660d",
   "metadata": {},
   "outputs": [
    {
     "data": {
      "text/plain": [
       "10"
      ]
     },
     "execution_count": 12,
     "metadata": {},
     "output_type": "execute_result"
    }
   ],
   "source": [
    "l[0]"
   ]
  },
  {
   "cell_type": "code",
   "execution_count": 13,
   "id": "eafc76b8-c61b-4d68-9684-a42951d27c38",
   "metadata": {},
   "outputs": [
    {
     "data": {
      "text/plain": [
       "[10, 20, 30, 40, 50, 20.2, 'nit', (1+2j), True]"
      ]
     },
     "execution_count": 13,
     "metadata": {},
     "output_type": "execute_result"
    }
   ],
   "source": [
    "l[:]"
   ]
  },
  {
   "cell_type": "code",
   "execution_count": 14,
   "id": "c6b2ef6f-118d-43ba-b6b3-288c8d3ec994",
   "metadata": {},
   "outputs": [],
   "source": [
    "l[0]=100"
   ]
  },
  {
   "cell_type": "code",
   "execution_count": 15,
   "id": "f57cf2e8-85d1-4456-ab0e-e640f494f040",
   "metadata": {},
   "outputs": [
    {
     "data": {
      "text/plain": [
       "100"
      ]
     },
     "execution_count": 15,
     "metadata": {},
     "output_type": "execute_result"
    }
   ],
   "source": [
    "l[0]"
   ]
  },
  {
   "cell_type": "code",
   "execution_count": 16,
   "id": "255c4cda-1ef6-45bf-be77-da89bf3b9689",
   "metadata": {},
   "outputs": [],
   "source": [
    "l.append(200)"
   ]
  },
  {
   "cell_type": "code",
   "execution_count": 17,
   "id": "ba454f89-c6c9-46ba-94d0-2edd47ea3fb6",
   "metadata": {},
   "outputs": [
    {
     "data": {
      "text/plain": [
       "200"
      ]
     },
     "execution_count": 17,
     "metadata": {},
     "output_type": "execute_result"
    }
   ],
   "source": [
    "l[-1]"
   ]
  },
  {
   "cell_type": "code",
   "execution_count": 18,
   "id": "7d66c0b2-b2a2-422b-a55f-64d9c37a23fa",
   "metadata": {},
   "outputs": [],
   "source": [
    "l2 = l.copy()"
   ]
  },
  {
   "cell_type": "code",
   "execution_count": 19,
   "id": "0e476c78-3bfa-42da-b34d-ccba9febcb15",
   "metadata": {},
   "outputs": [
    {
     "name": "stdout",
     "output_type": "stream",
     "text": [
      "[100, 20, 30, 40, 50, 20.2, 'nit', (1+2j), True, 200]\n"
     ]
    }
   ],
   "source": [
    "print(l2)"
   ]
  },
  {
   "cell_type": "code",
   "execution_count": 20,
   "id": "70932e2f-d352-4f9d-ba77-6a5f4c63d677",
   "metadata": {},
   "outputs": [],
   "source": [
    "del(l2)"
   ]
  },
  {
   "cell_type": "code",
   "execution_count": null,
   "id": "b8d7c474-7057-4c5d-8ed1-36d739f56307",
   "metadata": {},
   "outputs": [],
   "source": []
  },
  {
   "cell_type": "code",
   "execution_count": 21,
   "id": "090034ff-6576-4525-a9cf-face290cc68c",
   "metadata": {},
   "outputs": [],
   "source": [
    "#clear removes the value of the variable \n",
    "# whereas del removes the entire variable and value\n"
   ]
  },
  {
   "cell_type": "code",
   "execution_count": 22,
   "id": "b66a939e-428c-476a-b75b-48e413371bc6",
   "metadata": {},
   "outputs": [
    {
     "name": "stdout",
     "output_type": "stream",
     "text": [
      "[100, 20, 30, 40, 50, 20.2, 'nit', (1+2j), True, 200]\n"
     ]
    }
   ],
   "source": [
    "print(l)"
   ]
  },
  {
   "cell_type": "code",
   "execution_count": 23,
   "id": "ab4da3e8-951b-430b-a29f-156fbd3adddb",
   "metadata": {},
   "outputs": [
    {
     "data": {
      "text/plain": [
       "1"
      ]
     },
     "execution_count": 23,
     "metadata": {},
     "output_type": "execute_result"
    }
   ],
   "source": [
    "l.count(200)"
   ]
  },
  {
   "cell_type": "code",
   "execution_count": 24,
   "id": "773a797e-4384-4fef-a808-e9e8f7d0f8b2",
   "metadata": {},
   "outputs": [
    {
     "data": {
      "text/plain": [
       "1"
      ]
     },
     "execution_count": 24,
     "metadata": {},
     "output_type": "execute_result"
    }
   ],
   "source": [
    "l.count(20.2)"
   ]
  },
  {
   "cell_type": "code",
   "execution_count": 25,
   "id": "8edbc1f9-739b-4420-a0d6-857934f8d882",
   "metadata": {},
   "outputs": [
    {
     "data": {
      "text/plain": [
       "1"
      ]
     },
     "execution_count": 25,
     "metadata": {},
     "output_type": "execute_result"
    }
   ],
   "source": [
    "l.count('nit')"
   ]
  },
  {
   "cell_type": "code",
   "execution_count": 26,
   "id": "5cccb7bc-468b-4517-a57d-2ccf2e66e5e3",
   "metadata": {},
   "outputs": [
    {
     "ename": "TypeError",
     "evalue": "'int' object is not subscriptable",
     "output_type": "error",
     "traceback": [
      "\u001b[1;31m---------------------------------------------------------------------------\u001b[0m",
      "\u001b[1;31mTypeError\u001b[0m                                 Traceback (most recent call last)",
      "Cell \u001b[1;32mIn[26], line 1\u001b[0m\n\u001b[1;32m----> 1\u001b[0m \u001b[38;5;28mprint\u001b[39m(l[\u001b[38;5;241m4\u001b[39m] [\u001b[38;5;241m0\u001b[39m])\n",
      "\u001b[1;31mTypeError\u001b[0m: 'int' object is not subscriptable"
     ]
    }
   ],
   "source": [
    "print(l[4] [0])"
   ]
  },
  {
   "cell_type": "code",
   "execution_count": null,
   "id": "3044aba7-e725-4fd7-81af-4443828fd862",
   "metadata": {},
   "outputs": [],
   "source": [
    "l.index('nit')"
   ]
  },
  {
   "cell_type": "code",
   "execution_count": null,
   "id": "d970e518-2fa1-413e-b567-fd28cbdf07eb",
   "metadata": {},
   "outputs": [],
   "source": [
    "l[6]"
   ]
  },
  {
   "cell_type": "code",
   "execution_count": null,
   "id": "ef0b3fdf-fb53-412a-9ea8-730b7fa36874",
   "metadata": {},
   "outputs": [],
   "source": [
    "print(l[6][0])\n",
    "print(l[6][1])\n",
    "print(l[6][2])"
   ]
  },
  {
   "cell_type": "code",
   "execution_count": null,
   "id": "cb97b005-812e-45a9-8b94-d7e3c54af0b4",
   "metadata": {},
   "outputs": [],
   "source": [
    "l"
   ]
  },
  {
   "cell_type": "code",
   "execution_count": null,
   "id": "20bfddb0-6c45-4ef8-a268-6f49b1a618e3",
   "metadata": {},
   "outputs": [],
   "source": [
    "l.remove(20.2)"
   ]
  },
  {
   "cell_type": "code",
   "execution_count": null,
   "id": "62cc4529-044d-4eca-bcad-3cd2075f3589",
   "metadata": {},
   "outputs": [],
   "source": [
    "l\n"
   ]
  },
  {
   "cell_type": "code",
   "execution_count": null,
   "id": "defb6d1c-610b-47af-a078-9d8eeb8f03c7",
   "metadata": {},
   "outputs": [],
   "source": [
    "l.remove('nit')"
   ]
  },
  {
   "cell_type": "code",
   "execution_count": null,
   "id": "1768db3e-171f-42c3-bca5-0344aa4d9ab5",
   "metadata": {},
   "outputs": [],
   "source": [
    "l.append(250)"
   ]
  },
  {
   "cell_type": "code",
   "execution_count": null,
   "id": "39b553fd-3c72-4341-9e3f-96dc878e31ad",
   "metadata": {},
   "outputs": [],
   "source": [
    "l.insert(5 , 260 )"
   ]
  },
  {
   "cell_type": "code",
   "execution_count": null,
   "id": "16d4d9c9-a44e-41cb-ad5a-f4d8a809221a",
   "metadata": {},
   "outputs": [],
   "source": [
    "#append to add a value at last \n",
    "#insert to add value at a perticular index hence 5 is index (place ) and 260 is the value"
   ]
  },
  {
   "cell_type": "code",
   "execution_count": null,
   "id": "b597da9d-50d1-4e80-8913-2e0884ff9594",
   "metadata": {},
   "outputs": [],
   "source": [
    "l"
   ]
  },
  {
   "cell_type": "code",
   "execution_count": null,
   "id": "f0ea849d-a22d-403c-97e8-17a8690a03a6",
   "metadata": {},
   "outputs": [],
   "source": [
    "len(l)"
   ]
  },
  {
   "cell_type": "code",
   "execution_count": null,
   "id": "87e5c9ab-b6af-4313-94e9-aa1c4d8fc114",
   "metadata": {},
   "outputs": [],
   "source": [
    "l.pop()"
   ]
  },
  {
   "cell_type": "code",
   "execution_count": null,
   "id": "5280e6dc-d0d9-4069-b817-2a4ea3e1e787",
   "metadata": {},
   "outputs": [],
   "source": [
    "#pop shows any index given or last if not "
   ]
  },
  {
   "cell_type": "code",
   "execution_count": null,
   "id": "2dbfc430-e5d9-4f28-93cd-1dc7d5a2238c",
   "metadata": {},
   "outputs": [],
   "source": [
    "l.pop(5)"
   ]
  },
  {
   "cell_type": "code",
   "execution_count": null,
   "id": "7db5a69a-b224-46c0-b2f7-064e44a32af3",
   "metadata": {},
   "outputs": [],
   "source": [
    "l.remove(200)"
   ]
  },
  {
   "cell_type": "code",
   "execution_count": null,
   "id": "129f2a24-8b51-4330-8910-e36f5e750949",
   "metadata": {},
   "outputs": [],
   "source": [
    "#remove deletes given index"
   ]
  },
  {
   "cell_type": "code",
   "execution_count": null,
   "id": "360aa22f-fb52-4b4c-b8b1-4ef754a23c46",
   "metadata": {},
   "outputs": [],
   "source": [
    "l"
   ]
  },
  {
   "cell_type": "code",
   "execution_count": null,
   "id": "562e1218-456f-4bc6-9190-4179967518d1",
   "metadata": {},
   "outputs": [],
   "source": [
    "len(l)"
   ]
  },
  {
   "cell_type": "code",
   "execution_count": null,
   "id": "bf22d6cb-ef8c-4aa3-a012-8d16f3858ecc",
   "metadata": {},
   "outputs": [],
   "source": [
    "#extend can merge two variabels \n"
   ]
  },
  {
   "cell_type": "code",
   "execution_count": null,
   "id": "c983c336-6b12-4b54-ab85-cd5336d77320",
   "metadata": {},
   "outputs": [],
   "source": [
    "l.extend(l1)"
   ]
  },
  {
   "cell_type": "code",
   "execution_count": null,
   "id": "da8bbaba-4aae-4c6b-9346-dd4c057694dc",
   "metadata": {},
   "outputs": [],
   "source": [
    "l"
   ]
  },
  {
   "cell_type": "code",
   "execution_count": null,
   "id": "7bf2e33c-bbd1-4f8a-8e54-d5a7c076f383",
   "metadata": {},
   "outputs": [],
   "source": [
    "l.reverse()"
   ]
  },
  {
   "cell_type": "code",
   "execution_count": null,
   "id": "8b202cc9-1073-447b-810d-dff408444f76",
   "metadata": {},
   "outputs": [],
   "source": [
    "l"
   ]
  },
  {
   "cell_type": "code",
   "execution_count": null,
   "id": "85d1f50c-0588-441d-a86d-7254fc63358c",
   "metadata": {},
   "outputs": [],
   "source": [
    "l.sort()"
   ]
  },
  {
   "cell_type": "code",
   "execution_count": null,
   "id": "8f9faf4b-91a0-40cb-88f4-f4ba75a6044d",
   "metadata": {},
   "outputs": [],
   "source": [
    "l1"
   ]
  },
  {
   "cell_type": "code",
   "execution_count": null,
   "id": "682be5fe-f39e-45b5-a126-c28cf2495e79",
   "metadata": {},
   "outputs": [],
   "source": [
    "l1.append(44)\n",
    "l1.append(23)\n",
    "l1.append(0.2)"
   ]
  },
  {
   "cell_type": "code",
   "execution_count": null,
   "id": "a1fe8738-76b1-4fc2-a1c8-034701a55eec",
   "metadata": {},
   "outputs": [],
   "source": [
    "l1"
   ]
  },
  {
   "cell_type": "code",
   "execution_count": null,
   "id": "e5be5b3a-d51f-410f-b6af-24925a59db7f",
   "metadata": {},
   "outputs": [],
   "source": [
    "l1.sort()"
   ]
  },
  {
   "cell_type": "code",
   "execution_count": null,
   "id": "5eb99eeb-5437-4d9f-8e78-34e06d5f29c5",
   "metadata": {},
   "outputs": [],
   "source": [
    "l1"
   ]
  },
  {
   "cell_type": "code",
   "execution_count": null,
   "id": "168dc573-f066-4d56-a758-b039b735b532",
   "metadata": {},
   "outputs": [],
   "source": [
    "#LIST IS MUTABLE . \n",
    "#when u run the list code once it gets saved\n",
    "#to revert the changes u can use remove function"
   ]
  },
  {
   "cell_type": "code",
   "execution_count": null,
   "id": "9dd5affc-6ed7-4ae3-9424-20b824c24ddf",
   "metadata": {},
   "outputs": [],
   "source": [
    "l1\n"
   ]
  },
  {
   "cell_type": "code",
   "execution_count": 49,
   "id": "a590ac2f-fb98-48af-aac2-eabc6de143ee",
   "metadata": {},
   "outputs": [],
   "source": [
    "l1.sort(reverse= True)"
   ]
  },
  {
   "cell_type": "code",
   "execution_count": 51,
   "id": "dbd6eab8-e0df-46ad-bab2-7dbd9187c511",
   "metadata": {},
   "outputs": [
    {
     "data": {
      "text/plain": [
       "[50, 40, 30, 20, 10]"
      ]
     },
     "execution_count": 51,
     "metadata": {},
     "output_type": "execute_result"
    }
   ],
   "source": [
    "l1\n"
   ]
  },
  {
   "cell_type": "code",
   "execution_count": 2,
   "id": "d0d11af3-1e98-4a2f-a454-051d753c89c4",
   "metadata": {},
   "outputs": [
    {
     "data": {
      "text/plain": [
       "['s', 'f', 'd', 's', 'a']"
      ]
     },
     "execution_count": 2,
     "metadata": {},
     "output_type": "execute_result"
    }
   ],
   "source": [
    "l6 = ['s' ,'f' ,'d' ,'s' ,'a' ]\n",
    "l6"
   ]
  },
  {
   "cell_type": "code",
   "execution_count": 4,
   "id": "1ed926ea-2c68-443f-b8be-3d42a1498ee8",
   "metadata": {},
   "outputs": [],
   "source": [
    "l6.sort()"
   ]
  },
  {
   "cell_type": "code",
   "execution_count": 8,
   "id": "e550d981-9467-45b5-82b5-907b77a3ab97",
   "metadata": {},
   "outputs": [
    {
     "data": {
      "text/plain": [
       "['a', 'd', 'f', 's', 's']"
      ]
     },
     "execution_count": 8,
     "metadata": {},
     "output_type": "execute_result"
    }
   ],
   "source": [
    "l6"
   ]
  },
  {
   "cell_type": "code",
   "execution_count": 14,
   "id": "2976db85-7742-4b70-8bce-655d96f7f8d9",
   "metadata": {},
   "outputs": [
    {
     "name": "stdout",
     "output_type": "stream",
     "text": [
      "a\n",
      "d\n",
      "f\n",
      "s\n",
      "s\n"
     ]
    }
   ],
   "source": [
    "for i in l6:\n",
    "    print(i)\n"
   ]
  },
  {
   "cell_type": "code",
   "execution_count": 16,
   "id": "1c9616b1-a382-4049-8f2f-6f0a1840a732",
   "metadata": {},
   "outputs": [
    {
     "name": "stdout",
     "output_type": "stream",
     "text": [
      "['a', 'd', 'f', 's', 's']\n",
      "['a', 'd', 'f', 's', 's']\n",
      "['a', 'd', 'f', 's', 's']\n",
      "['a', 'd', 'f', 's', 's']\n",
      "['a', 'd', 'f', 's', 's']\n"
     ]
    }
   ],
   "source": [
    "for i in l6:\n",
    "    print(l6)\n",
    "    "
   ]
  },
  {
   "cell_type": "code",
   "execution_count": 18,
   "id": "70056ce4-d0cc-450f-b168-6d1370ab13f3",
   "metadata": {},
   "outputs": [
    {
     "name": "stdout",
     "output_type": "stream",
     "text": [
      "(0, 'a')\n",
      "(1, 'd')\n",
      "(2, 'f')\n",
      "(3, 's')\n",
      "(4, 's')\n"
     ]
    }
   ],
   "source": [
    "for i in enumerate(l6):\n",
    "        print(i)\n",
    "\n"
   ]
  },
  {
   "cell_type": "code",
   "execution_count": null,
   "id": "cc56f1a4-027c-4fa4-b405-d04abb79eab6",
   "metadata": {},
   "outputs": [],
   "source": [
    "# list  complete"
   ]
  }
 ],
 "metadata": {
  "kernelspec": {
   "display_name": "Python [conda env:base] *",
   "language": "python",
   "name": "conda-base-py"
  },
  "language_info": {
   "codemirror_mode": {
    "name": "ipython",
    "version": 3
   },
   "file_extension": ".py",
   "mimetype": "text/x-python",
   "name": "python",
   "nbconvert_exporter": "python",
   "pygments_lexer": "ipython3",
   "version": "3.12.7"
  }
 },
 "nbformat": 4,
 "nbformat_minor": 5
}
